{
 "cells": [
  {
   "cell_type": "code",
   "execution_count": 2,
   "id": "688f30f5-aa96-4826-8ce7-880967fbe153",
   "metadata": {},
   "outputs": [],
   "source": [
    "from automorphisms import *\n",
    "from utils.qec import *\n",
    "from utils.qiskit import *\n",
    "from magma_interface import *\n",
    "import pickle"
   ]
  },
  {
   "cell_type": "markdown",
   "id": "0ec587a2-32ed-4e91-954d-6aeedc3f63b4",
   "metadata": {},
   "source": [
    "## [[7,1,3]] "
   ]
  },
  {
   "cell_type": "markdown",
   "id": "c1fcd88b-e83c-4164-a2ff-d129c1b1d981",
   "metadata": {},
   "source": [
    "#### Define code"
   ]
  },
  {
   "cell_type": "code",
   "execution_count": 3,
   "id": "dea32c10-954c-47a3-a8ab-d1b8320031a4",
   "metadata": {},
   "outputs": [],
   "source": [
    "n = 7\n",
    "k = 1 \n",
    "d = 3\n",
    "H =np.array([[1,0,0,1,0,1,1],\n",
    "             [0,1,0,1,1,0,1],\n",
    "             [0,0,1,0,1,1,1]])\n",
    "zeros = np.zeros_like(H)\n",
    "H_symp = np.array(np.vstack((np.hstack((H,zeros)),np.hstack((zeros,H)))),dtype=int)"
   ]
  },
  {
   "cell_type": "markdown",
   "id": "a1f82e60-0338-4b6c-9f4b-638566cbb356",
   "metadata": {},
   "source": [
    "#### Standard form of code"
   ]
  },
  {
   "cell_type": "code",
   "execution_count": 11,
   "id": "fc04f910-3503-46a6-bbd6-869a2cd3c128",
   "metadata": {},
   "outputs": [],
   "source": [
    "G, LX, LZ, D = compute_standard_form(H_symp)"
   ]
  },
  {
   "cell_type": "markdown",
   "id": "c8574e49-84e2-4dda-b556-f6175f1aa179",
   "metadata": {},
   "source": [
    "#### Automorphism group generators from MAGMA"
   ]
  },
  {
   "cell_type": "code",
   "execution_count": 5,
   "id": "bf24b3df-5c84-48e3-b90d-558d19df3a0d",
   "metadata": {},
   "outputs": [],
   "source": [
    "#code_auts_dict = qec_code_auts_from_magma(n,k,d,H_symp).run(fileroot='./')\n",
    "filename = f'./auts_n{n}k{k}d{d}.pkl'\n",
    "with open(filename, 'rb') as f:\n",
    "    code_auts_dict = pickle.load(f)\n",
    "#print(code_auts_dict)"
   ]
  },
  {
   "cell_type": "markdown",
   "id": "94234e33-bf22-4810-a29b-8537874c7cdc",
   "metadata": {},
   "source": [
    "#### Physical circuits of automorphism group generators"
   ]
  },
  {
   "cell_type": "code",
   "execution_count": 6,
   "id": "8e03e80e-5e38-46af-997a-2f864b7fde6e",
   "metadata": {},
   "outputs": [],
   "source": [
    "auts = code_auts_dict['auts']\n",
    "physical_circuits = []\n",
    "for num, aut in enumerate(auts):\n",
    "    #print('Aut Gen',num)\n",
    "    phys_act = circ_from_aut(H_symp,aut)        \n",
    "    phys_circ,_ = phys_act.circ()\n",
    "    circ = logical_circ_and_pauli_correct(H_symp,phys_circ).run()\n",
    "    physical_circuits.append(circ)"
   ]
  },
  {
   "cell_type": "code",
   "execution_count": 9,
   "id": "9dac0957-7cef-4418-ae0d-17389fd65a10",
   "metadata": {},
   "outputs": [
    {
     "name": "stdout",
     "output_type": "stream",
     "text": [
      "([('S', 1)], [('Z', 1), ('Z', 3), ('Z', 6), ('S', 1), ('S', 2), ('S', 3), ('S', 4), ('S', 5), ('S', 6), ('S', 7)])\n"
     ]
    }
   ],
   "source": [
    "print(physical_circuits[2])"
   ]
  },
  {
   "cell_type": "markdown",
   "id": "d9a697f4-2d6c-420e-8b13-53b837296a63",
   "metadata": {},
   "source": [
    "#### Logical circuits of automorphism group generators"
   ]
  },
  {
   "cell_type": "code",
   "execution_count": null,
   "id": "2f5b628a-e856-4930-af53-bf3a1df7cd02",
   "metadata": {},
   "outputs": [],
   "source": [
    "auts = code_auts_dict['auts']\n",
    "logical_circuits = []\n",
    "for num, aut in enumerate(auts):\n",
    "    print('Aut Gen',num+1)\n",
    "    \n",
    "print(logical_circuits)"
   ]
  },
  {
   "cell_type": "markdown",
   "id": "694a6b59-2b57-433c-a952-25aa383c3dbb",
   "metadata": {},
   "source": [
    "### Logical gate 1"
   ]
  },
  {
   "cell_type": "code",
   "execution_count": null,
   "id": "2620070b-96bf-4e95-b6e9-a52071ba6850",
   "metadata": {},
   "outputs": [],
   "source": [
    "# physical circuit\n",
    "qc = construct_circuit(physical_circuits[0], n)\n",
    "qc.draw(output='mpl')"
   ]
  },
  {
   "cell_type": "code",
   "execution_count": null,
   "id": "f6a1ce38-0ffa-4404-8c98-5fe14a39ba65",
   "metadata": {},
   "outputs": [],
   "source": [
    "# logical circuit\n",
    "qc = construct_circuit(logical_circuits[0], k)\n",
    "qc.draw(output='mpl')"
   ]
  },
  {
   "cell_type": "markdown",
   "id": "a9126b10-e2ef-4851-bcf6-4eaf402f3c63",
   "metadata": {},
   "source": [
    "### Logical gate 2"
   ]
  },
  {
   "cell_type": "code",
   "execution_count": null,
   "id": "6ea85e1a-c4fd-4c27-addc-e0a3e4c13684",
   "metadata": {},
   "outputs": [],
   "source": [
    "# physical circuit\n",
    "qc = construct_circuit(physical_circuits[1], n)\n",
    "qc.draw(output='mpl')"
   ]
  },
  {
   "cell_type": "code",
   "execution_count": null,
   "id": "e93bb6be-4b98-4b83-86df-be771e384158",
   "metadata": {},
   "outputs": [],
   "source": [
    "# logical circuit\n",
    "qc = construct_circuit(logical_circuits[1], k)\n",
    "qc.draw(output='mpl')"
   ]
  },
  {
   "cell_type": "markdown",
   "id": "2a7768e0-1ca5-4b6e-97b9-7f741663f8ff",
   "metadata": {},
   "source": [
    "### Logical gate 3"
   ]
  },
  {
   "cell_type": "code",
   "execution_count": null,
   "id": "f7fc0236-77b0-4b68-883e-a057b832e711",
   "metadata": {},
   "outputs": [],
   "source": [
    "# physical circuit\n",
    "qc = construct_circuit(physical_circuits[2], n)\n",
    "qc.draw(output='mpl')"
   ]
  },
  {
   "cell_type": "code",
   "execution_count": null,
   "id": "26387ffd-4012-4d1a-b860-0c6e19e50c0a",
   "metadata": {},
   "outputs": [],
   "source": [
    "# logical circuit\n",
    "qc = construct_circuit(logical_circuits[2], k)\n",
    "qc.draw(output='mpl')"
   ]
  },
  {
   "cell_type": "markdown",
   "id": "4981fce9-f416-47bc-a79d-ddf64c50142a",
   "metadata": {},
   "source": [
    "### Logical gate 4"
   ]
  },
  {
   "cell_type": "code",
   "execution_count": null,
   "id": "abdec436-3493-42ab-b7bf-c1ad00a5fc37",
   "metadata": {},
   "outputs": [],
   "source": [
    "# physical circuit\n",
    "qc = construct_circuit(physical_circuits[3], n)\n",
    "qc.draw(output='mpl')"
   ]
  },
  {
   "cell_type": "code",
   "execution_count": null,
   "id": "f0159cca-2e06-4610-b400-71210a6b1826",
   "metadata": {},
   "outputs": [],
   "source": [
    "# logical circuit\n",
    "qc = construct_circuit(logical_circuits[3], k)\n",
    "qc.draw(output='mpl')"
   ]
  },
  {
   "cell_type": "markdown",
   "id": "627a6345-8d0d-4686-a5b5-8f3dfdfbb175",
   "metadata": {},
   "source": [
    "### Logical gate 5"
   ]
  },
  {
   "cell_type": "code",
   "execution_count": null,
   "id": "c5404b99-99aa-43b7-8c9d-beb1b26b271b",
   "metadata": {},
   "outputs": [],
   "source": [
    "# physical circuit\n",
    "qc = construct_circuit(physical_circuits[4], n)\n",
    "qc.draw(output='mpl')"
   ]
  },
  {
   "cell_type": "code",
   "execution_count": null,
   "id": "d86a0aee-150a-4622-9ec0-72b8a4b28908",
   "metadata": {},
   "outputs": [],
   "source": [
    "# logical circuit\n",
    "qc = construct_circuit(logical_circuits[4], k)\n",
    "qc.draw(output='mpl')"
   ]
  },
  {
   "cell_type": "markdown",
   "id": "3a0af2d1-9742-41c0-b556-a04280a7413c",
   "metadata": {},
   "source": [
    "#### Logical circuit 5"
   ]
  },
  {
   "cell_type": "code",
   "execution_count": null,
   "id": "861e750f-904a-4dd9-b153-5771cfc9fc12",
   "metadata": {},
   "outputs": [],
   "source": [
    "# physical circuit\n",
    "qc = construct_circuit(physical_circuits[5], n)\n",
    "qc.draw(output='mpl')"
   ]
  },
  {
   "cell_type": "code",
   "execution_count": null,
   "id": "a46ff588-9d1b-4024-af65-3644a76df448",
   "metadata": {},
   "outputs": [],
   "source": [
    "# logical circuit\n",
    "qc = construct_circuit(logical_circuits[5], k)\n",
    "qc.draw(output='mpl')"
   ]
  }
 ],
 "metadata": {
  "kernelspec": {
   "display_name": "Python 3 (ipykernel)",
   "language": "python",
   "name": "python3"
  },
  "language_info": {
   "codemirror_mode": {
    "name": "ipython",
    "version": 3
   },
   "file_extension": ".py",
   "mimetype": "text/x-python",
   "name": "python",
   "nbconvert_exporter": "python",
   "pygments_lexer": "ipython3",
   "version": "3.11.5"
  }
 },
 "nbformat": 4,
 "nbformat_minor": 5
}
