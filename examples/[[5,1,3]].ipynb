{
 "cells": [
  {
   "cell_type": "code",
   "execution_count": 1,
   "id": "688f30f5-aa96-4826-8ce7-880967fbe153",
   "metadata": {},
   "outputs": [],
   "source": [
    "from automorphisms import *\n",
    "from utils.qec import *\n",
    "from utils.qiskit import *\n",
    "from magma_interface import *\n",
    "from ZX_dualities import *\n",
    "from XY_dualities import *\n",
    "import pickle"
   ]
  },
  {
   "cell_type": "markdown",
   "id": "0ec587a2-32ed-4e91-954d-6aeedc3f63b4",
   "metadata": {},
   "source": [
    "## [[5,1,3]] - 5 qubit perfect code\n",
    "\n",
    "$$S = \\langle XZZXI, IXZZX, XIXZZ, ZXIXZ \\rangle$$"
   ]
  },
  {
   "cell_type": "markdown",
   "id": "c1fcd88b-e83c-4164-a2ff-d129c1b1d981",
   "metadata": {},
   "source": [
    "#### Define code"
   ]
  },
  {
   "cell_type": "markdown",
   "id": "91f691f3-f740-45eb-9726-ce89d6f36d9e",
   "metadata": {},
   "source": [
    "#### Automorphism group generators from MAGMA"
   ]
  },
  {
   "cell_type": "code",
   "execution_count": 2,
   "id": "dea32c10-954c-47a3-a8ab-d1b8320031a4",
   "metadata": {},
   "outputs": [
    {
     "name": "stdout",
     "output_type": "stream",
     "text": [
      "[['Z', 'Z', 'X', 'I', 'X']]\n",
      "[['Z', 'I', 'I', 'Z', 'X']]\n"
     ]
    }
   ],
   "source": [
    "n = 5\n",
    "k = 1 \n",
    "d = 3\n",
    "stabs = ['XZZXI','IXZZX','XIXZZ','ZXIXZ']\n",
    "H_symp = stabs_to_H_symp(stabs)\n",
    "G,LX,LZ,D = compute_standard_form(H_symp)\n",
    "print(binary_vecs_to_paulis(G[2]))\n",
    "print(binary_vecs_to_paulis(LX))"
   ]
  },
  {
   "cell_type": "code",
   "execution_count": 3,
   "id": "bf24b3df-5c84-48e3-b90d-558d19df3a0d",
   "metadata": {},
   "outputs": [
    {
     "name": "stdout",
     "output_type": "stream",
     "text": [
      "Aut Group Order:  360\n",
      "Time:  0.01\n",
      "No of aut gens:  5\n"
     ]
    }
   ],
   "source": [
    "#code_auts_dict = qec_code_auts_from_magma_with_intersection(n,k,d,H_symp).run(fileroot='./')\n",
    "filename = f'./auts_n{n}k{k}d{d}.pkl'\n",
    "with open(filename, 'rb') as f:\n",
    "    code_auts_dict = pickle.load(f)\n",
    "print('Aut Group Order: ', code_auts_dict['order'])\n",
    "print('Time: ', code_auts_dict['time'])\n",
    "print('No of aut gens: ', len(code_auts_dict['auts']))"
   ]
  },
  {
   "cell_type": "code",
   "execution_count": 4,
   "id": "31186867-3932-45ba-9321-4ad007d24bdb",
   "metadata": {},
   "outputs": [
    {
     "name": "stdout",
     "output_type": "stream",
     "text": [
      "[('H', 1)]\n",
      "[[0 1]\n",
      " [1 0]]\n",
      "[2 0 0 2 0 2] Phase from circuit\n",
      "[2 0 2 0 2 0] Phase from logicals and stabs\n",
      "\n",
      "[]\n",
      "[[1 0]\n",
      " [0 1]]\n",
      "[2 0 2 0 0 2] Phase from circuit\n",
      "[2 0 2 0 0 2] Phase from logicals and stabs\n",
      "\n",
      "[('H', 1), ('Xsqrt', 1)]\n",
      "[[1 1]\n",
      " [1 0]]\n",
      "[0 2 2 0 1 0] Phase from circuit\n",
      "[0 2 2 0 1 2] Phase from logicals and stabs\n",
      "\n",
      "[('H', 1), ('S', 1)]\n",
      "[[0 1]\n",
      " [1 1]]\n",
      "[2 2 0 2 0 1] Phase from circuit\n",
      "[2 2 0 2 2 3] Phase from logicals and stabs\n",
      "\n",
      "[]\n",
      "[[1 0]\n",
      " [0 1]]\n",
      "[2 0 2 0 0 2] Phase from circuit\n",
      "[2 0 2 0 0 2] Phase from logicals and stabs\n",
      "\n"
     ]
    }
   ],
   "source": [
    "auts = code_auts_dict['auts']\n",
    "circuits = []\n",
    "for num, aut in enumerate(auts):\n",
    "    #print('Aut Gen',num)\n",
    "    phys_act = circ_from_aut(H_symp,aut)        \n",
    "    phys_circ, _ = phys_act.circ()\n",
    "    act = logical_circ_and_pauli_correct(H_symp,phys_circ)\n",
    "    circ = act.run()\n",
    "    circuits.append(circ)\n",
    "    print(circ[0])\n",
    "    print(act.U_logical_act())\n",
    "    print(act.new_tableux()[0],'Phase from circuit')\n",
    "    print(act.new_tableux_pauli_prod_phases(),'Phase from logicals and stabs')\n",
    "    print()"
   ]
  },
  {
   "cell_type": "markdown",
   "id": "919a9b58-482f-4504-96a5-2497ef64a128",
   "metadata": {},
   "source": [
    "## Circuit 1"
   ]
  },
  {
   "cell_type": "code",
   "execution_count": 5,
   "id": "abdec436-3493-42ab-b7bf-c1ad00a5fc37",
   "metadata": {},
   "outputs": [
    {
     "name": "stdout",
     "output_type": "stream",
     "text": [
      "[('H', 1)]\n"
     ]
    },
    {
     "data": {
      "image/png": "[encoded data removed]",
      "text/plain": [
       "<Figure size 371.107x451.5 with 1 Axes>"
      ]
     },
     "execution_count": 5,
     "metadata": {},
     "output_type": "execute_result"
    }
   ],
   "source": [
    "# physical circuit\n",
    "circ = circuits[0]\n",
    "print(circ[0])\n",
    "qc = construct_circuit(circ[1], n)\n",
    "qc.draw(output='mpl')"
   ]
  },
  {
   "cell_type": "markdown",
   "id": "b9cb7aba-0002-4141-859e-1ef144297fc8",
   "metadata": {},
   "source": [
    "## Circuit 2"
   ]
  },
  {
   "cell_type": "code",
   "execution_count": 6,
   "id": "f6ac6d36-fb85-4e71-90ee-6263e2708044",
   "metadata": {},
   "outputs": [
    {
     "name": "stdout",
     "output_type": "stream",
     "text": [
      "Logical Act: []\n"
     ]
    },
    {
     "data": {
      "image/png": "[encoded data removed]",
      "text/plain": [
       "<Figure size 454.719x451.5 with 1 Axes>"
      ]
     },
     "execution_count": 6,
     "metadata": {},
     "output_type": "execute_result"
    }
   ],
   "source": [
    "circ = circuits[1]\n",
    "print('Logical Act:', circ[0])\n",
    "qc = construct_circuit(circ[1], n)\n",
    "qc.draw(output='mpl')"
   ]
  },
  {
   "cell_type": "markdown",
   "id": "e83ccdda-1b67-4ebe-9af1-77d92ae9566d",
   "metadata": {},
   "source": [
    "## Circuit 3"
   ]
  },
  {
   "cell_type": "code",
   "execution_count": 7,
   "id": "480e8e85-112b-4dde-8bbb-0832a0f381ef",
   "metadata": {},
   "outputs": [
    {
     "name": "stdout",
     "output_type": "stream",
     "text": [
      "Logical Act: [('H', 1), ('Xsqrt', 1)]\n"
     ]
    },
    {
     "data": {
      "image/png": "[encoded data removed]",
      "text/plain": [
       "<Figure size 371.107x451.5 with 1 Axes>"
      ]
     },
     "execution_count": 7,
     "metadata": {},
     "output_type": "execute_result"
    }
   ],
   "source": [
    "circ = circuits[2]\n",
    "print('Logical Act:', circ[0])\n",
    "qc = construct_circuit(circ[1], n)\n",
    "qc.draw(output='mpl')"
   ]
  },
  {
   "cell_type": "markdown",
   "id": "360b0041-f5f5-4136-984d-6b294865aa87",
   "metadata": {},
   "source": [
    "## Circuit 4"
   ]
  },
  {
   "cell_type": "code",
   "execution_count": 8,
   "id": "3723ee3d-4ecf-4be0-acbe-c6cb088bc86c",
   "metadata": {},
   "outputs": [
    {
     "name": "stdout",
     "output_type": "stream",
     "text": [
      "Logical Act: [('H', 1), ('S', 1)]\n"
     ]
    },
    {
     "data": {
      "image/png": "[encoded data removed]",
      "text/plain": [
       "<Figure size 538.33x451.5 with 1 Axes>"
      ]
     },
     "execution_count": 8,
     "metadata": {},
     "output_type": "execute_result"
    }
   ],
   "source": [
    "circ = circuits[3]\n",
    "print('Logical Act:', circ[0])\n",
    "qc = construct_circuit(circ[1], n)\n",
    "qc.draw(output='mpl')"
   ]
  },
  {
   "cell_type": "markdown",
   "id": "a0da1686-6d9d-4455-bc71-a2ab3b433a9a",
   "metadata": {},
   "source": [
    "## Circuit 5"
   ]
  },
  {
   "cell_type": "code",
   "execution_count": 9,
   "id": "95d03562-5bf7-48cc-8b54-4a88ae6a8d9b",
   "metadata": {},
   "outputs": [
    {
     "name": "stdout",
     "output_type": "stream",
     "text": [
      "Logical Act: []\n"
     ]
    },
    {
     "data": {
      "image/png": "[encoded data removed]",
      "text/plain": [
       "<Figure size 621.941x451.5 with 1 Axes>"
      ]
     },
     "execution_count": 9,
     "metadata": {},
     "output_type": "execute_result"
    }
   ],
   "source": [
    "circ = circuits[4]\n",
    "print('Logical Act:', circ[0])\n",
    "qc = construct_circuit(circ[1], n)\n",
    "qc.draw(output='mpl')"
   ]
  },
  {
   "cell_type": "markdown",
   "id": "7de1d556-bec7-46d1-b819-783e0ee828c3",
   "metadata": {},
   "source": [
    "# ZX duality"
   ]
  },
  {
   "cell_type": "code",
   "execution_count": 10,
   "id": "cc83e8bb-d803-4be6-aecb-1fdb60596e27",
   "metadata": {},
   "outputs": [
    {
     "name": "stdout",
     "output_type": "stream",
     "text": [
      "Aut Group Order:  20\n",
      "Time:  0.01\n",
      "No of aut gens:  3\n"
     ]
    }
   ],
   "source": [
    "code_auts_dict = qec_code_ZX_dualities_from_magma_with_intersection(n,k,d,H_symp).run(fileroot='./')\n",
    "filename = f'./ZX_dualities_n{n}k{k}d{d}.pkl'\n",
    "with open(filename, 'rb') as f:\n",
    "    code_auts_dict = pickle.load(f)\n",
    "print('Aut Group Order: ', code_auts_dict['order'])\n",
    "print('Time: ', code_auts_dict['time'])\n",
    "print('No of aut gens: ', len(code_auts_dict['auts']))"
   ]
  },
  {
   "cell_type": "code",
   "execution_count": 11,
   "id": "4690234f-1ba8-450d-ae8c-391e472522df",
   "metadata": {},
   "outputs": [
    {
     "name": "stdout",
     "output_type": "stream",
     "text": [
      "[]\n",
      "[[1 0]\n",
      " [0 1]]\n",
      "[2 0 0 2 0 0] Phase from circuit\n",
      "[2 0 0 2 0 0] Phase from logicals and stabs\n",
      "[('H', 1)]\n",
      "[[0 1]\n",
      " [1 0]]\n",
      "[2 0 0 2 0 0] Phase from circuit\n",
      "[2 0 0 2 2 2] Phase from logicals and stabs\n",
      "[]\n",
      "[[1 0]\n",
      " [0 1]]\n",
      "[2 0 0 2 0 0] Phase from circuit\n",
      "[2 0 0 2 0 0] Phase from logicals and stabs\n"
     ]
    }
   ],
   "source": [
    "auts = code_auts_dict['auts']\n",
    "circuits = []\n",
    "for num, aut in enumerate(auts):\n",
    "    #print('Aut Gen',num)\n",
    "    phys_act = circ_from_ZX_duality(H_symp,aut)        \n",
    "    phys_circ, _ = phys_act.circ()\n",
    "    act = logical_circ_and_pauli_correct(H_symp,phys_circ)\n",
    "    circ = act.run()\n",
    "    circuits.append(circ)\n",
    "    print(circ[0])\n",
    "    print(act.U_logical_act())\n",
    "    print(act.new_tableux()[0],'Phase from circuit')\n",
    "    print(act.new_tableux_pauli_prod_phases(),'Phase from logicals and stabs')"
   ]
  },
  {
   "cell_type": "code",
   "execution_count": 12,
   "id": "6db3a117-c413-4d5f-93f0-2ebd48464cba",
   "metadata": {},
   "outputs": [
    {
     "name": "stdout",
     "output_type": "stream",
     "text": [
      "Logical Act: [('H', 1)]\n"
     ]
    },
    {
     "data": {
      "image/png": "[encoded data removed]",
      "text/plain": [
       "<Figure size 538.33x451.5 with 1 Axes>"
      ]
     },
     "execution_count": 12,
     "metadata": {},
     "output_type": "execute_result"
    }
   ],
   "source": [
    "circ = circuits[1]\n",
    "print('Logical Act:', circ[0])\n",
    "qc = construct_circuit(circ[1], n)\n",
    "qc.draw(output='mpl')"
   ]
  },
  {
   "cell_type": "markdown",
   "id": "9b9e351d-0147-45a3-a592-4ea0dbcadfec",
   "metadata": {},
   "source": [
    "# XY duality"
   ]
  },
  {
   "cell_type": "code",
   "execution_count": 13,
   "id": "d74dd930-549c-42da-89b2-5cef68650798",
   "metadata": {},
   "outputs": [
    {
     "name": "stdout",
     "output_type": "stream",
     "text": [
      "Aut Group Order:  20\n",
      "Time:  0.01\n",
      "No of aut gens:  3\n"
     ]
    }
   ],
   "source": [
    "code_auts_dict = qec_code_XY_dualities_from_magma_with_intersection(n,k,d,H_symp).run(fileroot='./')\n",
    "filename = f'./XY_dualities_n{n}k{k}d{d}.pkl'\n",
    "with open(filename, 'rb') as f:\n",
    "    code_auts_dict = pickle.load(f)\n",
    "print('Aut Group Order: ', code_auts_dict['order'])\n",
    "print('Time: ', code_auts_dict['time'])\n",
    "print('No of aut gens: ', len(code_auts_dict['auts']))"
   ]
  },
  {
   "cell_type": "code",
   "execution_count": 14,
   "id": "33bd4f62-e53c-441b-abc4-268ef157781d",
   "metadata": {},
   "outputs": [
    {
     "name": "stdout",
     "output_type": "stream",
     "text": [
      "[]\n",
      "[[1 0]\n",
      " [0 1]]\n",
      "[2 0 0 2 0 0] Phase from circuit\n",
      "[2 0 0 2 0 0] Phase from logicals and stabs\n",
      "[('S', 1)]\n",
      "[[1 1]\n",
      " [0 1]]\n",
      "[0 2 2 0 1 0] Phase from circuit\n",
      "[0 2 2 0 1 0] Phase from logicals and stabs\n",
      "[]\n",
      "[[1 0]\n",
      " [0 1]]\n",
      "[2 0 0 2 0 0] Phase from circuit\n",
      "[2 0 0 2 0 0] Phase from logicals and stabs\n"
     ]
    }
   ],
   "source": [
    "auts = code_auts_dict['auts']\n",
    "circuits = []\n",
    "for num, aut in enumerate(auts):\n",
    "    #print('Aut Gen',num)\n",
    "    phys_act = circ_from_XY_duality(H_symp,aut)        \n",
    "    phys_circ, _ = phys_act.circ()\n",
    "    act = logical_circ_and_pauli_correct(H_symp,phys_circ)\n",
    "    circ = act.run()\n",
    "    circuits.append(circ)\n",
    "    print(circ[0])\n",
    "    print(act.U_logical_act())\n",
    "    print(act.new_tableux()[0],'Phase from circuit')\n",
    "    print(act.new_tableux_pauli_prod_phases(),'Phase from logicals and stabs')"
   ]
  },
  {
   "cell_type": "code",
   "execution_count": 15,
   "id": "c84012e9-7d5a-49ac-be5c-7af9ca3269cb",
   "metadata": {},
   "outputs": [
    {
     "name": "stdout",
     "output_type": "stream",
     "text": [
      "Logical Act: [('S', 1)]\n"
     ]
    },
    {
     "data": {
      "image/png": "[encoded data removed]",
      "text/plain": [
       "<Figure size 454.719x451.5 with 1 Axes>"
      ]
     },
     "execution_count": 15,
     "metadata": {},
     "output_type": "execute_result"
    }
   ],
   "source": [
    "circ = circuits[1]\n",
    "print('Logical Act:', circ[0])\n",
    "qc = construct_circuit(circ[1], n)\n",
    "qc.draw(output='mpl')"
   ]
  }
 ],
 "metadata": {
  "kernelspec": {
   "display_name": "Python 3 (ipykernel)",
   "language": "python",
   "name": "python3"
  },
  "language_info": {
   "codemirror_mode": {
    "name": "ipython",
    "version": 3
   },
   "file_extension": ".py",
   "mimetype": "text/x-python",
   "name": "python",
   "nbconvert_exporter": "python",
   "pygments_lexer": "ipython3",
   "version": "3.11.5"
  }
 },
 "nbformat": 4,
 "nbformat_minor": 5
}
