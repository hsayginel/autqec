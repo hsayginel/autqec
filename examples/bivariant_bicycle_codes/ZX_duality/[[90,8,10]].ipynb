{
 "cells": [
  {
   "cell_type": "code",
   "execution_count": null,
   "id": "688f30f5-aa96-4826-8ce7-880967fbe153",
   "metadata": {},
   "outputs": [],
   "source": [
    "from automorphisms import *\n",
    "from ZX_dualities import *\n",
    "from utils.qec import *\n",
    "from utils.qiskit import *\n",
    "from utils.magma import *\n",
    "import pickle"
   ]
  },
  {
   "cell_type": "markdown",
   "id": "0ec587a2-32ed-4e91-954d-6aeedc3f63b4",
   "metadata": {},
   "source": [
    "## [[90,8,10]] "
   ]
  },
  {
   "cell_type": "markdown",
   "id": "c1fcd88b-e83c-4164-a2ff-d129c1b1d981",
   "metadata": {},
   "source": [
    "#### Define code"
   ]
  },
  {
   "cell_type": "code",
   "execution_count": null,
   "id": "dea32c10-954c-47a3-a8ab-d1b8320031a4",
   "metadata": {},
   "outputs": [],
   "source": [
    "n = 90\n",
    "k = 8\n",
    "d = 10\n",
    "\n",
    "H_X = np.load(f'../code_data/HX_n{n}k{k}d{d}.npy')\n",
    "H_Z = np.load(f'../code_data/HZ_n{n}k{k}d{d}.npy')\n",
    "\n",
    "zeros = np.zeros_like(H_X)\n",
    "H_symp = np.array(np.vstack((np.hstack((H_X,zeros)),np.hstack((zeros,H_Z)))),dtype=int)"
   ]
  },
  {
   "cell_type": "code",
   "execution_count": null,
   "id": "a0c485d9-12bb-40d4-999c-0ae2b11ce8e0",
   "metadata": {},
   "outputs": [],
   "source": [
    "H_symp_rref, _, transform_rows, transform_cols = rref_mod2(H_symp)\n",
    "H_symp_rref = H_symp_rref[~np.all(H_symp_rref == 0, axis=1)]\n",
    "H_symp_rref_og_basis = H_symp_rref@inv_mod2(transform_cols)\n",
    "assert H_symp_rref_og_basis.shape[0] == n-k\n",
    "assert H_symp_rref_og_basis.shape[1] == 2*n"
   ]
  },
  {
   "cell_type": "markdown",
   "id": "a1f82e60-0338-4b6c-9f4b-638566cbb356",
   "metadata": {},
   "source": [
    "#### Standard form of code"
   ]
  },
  {
   "cell_type": "code",
   "execution_count": null,
   "id": "fc04f910-3503-46a6-bbd6-869a2cd3c128",
   "metadata": {},
   "outputs": [],
   "source": [
    "G, LX, LZ, D = compute_standard_form(H_symp_rref_og_basis)"
   ]
  },
  {
   "cell_type": "markdown",
   "id": "577b6b7a-e8ea-43c9-a5dc-75e09beeb029",
   "metadata": {},
   "source": [
    "#### Logical basis in IBM paper"
   ]
  },
  {
   "cell_type": "code",
   "execution_count": null,
   "id": "fcfd1cae-0a89-4b65-bc89-56ec8c4bc42b",
   "metadata": {},
   "outputs": [],
   "source": [
    "# unprimed block\n",
    "X_unprimed = np.load(f'../code_data/n{n}k{k}d{d}_X_unprimed_mat.npy')\n",
    "X_unprimed = np.array(np.hstack((X_unprimed, np.zeros_like(X_unprimed))),dtype=int)\n",
    "Z_unprimed = np.load(f'../code_data/n{n}k{k}d{d}_Z_unprimed_mat.npy')\n",
    "Z_unprimed = np.array(np.hstack((np.zeros_like(Z_unprimed),Z_unprimed)),dtype=int)\n",
    "\n",
    "# primed block\n",
    "X_primed = np.load(f'../code_data/n{n}k{k}d{d}_X_primed_mat.npy')\n",
    "X_primed = np.array(np.hstack((X_primed, np.zeros_like(X_primed))),dtype=int)\n",
    "Z_primed = np.load(f'../code_data/n{n}k{k}d{d}_Z_primed_mat.npy')\n",
    "Z_primed = np.array(np.hstack((np.zeros_like(Z_primed),Z_primed)),dtype=int)"
   ]
  },
  {
   "cell_type": "code",
   "execution_count": null,
   "id": "b32128dd-a1d1-410b-b8e5-2ff174106eda",
   "metadata": {},
   "outputs": [],
   "source": [
    "logicals_standard = np.vstack([LX,LZ])\n",
    "logicals_ibm = np.vstack([X_unprimed,X_primed,Z_unprimed,Z_primed])\n",
    "logicals_ibm_anticomm = np.vstack([Z_unprimed,Z_primed,X_unprimed,X_primed])\n",
    "\n",
    "U_ibm_to_standard = symp_prod(logicals_standard,logicals_ibm_anticomm)"
   ]
  },
  {
   "cell_type": "markdown",
   "id": "c8574e49-84e2-4dda-b556-f6175f1aa179",
   "metadata": {},
   "source": [
    "#### Automorphism group generators from MAGMA"
   ]
  },
  {
   "cell_type": "code",
   "execution_count": null,
   "id": "bf24b3df-5c84-48e3-b90d-558d19df3a0d",
   "metadata": {},
   "outputs": [],
   "source": [
    "#code_auts_dict = qec_code_ZX_dualities_from_magma_with_intersection(n,k,d,H_symp_rref_og_basis).run(fileroot='./')\n",
    "filename = f'./ZX_dualities_n{n}k{k}d{d}.pkl'\n",
    "with open(filename, 'rb') as f:\n",
    "    code_auts_dict = pickle.load(f)\n",
    "print('Aut Group Order: ', code_auts_dict['order'])\n",
    "print('Time: ', code_auts_dict['time'])\n",
    "print('No of aut gens: ', len(code_auts_dict['auts']))"
   ]
  },
  {
   "cell_type": "markdown",
   "id": "94234e33-bf22-4810-a29b-8537874c7cdc",
   "metadata": {},
   "source": [
    "#### Circuits of automorphism group generators"
   ]
  },
  {
   "cell_type": "code",
   "execution_count": null,
   "id": "8e03e80e-5e38-46af-997a-2f864b7fde6e",
   "metadata": {},
   "outputs": [],
   "source": [
    "auts = code_auts_dict['auts']\n",
    "circuits = []\n",
    "symp_mats = []\n",
    "for num, aut in enumerate(auts):\n",
    "    #print('Aut Gen',num)\n",
    "    phys_act = circ_from_ZX_duality(H_symp_rref_og_basis,aut)        \n",
    "    phys_circ, _ = phys_act.circ()\n",
    "    log_act = logical_circ_and_pauli_correct(H_symp_rref_og_basis,phys_circ)\n",
    "    symp_mat_standard = log_act.U_logical_act()\n",
    "    symp_mat = inv_mod2(U_ibm_to_standard) @ symp_mat_standard @ U_ibm_to_standard %2\n",
    "    circ = circ_from_symp_mat(symp_mat).run(), phys_circ\n",
    "    circuits.append(circ)\n",
    "    symp_mats.append(symp_mat)"
   ]
  },
  {
   "cell_type": "code",
   "execution_count": null,
   "id": "bd5ba6af-04b0-4e90-b413-4a4a619ae368",
   "metadata": {},
   "outputs": [],
   "source": [
    "filename = f'./symp_mats_n{n}k{k}d{d}.pkl'\n",
    "with open(filename, 'wb') as f:\n",
    "    pickle.dump(symp_mats, f)"
   ]
  },
  {
   "cell_type": "markdown",
   "id": "694a6b59-2b57-433c-a952-25aa383c3dbb",
   "metadata": {},
   "source": [
    "### Logical action 1"
   ]
  },
  {
   "cell_type": "code",
   "execution_count": null,
   "id": "f6a1ce38-0ffa-4404-8c98-5fe14a39ba65",
   "metadata": {},
   "outputs": [],
   "source": [
    "# logical circuit\n",
    "log_act, phys_circ = circuits[0]\n",
    "qc = construct_circuit(log_act, k)\n",
    "qc.draw(output='mpl')"
   ]
  },
  {
   "cell_type": "markdown",
   "id": "a9126b10-e2ef-4851-bcf6-4eaf402f3c63",
   "metadata": {},
   "source": [
    "### Logical action 2"
   ]
  },
  {
   "cell_type": "code",
   "execution_count": null,
   "id": "e93bb6be-4b98-4b83-86df-be771e384158",
   "metadata": {},
   "outputs": [],
   "source": [
    "# logical circuit\n",
    "log_act, phys_circ = circuits[1]\n",
    "qc = construct_circuit(log_act, k)\n",
    "qc.draw(output='mpl')"
   ]
  },
  {
   "cell_type": "markdown",
   "id": "2a7768e0-1ca5-4b6e-97b9-7f741663f8ff",
   "metadata": {},
   "source": [
    "### Logical action 3"
   ]
  },
  {
   "cell_type": "code",
   "execution_count": null,
   "id": "26387ffd-4012-4d1a-b860-0c6e19e50c0a",
   "metadata": {},
   "outputs": [],
   "source": [
    "# logical circuit\n",
    "log_act, phys_circ = circuits[2]\n",
    "qc = construct_circuit(log_act, k)\n",
    "qc.draw(output='mpl')"
   ]
  },
  {
   "cell_type": "markdown",
   "id": "4981fce9-f416-47bc-a79d-ddf64c50142a",
   "metadata": {},
   "source": [
    "### Logical action 4"
   ]
  },
  {
   "cell_type": "code",
   "execution_count": null,
   "id": "f0159cca-2e06-4610-b400-71210a6b1826",
   "metadata": {},
   "outputs": [],
   "source": [
    "# logical circuit\n",
    "log_act, phys_circ = circuits[3]\n",
    "qc = construct_circuit(log_act, k)\n",
    "qc.draw(output='mpl')"
   ]
  },
  {
   "cell_type": "markdown",
   "id": "627a6345-8d0d-4686-a5b5-8f3dfdfbb175",
   "metadata": {},
   "source": [
    "### Logical action 5"
   ]
  },
  {
   "cell_type": "code",
   "execution_count": null,
   "id": "f22bc55f-504d-4a4f-b37e-c08c4db250bd",
   "metadata": {},
   "outputs": [],
   "source": [
    "# logical circuit\n",
    "log_act, phys_circ = circuits[4]\n",
    "qc = construct_circuit(log_act, k)\n",
    "qc.draw(output='mpl')"
   ]
  },
  {
   "cell_type": "markdown",
   "id": "cc6b68eb-4e45-4ec6-918f-a0e0ed81e1dd",
   "metadata": {},
   "source": [
    "## Logical action 6"
   ]
  },
  {
   "cell_type": "code",
   "execution_count": null,
   "id": "e58dbc62-3f79-4186-a8d0-f62191c5f307",
   "metadata": {},
   "outputs": [],
   "source": [
    "log_act, phys_circ = circuits[5]\n",
    "qc = construct_circuit(log_act, k)\n",
    "qc.draw(output='mpl')"
   ]
  },
  {
   "cell_type": "markdown",
   "id": "51c19831-17c6-4962-9d1d-839890cde42e",
   "metadata": {},
   "source": [
    "## Logical gate group structure"
   ]
  },
  {
   "cell_type": "code",
   "execution_count": null,
   "id": "c1cd76be-2ff3-4480-aac0-4b584ee0d0b9",
   "metadata": {},
   "outputs": [],
   "source": [
    "filename = f'./symp_mats_n{n}k{k}d{d}.pkl'\n",
    "with open(filename, 'rb') as f:\n",
    "    symp_mats = pickle.load(f)"
   ]
  },
  {
   "cell_type": "code",
   "execution_count": null,
   "id": "f471696d-be2e-4c60-94b0-ba6f13a9962c",
   "metadata": {},
   "outputs": [],
   "source": [
    "from logical_subgroups import *\n",
    "gate_group = clifford_subgroups(k,symp_mats)\n",
    "print(gate_group.return_order())\n",
    "print(gate_group.return_structure())"
   ]
  },
  {
   "cell_type": "markdown",
   "id": "3a618130-3088-4399-986f-b876b6ad2a14",
   "metadata": {},
   "source": [
    "## Compare automorphisms with IBM paper"
   ]
  },
  {
   "cell_type": "code",
   "execution_count": null,
   "id": "e3fbb799-3b3e-4156-8463-429829052f68",
   "metadata": {},
   "outputs": [],
   "source": [
    "aut_x = np.load(f'../code_data/auts_from_paper/aut_x_n{n}k{k}d{d}.npy')\n",
    "aut_y = np.load(f'../code_data/auts_from_paper/aut_y_n{n}k{k}d{d}.npy')\n",
    "\n",
    "print(magma(MAGMA_define_SG(symp_mats,aut_x)))"
   ]
  },
  {
   "cell_type": "code",
   "execution_count": null,
   "id": "f2c9042b-e677-40f2-b2a8-f5a0a4142123",
   "metadata": {},
   "outputs": [],
   "source": [
    "print(magma(MAGMA_define_SG(symp_mats,aut_y)))"
   ]
  }
 ],
 "metadata": {
  "kernelspec": {
   "display_name": "Python 3 (ipykernel)",
   "language": "python",
   "name": "python3"
  },
  "language_info": {
   "codemirror_mode": {
    "name": "ipython",
    "version": 3
   },
   "file_extension": ".py",
   "mimetype": "text/x-python",
   "name": "python",
   "nbconvert_exporter": "python",
   "pygments_lexer": "ipython3",
   "version": "3.11.5"
  }
 },
 "nbformat": 4,
 "nbformat_minor": 5
}
