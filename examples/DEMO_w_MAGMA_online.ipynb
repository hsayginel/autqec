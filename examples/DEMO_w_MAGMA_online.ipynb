{
 "cells": [
  {
   "cell_type": "code",
   "execution_count": 1,
   "id": "688f30f5-aa96-4826-8ce7-880967fbe153",
   "metadata": {},
   "outputs": [],
   "source": [
    "from add_parent_dir import *\n",
    "from automorphisms import *\n",
    "from utils.qec import *\n",
    "from utils.qiskit import *\n",
    "from magma_interface import *\n",
    "from ZX_dualities import *\n",
    "from ZY_dualities import *\n",
    "import pickle"
   ]
  },
  {
   "cell_type": "markdown",
   "id": "0ec587a2-32ed-4e91-954d-6aeedc3f63b4",
   "metadata": {},
   "source": [
    "## [[5,1,3]] - 5 qubit perfect code\n",
    "\n",
    "$$S = \\langle XZZXI, IXZZX, XIXZZ, ZXIXZ \\rangle$$"
   ]
  },
  {
   "cell_type": "markdown",
   "id": "c1fcd88b-e83c-4164-a2ff-d129c1b1d981",
   "metadata": {},
   "source": [
    "#### Define code"
   ]
  },
  {
   "cell_type": "code",
   "execution_count": 2,
   "id": "dea32c10-954c-47a3-a8ab-d1b8320031a4",
   "metadata": {},
   "outputs": [
    {
     "name": "stdout",
     "output_type": "stream",
     "text": [
      "[[1 0 0 1 0 0 1 1 0 0]\n",
      " [0 1 0 0 1 0 0 1 1 0]\n",
      " [1 0 1 0 0 0 0 0 1 1]\n",
      " [0 1 0 1 0 1 0 0 0 1]]\n"
     ]
    }
   ],
   "source": [
    "n = 5\n",
    "k = 1\n",
    "d = 3\n",
    "stabs = ['XZZXI','IXZZX','XIXZZ','ZXIXZ']\n",
    "H_symp = stabs_to_H_symp(stabs)\n",
    "print(H_symp)"
   ]
  },
  {
   "cell_type": "markdown",
   "id": "c8574e49-84e2-4dda-b556-f6175f1aa179",
   "metadata": {},
   "source": [
    "#### Automorphism group generators from MAGMA"
   ]
  },
  {
   "cell_type": "code",
   "execution_count": 3,
   "id": "bf24b3df-5c84-48e3-b90d-558d19df3a0d",
   "metadata": {},
   "outputs": [
    {
     "name": "stdout",
     "output_type": "stream",
     "text": [
      "Run the commands on MAGMA online calculator.\n",
      "Copy and save output to a file with filename 'magma_output_n5k1d3.txt'...\n"
     ]
    },
    {
     "name": "stdin",
     "output_type": "stream",
     "text": [
      "Press enter to continue \n"
     ]
    },
    {
     "name": "stdout",
     "output_type": "stream",
     "text": [
      "\n",
      "Aut Group Order:  360\n",
      "Time:  0.02\n",
      "No of aut gens:  5\n"
     ]
    }
   ],
   "source": [
    "qec_code_auts_from_magma_with_intersection(n,k,d,H_symp).run(fileroot='./auts_data/',save_magma_commands = True)\n",
    "filename = f'./auts_data/auts_n{n}k{k}d{d}.pkl'\n",
    "with open(filename, 'rb') as f:\n",
    "    code_auts_dict = pickle.load(f)\n",
    "print('Aut Group Order: ', code_auts_dict['order'])\n",
    "print('Time: ', code_auts_dict['time'])\n",
    "print('No of aut gens: ', len(code_auts_dict['auts']))"
   ]
  },
  {
   "cell_type": "code",
   "execution_count": 4,
   "id": "31186867-3932-45ba-9321-4ad007d24bdb",
   "metadata": {},
   "outputs": [],
   "source": [
    "auts = code_auts_dict['auts']\n",
    "circuits = []\n",
    "symp_mats = []\n",
    "for num, aut in enumerate(auts):\n",
    "    phys_act = circ_from_aut(H_symp,aut)        \n",
    "    phys_circ, _ = phys_act.circ()\n",
    "    log_act = logical_circ_and_pauli_correct(H_symp,phys_circ)\n",
    "    circ = log_act.run()\n",
    "    circuits.append(circ)\n",
    "    symp_mats.append(log_act.U_logical_act())"
   ]
  },
  {
   "cell_type": "code",
   "execution_count": 5,
   "id": "25be3f93-e0a7-4ee1-a7bc-47f8774c0c39",
   "metadata": {},
   "outputs": [],
   "source": [
    "filename = f'./auts_data/symp_mats_n{n}k{k}d{d}.pkl'\n",
    "with open(filename, 'wb') as f:\n",
    "    pickle.dump(symp_mats, f)"
   ]
  },
  {
   "cell_type": "markdown",
   "id": "919a9b58-482f-4504-96a5-2497ef64a128",
   "metadata": {},
   "source": [
    "## Circuit 1"
   ]
  },
  {
   "cell_type": "code",
   "execution_count": 6,
   "id": "abdec436-3493-42ab-b7bf-c1ad00a5fc37",
   "metadata": {},
   "outputs": [
    {
     "name": "stdout",
     "output_type": "stream",
     "text": [
      "Logical circuit on n qubits:\n"
     ]
    },
    {
     "data": {
      "image/png": "[encoded data removed]",
      "text/plain": [
       "<Figure size 371.107x451.5 with 1 Axes>"
      ]
     },
     "execution_count": 6,
     "metadata": {},
     "output_type": "execute_result"
    }
   ],
   "source": [
    "# physical circuit\n",
    "circ = circuits[0]\n",
    "print('Logical circuit on n qubits:')\n",
    "qc = construct_circuit(circ[1], n)\n",
    "qc.draw(output='mpl')"
   ]
  },
  {
   "cell_type": "code",
   "execution_count": 7,
   "id": "c13c6269-e0b1-44bf-ab77-4b6be92827a4",
   "metadata": {},
   "outputs": [
    {
     "name": "stdout",
     "output_type": "stream",
     "text": [
      "Logical action on k qubits:\n"
     ]
    },
    {
     "data": {
      "image/png": "[encoded data removed]",
      "text/plain": [
       "<Figure size 185.453x117.056 with 1 Axes>"
      ]
     },
     "execution_count": 7,
     "metadata": {},
     "output_type": "execute_result"
    }
   ],
   "source": [
    "print('Logical action on k qubits:')\n",
    "qc = construct_circuit(circ[0], k)\n",
    "qc.draw(output='mpl')"
   ]
  },
  {
   "cell_type": "markdown",
   "id": "b9cb7aba-0002-4141-859e-1ef144297fc8",
   "metadata": {},
   "source": [
    "## Circuit 2"
   ]
  },
  {
   "cell_type": "code",
   "execution_count": 8,
   "id": "f6ac6d36-fb85-4e71-90ee-6263e2708044",
   "metadata": {},
   "outputs": [
    {
     "name": "stdout",
     "output_type": "stream",
     "text": [
      "Logical circuit on n qubits:\n"
     ]
    },
    {
     "data": {
      "image/png": "[encoded data removed]",
      "text/plain": [
       "<Figure size 371.107x451.5 with 1 Axes>"
      ]
     },
     "execution_count": 8,
     "metadata": {},
     "output_type": "execute_result"
    }
   ],
   "source": [
    "circ = circuits[1]\n",
    "print('Logical circuit on n qubits:')\n",
    "qc = construct_circuit(circ[1], n)\n",
    "qc.draw(output='mpl')"
   ]
  },
  {
   "cell_type": "code",
   "execution_count": 9,
   "id": "eb7fdaf3-a138-4ab3-836a-aa26994c4a76",
   "metadata": {},
   "outputs": [
    {
     "name": "stdout",
     "output_type": "stream",
     "text": [
      "Logical action on k qubits:\n"
     ]
    },
    {
     "data": {
      "image/png": "[encoded data removed]",
      "text/plain": [
       "<Figure size 143.647x117.056 with 1 Axes>"
      ]
     },
     "execution_count": 9,
     "metadata": {},
     "output_type": "execute_result"
    }
   ],
   "source": [
    "print('Logical action on k qubits:')\n",
    "qc = construct_circuit(circ[0], k)\n",
    "qc.draw(output='mpl')"
   ]
  },
  {
   "cell_type": "markdown",
   "id": "e83ccdda-1b67-4ebe-9af1-77d92ae9566d",
   "metadata": {},
   "source": [
    "## Circuit 3"
   ]
  },
  {
   "cell_type": "code",
   "execution_count": 10,
   "id": "480e8e85-112b-4dde-8bbb-0832a0f381ef",
   "metadata": {},
   "outputs": [
    {
     "name": "stdout",
     "output_type": "stream",
     "text": [
      "Logical circuit on n qubits:\n"
     ]
    },
    {
     "data": {
      "image/png": "[encoded data removed]",
      "text/plain": [
       "<Figure size 538.33x451.5 with 1 Axes>"
      ]
     },
     "execution_count": 10,
     "metadata": {},
     "output_type": "execute_result"
    }
   ],
   "source": [
    "circ = circuits[2]\n",
    "print('Logical circuit on n qubits:')\n",
    "qc = construct_circuit(circ[1], n)\n",
    "qc.draw(output='mpl')"
   ]
  },
  {
   "cell_type": "code",
   "execution_count": 11,
   "id": "3ac1ef10-cdba-4a73-82fe-d39bf7ade5c2",
   "metadata": {},
   "outputs": [
    {
     "name": "stdout",
     "output_type": "stream",
     "text": [
      "Logical action on k qubits:\n"
     ]
    },
    {
     "data": {
      "image/png": "[encoded data removed]",
      "text/plain": [
       "<Figure size 269.064x117.056 with 1 Axes>"
      ]
     },
     "execution_count": 11,
     "metadata": {},
     "output_type": "execute_result"
    }
   ],
   "source": [
    "print('Logical action on k qubits:')\n",
    "qc = construct_circuit(circ[0], k)\n",
    "qc.draw(output='mpl')"
   ]
  },
  {
   "cell_type": "markdown",
   "id": "360b0041-f5f5-4136-984d-6b294865aa87",
   "metadata": {},
   "source": [
    "## Circuit 4"
   ]
  },
  {
   "cell_type": "code",
   "execution_count": 12,
   "id": "3723ee3d-4ecf-4be0-acbe-c6cb088bc86c",
   "metadata": {},
   "outputs": [
    {
     "name": "stdout",
     "output_type": "stream",
     "text": [
      "Logical circuit on n qubits:\n"
     ]
    },
    {
     "data": {
      "image/png": "[encoded data removed]",
      "text/plain": [
       "<Figure size 538.33x451.5 with 1 Axes>"
      ]
     },
     "execution_count": 12,
     "metadata": {},
     "output_type": "execute_result"
    }
   ],
   "source": [
    "circ = circuits[3]\n",
    "print('Logical circuit on n qubits:')\n",
    "qc = construct_circuit(circ[1], n)\n",
    "qc.draw(output='mpl')"
   ]
  },
  {
   "cell_type": "code",
   "execution_count": 13,
   "id": "b000f606-4f98-4fa6-ba0f-3d38a47924ef",
   "metadata": {},
   "outputs": [
    {
     "name": "stdout",
     "output_type": "stream",
     "text": [
      "Logical action on k qubits:\n"
     ]
    },
    {
     "data": {
      "image/png": "[encoded data removed]",
      "text/plain": [
       "<Figure size 269.064x117.056 with 1 Axes>"
      ]
     },
     "execution_count": 13,
     "metadata": {},
     "output_type": "execute_result"
    }
   ],
   "source": [
    "print('Logical action on k qubits:')\n",
    "qc = construct_circuit(circ[0], k)\n",
    "qc.draw(output='mpl')"
   ]
  },
  {
   "cell_type": "markdown",
   "id": "a0da1686-6d9d-4455-bc71-a2ab3b433a9a",
   "metadata": {},
   "source": [
    "## Circuit 5"
   ]
  },
  {
   "cell_type": "code",
   "execution_count": 14,
   "id": "95d03562-5bf7-48cc-8b54-4a88ae6a8d9b",
   "metadata": {},
   "outputs": [
    {
     "name": "stdout",
     "output_type": "stream",
     "text": [
      "Logical circuit on n qubits:\n"
     ]
    },
    {
     "data": {
      "image/png": "[encoded data removed]",
      "text/plain": [
       "<Figure size 621.941x451.5 with 1 Axes>"
      ]
     },
     "execution_count": 14,
     "metadata": {},
     "output_type": "execute_result"
    }
   ],
   "source": [
    "circ = circuits[4]\n",
    "print('Logical circuit on n qubits:')\n",
    "qc = construct_circuit(circ[1], n)\n",
    "qc.draw(output='mpl')"
   ]
  },
  {
   "cell_type": "code",
   "execution_count": 15,
   "id": "52452acd-3e0d-48b7-ad8a-62468564e28b",
   "metadata": {},
   "outputs": [
    {
     "name": "stdout",
     "output_type": "stream",
     "text": [
      "Logical action on k qubits:\n"
     ]
    },
    {
     "data": {
      "image/png": "[encoded data removed]",
      "text/plain": [
       "<Figure size 143.647x117.056 with 1 Axes>"
      ]
     },
     "execution_count": 15,
     "metadata": {},
     "output_type": "execute_result"
    }
   ],
   "source": [
    "print('Logical action on k qubits:')\n",
    "qc = construct_circuit(circ[0], k)\n",
    "qc.draw(output='mpl')"
   ]
  }
 ],
 "metadata": {
  "kernelspec": {
   "display_name": "Python 3 (ipykernel)",
   "language": "python",
   "name": "python3"
  },
  "language_info": {
   "codemirror_mode": {
    "name": "ipython",
    "version": 3
   },
   "file_extension": ".py",
   "mimetype": "text/x-python",
   "name": "python",
   "nbconvert_exporter": "python",
   "pygments_lexer": "ipython3",
   "version": "3.11.5"
  }
 },
 "nbformat": 4,
 "nbformat_minor": 5
}
