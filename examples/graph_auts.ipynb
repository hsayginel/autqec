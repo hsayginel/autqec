{
 "cells": [
  {
   "cell_type": "code",
   "execution_count": 1,
   "metadata": {},
   "outputs": [],
   "source": [
    "from autqec.graph_auts import *\n",
    "from autqec.automorphisms import *\n",
    "from autqec.ZX_dualities import *\n",
    "from autqec.utils.qec import *\n",
    "from autqec.utils.qiskit import *\n",
    "\n",
    "from time import time"
   ]
  },
  {
   "cell_type": "markdown",
   "metadata": {},
   "source": [
    "## Background"
   ]
  },
  {
   "cell_type": "markdown",
   "metadata": {},
   "source": [
    "Unless stated otherwise, we have used **code automorphisms** to find fault-tolerant logical Clifford gates of codes. \n",
    "\n",
    "For small codes (n < 360), this method works well and code automorphisms can be found by Leon’s algorithm. For larger codes, we can instead consider **check matrix automorphisms**. Check matrix automorphisms are a subgroup of the code automorphism group. This is because a check matrix automorphism maps each stabiliser generator to another, rather than to products of stabilizer generators. To compute check matrix automorphisms efficiently, we map them to their Tanner graphs and compute the **graph automorphisms**. "
   ]
  },
  {
   "cell_type": "markdown",
   "metadata": {},
   "source": [
    "# Example - [[4,2,2]] code\n",
    "The [[4,2,2]] code has a code automorphism group of order 144 (see `examples/[[4,2,2]].ipynb`). In the following we calculate graph automorphisms."
   ]
  },
  {
   "cell_type": "code",
   "execution_count": 2,
   "metadata": {},
   "outputs": [],
   "source": [
    "# Define code\n",
    "n = 4\n",
    "k = 2 \n",
    "d = 2\n",
    "stabs = ['XXXX','ZZZZ']\n",
    "H_symp = stabs_to_H_symp(stabs)\n",
    "H_3bit = np.hstack([H_symp,(H_symp[:,:n]+H_symp[:,n:])%2]) # adding XZ block \n",
    "H_3bit = np.vstack([H_3bit,(H_3bit[0,:]+H_3bit[1,:])%2]) # adding the YYYY stabilizer"
   ]
  },
  {
   "cell_type": "markdown",
   "metadata": {},
   "source": [
    "### Find graph auts:"
   ]
  },
  {
   "cell_type": "code",
   "execution_count": 3,
   "metadata": {},
   "outputs": [
    {
     "name": "stdout",
     "output_type": "stream",
     "text": [
      "Order: 144\n"
     ]
    }
   ],
   "source": [
    "auts = valid_clifford_auts(H_3bit,bits_3=True) # computes graph auts that correspond to a physical Clifford operation"
   ]
  },
  {
   "cell_type": "markdown",
   "metadata": {},
   "source": [
    "When the YYYY stabilizer is included in the parity check matrix, the graph automorphisms match the code automorphisms for this code. Let us now run AutQEC algorithms to find the logical circuits of the graph automorphisms. "
   ]
  },
  {
   "cell_type": "code",
   "execution_count": 4,
   "metadata": {},
   "outputs": [],
   "source": [
    "circuits = []\n",
    "symp_mats = []\n",
    "for num, aut in enumerate(auts):\n",
    "    phys_act = circ_from_aut(H_symp,aut)        \n",
    "    phys_circ, _ = phys_act.circ()\n",
    "    log_act = logical_circ_and_pauli_correct(H_symp,phys_circ)\n",
    "    circ = log_act.run()\n",
    "    circuits.append(circ)\n",
    "    symp_mats.append(log_act.U_logical_act())"
   ]
  },
  {
   "cell_type": "markdown",
   "metadata": {},
   "source": [
    "Visualization of one of the generators:"
   ]
  },
  {
   "cell_type": "code",
   "execution_count": 5,
   "metadata": {},
   "outputs": [
    {
     "name": "stdout",
     "output_type": "stream",
     "text": [
      "Logical action: [('CZ', (1, 2))]\n"
     ]
    },
    {
     "data": {
      "image/png": "[encoded data removed]",
      "text/plain": [
       "<Figure size 287.496x367.889 with 1 Axes>"
      ]
     },
     "execution_count": 5,
     "metadata": {},
     "output_type": "execute_result"
    }
   ],
   "source": [
    "# example physical circuit and logical action\n",
    "circ = circuits[0]\n",
    "print('Logical action:',circ[0])\n",
    "qc = construct_circuit(circ[1], n)\n",
    "qc.draw(output='mpl')"
   ]
  },
  {
   "cell_type": "markdown",
   "metadata": {},
   "source": [
    "## Example - [[[756,16,34]]]\n",
    "\n",
    "Let us now try finding the graph automorphisms of a large Bivariate Bicycle Code. "
   ]
  },
  {
   "cell_type": "code",
   "execution_count": 6,
   "metadata": {},
   "outputs": [],
   "source": [
    "n = 756\n",
    "k = 16\n",
    "d = 34\n",
    "\n",
    "H_X = np.load(f'./bivariate_bicycle_codes/code_data/HX_n{n}k{k}d{d}.npy')\n",
    "H_Z = np.load(f'./bivariate_bicycle_codes/code_data/HZ_n{n}k{k}d{d}.npy')\n",
    "\n",
    "zeros = np.zeros_like(H_X)\n",
    "H_symp = np.array(np.vstack((np.hstack((H_X,zeros)),np.hstack((zeros,H_Z)))),dtype=int)"
   ]
  },
  {
   "cell_type": "code",
   "execution_count": 7,
   "metadata": {},
   "outputs": [],
   "source": [
    "H_symp_rref, _, transform_rows, transform_cols = rref_mod2(H_symp)\n",
    "H_symp_rref = H_symp_rref[~np.all(H_symp_rref == 0, axis=1)]\n",
    "H_symp_rref_og_basis = H_symp_rref@inv_mod2(transform_cols)\n",
    "assert H_symp_rref_og_basis.shape[0] == n-k\n",
    "assert H_symp_rref_og_basis.shape[1] == 2*n"
   ]
  },
  {
   "cell_type": "code",
   "execution_count": 8,
   "metadata": {},
   "outputs": [
    {
     "name": "stdout",
     "output_type": "stream",
     "text": [
      "Order: 756\n",
      "Time taken: 0.34066009521484375\n"
     ]
    }
   ],
   "source": [
    "t0 = time()\n",
    "H_3bit = np.hstack([H_symp,(H_symp[:,:n]+H_symp[:,n:])%2])\n",
    "auts = valid_clifford_auts_B_rows(H_3bit,bits_3=True,return_order=True)\n",
    "t1 = time()\n",
    "print('Time taken:',t1-t0)"
   ]
  }
 ],
 "metadata": {
  "kernelspec": {
   "display_name": "auts",
   "language": "python",
   "name": "python3"
  },
  "language_info": {
   "codemirror_mode": {
    "name": "ipython",
    "version": 3
   },
   "file_extension": ".py",
   "mimetype": "text/x-python",
   "name": "python",
   "nbconvert_exporter": "python",
   "pygments_lexer": "ipython3",
   "version": "3.11.5"
  }
 },
 "nbformat": 4,
 "nbformat_minor": 4
}
