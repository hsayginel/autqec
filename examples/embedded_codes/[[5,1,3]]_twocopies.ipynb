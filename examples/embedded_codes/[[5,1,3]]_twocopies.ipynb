{
 "cells": [
  {
   "cell_type": "code",
   "execution_count": 1,
   "id": "688f30f5-aa96-4826-8ce7-880967fbe153",
   "metadata": {},
   "outputs": [],
   "source": [
    "from automorphisms import *\n",
    "from utils.qec import *\n",
    "from utils.qiskit import *\n",
    "from magma_interface import *\n",
    "import pickle"
   ]
  },
  {
   "cell_type": "markdown",
   "id": "0ec587a2-32ed-4e91-954d-6aeedc3f63b4",
   "metadata": {},
   "source": [
    "## [[5,1,3]] - 5 qubit perfect code"
   ]
  },
  {
   "cell_type": "markdown",
   "id": "c1fcd88b-e83c-4164-a2ff-d129c1b1d981",
   "metadata": {},
   "source": [
    "#### Define code"
   ]
  },
  {
   "cell_type": "code",
   "execution_count": 40,
   "id": "dea32c10-954c-47a3-a8ab-d1b8320031a4",
   "metadata": {},
   "outputs": [],
   "source": [
    "n = 15\n",
    "k = 2 \n",
    "d = 3\n",
    "\n",
    "stabs_block1 = ['XZZXIIIIII','IXZZXIIIII','XIXZZIIIII','ZXIXZIIIII']\n",
    "stabs_block2 = ['IIIIIXZZXI','IIIIIIXZZX','IIIIIXIXZZ','IIIIIZXIXZ']\n",
    "H_symp = stabs_to_H_symp(stabs_block1 + stabs_block2)"
   ]
  },
  {
   "cell_type": "code",
   "execution_count": 41,
   "id": "8200320c-51f1-4705-9867-77acd5618f6d",
   "metadata": {},
   "outputs": [
    {
     "name": "stdout",
     "output_type": "stream",
     "text": [
      "(8, 30)\n"
     ]
    }
   ],
   "source": [
    "E = qec_embed_code(H_symp, embedding = 'two_code_blocks').embed_mat()\n",
    "H_symp_embedded = H_symp @ E\n",
    "print(H_symp_embedded.shape)"
   ]
  },
  {
   "cell_type": "markdown",
   "id": "a1f82e60-0338-4b6c-9f4b-638566cbb356",
   "metadata": {},
   "source": [
    "#### Standard form of code"
   ]
  },
  {
   "cell_type": "code",
   "execution_count": 46,
   "id": "fc04f910-3503-46a6-bbd6-869a2cd3c128",
   "metadata": {},
   "outputs": [],
   "source": [
    "G, LX, LZ, D = compute_standard_form(H_symp_embedded)"
   ]
  },
  {
   "cell_type": "markdown",
   "id": "c8574e49-84e2-4dda-b556-f6175f1aa179",
   "metadata": {},
   "source": [
    "#### Automorphism group generators from MAGMA"
   ]
  },
  {
   "cell_type": "code",
   "execution_count": 47,
   "id": "bf24b3df-5c84-48e3-b90d-558d19df3a0d",
   "metadata": {},
   "outputs": [
    {
     "name": "stdout",
     "output_type": "stream",
     "text": [
      "Aut Group Order:  120960\n",
      "Time:  0.04\n",
      "No of aut gens:  10\n"
     ]
    }
   ],
   "source": [
    "code_auts_dict = qec_code_auts_from_magma_with_intersection(n,k,d,H_symp_embedded).run(fileroot='./')\n",
    "filename = f'./auts_n{n}k{k}d{d}.pkl'\n",
    "with open(filename, 'rb') as f:\n",
    "    code_auts_dict = pickle.load(f)\n",
    "print('Aut Group Order: ', code_auts_dict['order'])\n",
    "print('Time: ', code_auts_dict['time'])\n",
    "print('No of aut gens: ', len(code_auts_dict['auts']))"
   ]
  },
  {
   "cell_type": "markdown",
   "id": "94234e33-bf22-4810-a29b-8537874c7cdc",
   "metadata": {},
   "source": [
    "#### Physical circuits of automorphism group generators"
   ]
  },
  {
   "cell_type": "code",
   "execution_count": 48,
   "id": "8e03e80e-5e38-46af-997a-2f864b7fde6e",
   "metadata": {},
   "outputs": [],
   "source": [
    "auts = code_auts_dict['auts']\n",
    "physical_circuits = []\n",
    "for num, aut in enumerate(auts):\n",
    "    phys_act = physical_circ_of_aut(H_symp_embedded,aut)        \n",
    "    phys_circ = phys_act.circ_w_pauli_correction()\n",
    "    physical_circuits.append(phys_circ)"
   ]
  },
  {
   "cell_type": "markdown",
   "id": "d9a697f4-2d6c-420e-8b13-53b837296a63",
   "metadata": {},
   "source": [
    "#### Logical circuits of automorphism group generators"
   ]
  },
  {
   "cell_type": "code",
   "execution_count": 49,
   "id": "2f5b628a-e856-4930-af53-bf3a1df7cd02",
   "metadata": {},
   "outputs": [],
   "source": [
    "auts = code_auts_dict['auts']\n",
    "logical_circuits = []\n",
    "for num, aut in enumerate(auts):\n",
    "    logical_act = logical_circ_of_aut(H_symp_embedded,aut)   \n",
    "    logical_circ = logical_act.circ_w_pauli_correction()\n",
    "    logical_circuits.append(logical_circ)"
   ]
  },
  {
   "cell_type": "code",
   "execution_count": 51,
   "id": "da8daf37-d929-4d68-8d84-38c0fd74c071",
   "metadata": {},
   "outputs": [
    {
     "name": "stdout",
     "output_type": "stream",
     "text": [
      "[('CZ', (1, 2)), ('CZ', (2, 3)), ('CZ', (2, 5)), ('C(X,X)', (2, 6)), ('C(X,X)', (2, 7)), ('CNOT', (7, 4)), ('CNOT', (7, 1)), ('CNOT', (6, 5)), ('CNOT', (6, 4)), ('CNOT', (6, 3)), ('SWAP', (7, 6))]\n"
     ]
    }
   ],
   "source": [
    "print(logical_circuits[])"
   ]
  },
  {
   "cell_type": "markdown",
   "id": "694a6b59-2b57-433c-a952-25aa383c3dbb",
   "metadata": {},
   "source": [
    "### Logical gate 1"
   ]
  },
  {
   "cell_type": "code",
   "execution_count": 16,
   "id": "2620070b-96bf-4e95-b6e9-a52071ba6850",
   "metadata": {},
   "outputs": [
    {
     "data": {
      "image/png": "[encoded data removed]",
      "text/plain": [
       "<Figure size 389.338x1287.61 with 1 Axes>"
      ]
     },
     "execution_count": 16,
     "metadata": {},
     "output_type": "execute_result"
    }
   ],
   "source": [
    "# physical circuit\n",
    "qc = construct_circuit(physical_circuits[0], n)\n",
    "qc.draw(output='mpl')"
   ]
  },
  {
   "cell_type": "code",
   "execution_count": 17,
   "id": "f6a1ce38-0ffa-4404-8c98-5fe14a39ba65",
   "metadata": {},
   "outputs": [
    {
     "ename": "CircuitError",
     "evalue": "'Index 3 out of range for size 3.'",
     "output_type": "error",
     "traceback": [
      "\u001b[0;31m---------------------------------------------------------------------------\u001b[0m",
      "\u001b[0;31mIndexError\u001b[0m                                Traceback (most recent call last)",
      "File \u001b[0;32m~/miniconda3/envs/code_auts/lib/python3.11/site-packages/qiskit/circuit/quantumcircuit.py:6706\u001b[0m, in \u001b[0;36m_bit_argument_conversion\u001b[0;34m(specifier, bit_sequence, bit_set, type_)\u001b[0m\n\u001b[1;32m   6705\u001b[0m \u001b[38;5;28;01mtry\u001b[39;00m:\n\u001b[0;32m-> 6706\u001b[0m     \u001b[38;5;28;01mreturn\u001b[39;00m [\u001b[43mbit_sequence\u001b[49m\u001b[43m[\u001b[49m\u001b[43mspecifier\u001b[49m\u001b[43m]\u001b[49m]\n\u001b[1;32m   6707\u001b[0m \u001b[38;5;28;01mexcept\u001b[39;00m \u001b[38;5;167;01mIndexError\u001b[39;00m \u001b[38;5;28;01mas\u001b[39;00m ex:\n",
      "\u001b[0;31mIndexError\u001b[0m: list index out of range",
      "\nThe above exception was the direct cause of the following exception:\n",
      "\u001b[0;31mCircuitError\u001b[0m                              Traceback (most recent call last)",
      "Cell \u001b[0;32mIn[17], line 2\u001b[0m\n\u001b[1;32m      1\u001b[0m \u001b[38;5;66;03m# logical circuit\u001b[39;00m\n\u001b[0;32m----> 2\u001b[0m qc \u001b[38;5;241m=\u001b[39m \u001b[43mconstruct_circuit\u001b[49m\u001b[43m(\u001b[49m\u001b[43mlogical_circuits\u001b[49m\u001b[43m[\u001b[49m\u001b[38;5;241;43m0\u001b[39;49m\u001b[43m]\u001b[49m\u001b[43m,\u001b[49m\u001b[43m \u001b[49m\u001b[43mk\u001b[49m\u001b[43m)\u001b[49m\n\u001b[1;32m      3\u001b[0m qc\u001b[38;5;241m.\u001b[39mdraw(output\u001b[38;5;241m=\u001b[39m\u001b[38;5;124m'\u001b[39m\u001b[38;5;124mmpl\u001b[39m\u001b[38;5;124m'\u001b[39m)\n",
      "File \u001b[0;32m~/Desktop/QEC_CodeAutomorphisms/utils/qiskit.py:30\u001b[0m, in \u001b[0;36mconstruct_circuit\u001b[0;34m(operations, k)\u001b[0m\n\u001b[1;32m     28\u001b[0m     qc\u001b[38;5;241m.\u001b[39msx(qubits\u001b[38;5;241m-\u001b[39m\u001b[38;5;241m1\u001b[39m)\n\u001b[1;32m     29\u001b[0m \u001b[38;5;28;01melif\u001b[39;00m gate_type \u001b[38;5;241m==\u001b[39m \u001b[38;5;124m'\u001b[39m\u001b[38;5;124mC(X,X)\u001b[39m\u001b[38;5;124m'\u001b[39m:\n\u001b[0;32m---> 30\u001b[0m     \u001b[43mqc\u001b[49m\u001b[38;5;241;43m.\u001b[39;49m\u001b[43mrxx\u001b[49m\u001b[43m(\u001b[49m\u001b[43mpi\u001b[49m\u001b[38;5;241;43m/\u001b[39;49m\u001b[38;5;241;43m2\u001b[39;49m\u001b[43m,\u001b[49m\u001b[43mqubits\u001b[49m\u001b[43m[\u001b[49m\u001b[38;5;241;43m0\u001b[39;49m\u001b[43m]\u001b[49m\u001b[38;5;241;43m-\u001b[39;49m\u001b[38;5;241;43m1\u001b[39;49m\u001b[43m,\u001b[49m\u001b[43m \u001b[49m\u001b[43mqubits\u001b[49m\u001b[43m[\u001b[49m\u001b[38;5;241;43m1\u001b[39;49m\u001b[43m]\u001b[49m\u001b[38;5;241;43m-\u001b[39;49m\u001b[38;5;241;43m1\u001b[39;49m\u001b[43m)\u001b[49m\n\u001b[1;32m     31\u001b[0m \u001b[38;5;28;01melif\u001b[39;00m gate_type \u001b[38;5;241m==\u001b[39m \u001b[38;5;124m'\u001b[39m\u001b[38;5;124mGammaXYZ\u001b[39m\u001b[38;5;124m'\u001b[39m:\n\u001b[1;32m     32\u001b[0m     qc\u001b[38;5;241m.\u001b[39msdg(qubits\u001b[38;5;241m-\u001b[39m\u001b[38;5;241m1\u001b[39m)\n",
      "File \u001b[0;32m~/miniconda3/envs/code_auts/lib/python3.11/site-packages/qiskit/circuit/quantumcircuit.py:4767\u001b[0m, in \u001b[0;36mQuantumCircuit.rxx\u001b[0;34m(self, theta, qubit1, qubit2)\u001b[0m\n\u001b[1;32m   4753\u001b[0m \u001b[38;5;250m\u001b[39m\u001b[38;5;124;03m\"\"\"Apply :class:`~qiskit.circuit.library.RXXGate`.\u001b[39;00m\n\u001b[1;32m   4754\u001b[0m \n\u001b[1;32m   4755\u001b[0m \u001b[38;5;124;03mFor the full matrix form of this gate, see the underlying gate documentation.\u001b[39;00m\n\u001b[0;32m   (...)\u001b[0m\n\u001b[1;32m   4763\u001b[0m \u001b[38;5;124;03m    A handle to the instructions created.\u001b[39;00m\n\u001b[1;32m   4764\u001b[0m \u001b[38;5;124;03m\"\"\"\u001b[39;00m\n\u001b[1;32m   4765\u001b[0m \u001b[38;5;28;01mfrom\u001b[39;00m \u001b[38;5;21;01m.\u001b[39;00m\u001b[38;5;21;01mlibrary\u001b[39;00m\u001b[38;5;21;01m.\u001b[39;00m\u001b[38;5;21;01mstandard_gates\u001b[39;00m\u001b[38;5;21;01m.\u001b[39;00m\u001b[38;5;21;01mrxx\u001b[39;00m \u001b[38;5;28;01mimport\u001b[39;00m RXXGate\n\u001b[0;32m-> 4767\u001b[0m \u001b[38;5;28;01mreturn\u001b[39;00m \u001b[38;5;28;43mself\u001b[39;49m\u001b[38;5;241;43m.\u001b[39;49m\u001b[43mappend\u001b[49m\u001b[43m(\u001b[49m\u001b[43mRXXGate\u001b[49m\u001b[43m(\u001b[49m\u001b[43mtheta\u001b[49m\u001b[43m)\u001b[49m\u001b[43m,\u001b[49m\u001b[43m \u001b[49m\u001b[43m[\u001b[49m\u001b[43mqubit1\u001b[49m\u001b[43m,\u001b[49m\u001b[43m \u001b[49m\u001b[43mqubit2\u001b[49m\u001b[43m]\u001b[49m\u001b[43m,\u001b[49m\u001b[43m \u001b[49m\u001b[43m[\u001b[49m\u001b[43m]\u001b[49m\u001b[43m,\u001b[49m\u001b[43m \u001b[49m\u001b[43mcopy\u001b[49m\u001b[38;5;241;43m=\u001b[39;49m\u001b[38;5;28;43;01mFalse\u001b[39;49;00m\u001b[43m)\u001b[49m\n",
      "File \u001b[0;32m~/miniconda3/envs/code_auts/lib/python3.11/site-packages/qiskit/circuit/quantumcircuit.py:2386\u001b[0m, in \u001b[0;36mQuantumCircuit.append\u001b[0;34m(self, instruction, qargs, cargs, copy)\u001b[0m\n\u001b[1;32m   2374\u001b[0m     \u001b[38;5;28;01mif\u001b[39;00m bad_captures \u001b[38;5;241m:=\u001b[39m {\n\u001b[1;32m   2375\u001b[0m         var\n\u001b[1;32m   2376\u001b[0m         \u001b[38;5;28;01mfor\u001b[39;00m var \u001b[38;5;129;01min\u001b[39;00m itertools\u001b[38;5;241m.\u001b[39mchain\u001b[38;5;241m.\u001b[39mfrom_iterable(\n\u001b[0;32m   (...)\u001b[0m\n\u001b[1;32m   2379\u001b[0m         \u001b[38;5;28;01mif\u001b[39;00m \u001b[38;5;129;01mnot\u001b[39;00m \u001b[38;5;28mself\u001b[39m\u001b[38;5;241m.\u001b[39mhas_var(var)\n\u001b[1;32m   2380\u001b[0m     }:\n\u001b[1;32m   2381\u001b[0m         \u001b[38;5;28;01mraise\u001b[39;00m CircuitError(\n\u001b[1;32m   2382\u001b[0m             \u001b[38;5;124mf\u001b[39m\u001b[38;5;124m\"\u001b[39m\u001b[38;5;124mControl-flow op attempts to capture \u001b[39m\u001b[38;5;124m'\u001b[39m\u001b[38;5;132;01m{\u001b[39;00mbad_captures\u001b[38;5;132;01m}\u001b[39;00m\u001b[38;5;124m'\u001b[39m\u001b[38;5;124m\"\u001b[39m\n\u001b[1;32m   2383\u001b[0m             \u001b[38;5;124m\"\u001b[39m\u001b[38;5;124m which are not in this circuit\u001b[39m\u001b[38;5;124m\"\u001b[39m\n\u001b[1;32m   2384\u001b[0m         )\n\u001b[0;32m-> 2386\u001b[0m expanded_qargs \u001b[38;5;241m=\u001b[39m \u001b[43m[\u001b[49m\u001b[38;5;28;43mself\u001b[39;49m\u001b[38;5;241;43m.\u001b[39;49m\u001b[43mqbit_argument_conversion\u001b[49m\u001b[43m(\u001b[49m\u001b[43mqarg\u001b[49m\u001b[43m)\u001b[49m\u001b[43m \u001b[49m\u001b[38;5;28;43;01mfor\u001b[39;49;00m\u001b[43m \u001b[49m\u001b[43mqarg\u001b[49m\u001b[43m \u001b[49m\u001b[38;5;129;43;01min\u001b[39;49;00m\u001b[43m \u001b[49m\u001b[43mqargs\u001b[49m\u001b[43m \u001b[49m\u001b[38;5;129;43;01mor\u001b[39;49;00m\u001b[43m \u001b[49m\u001b[43m[\u001b[49m\u001b[43m]\u001b[49m\u001b[43m]\u001b[49m\n\u001b[1;32m   2387\u001b[0m expanded_cargs \u001b[38;5;241m=\u001b[39m [\u001b[38;5;28mself\u001b[39m\u001b[38;5;241m.\u001b[39mcbit_argument_conversion(carg) \u001b[38;5;28;01mfor\u001b[39;00m carg \u001b[38;5;129;01min\u001b[39;00m cargs \u001b[38;5;129;01mor\u001b[39;00m []]\n\u001b[1;32m   2389\u001b[0m instructions \u001b[38;5;241m=\u001b[39m InstructionSet(resource_requester\u001b[38;5;241m=\u001b[39mcircuit_scope\u001b[38;5;241m.\u001b[39mresolve_classical_resource)\n",
      "File \u001b[0;32m~/miniconda3/envs/code_auts/lib/python3.11/site-packages/qiskit/circuit/quantumcircuit.py:2386\u001b[0m, in \u001b[0;36m<listcomp>\u001b[0;34m(.0)\u001b[0m\n\u001b[1;32m   2374\u001b[0m     \u001b[38;5;28;01mif\u001b[39;00m bad_captures \u001b[38;5;241m:=\u001b[39m {\n\u001b[1;32m   2375\u001b[0m         var\n\u001b[1;32m   2376\u001b[0m         \u001b[38;5;28;01mfor\u001b[39;00m var \u001b[38;5;129;01min\u001b[39;00m itertools\u001b[38;5;241m.\u001b[39mchain\u001b[38;5;241m.\u001b[39mfrom_iterable(\n\u001b[0;32m   (...)\u001b[0m\n\u001b[1;32m   2379\u001b[0m         \u001b[38;5;28;01mif\u001b[39;00m \u001b[38;5;129;01mnot\u001b[39;00m \u001b[38;5;28mself\u001b[39m\u001b[38;5;241m.\u001b[39mhas_var(var)\n\u001b[1;32m   2380\u001b[0m     }:\n\u001b[1;32m   2381\u001b[0m         \u001b[38;5;28;01mraise\u001b[39;00m CircuitError(\n\u001b[1;32m   2382\u001b[0m             \u001b[38;5;124mf\u001b[39m\u001b[38;5;124m\"\u001b[39m\u001b[38;5;124mControl-flow op attempts to capture \u001b[39m\u001b[38;5;124m'\u001b[39m\u001b[38;5;132;01m{\u001b[39;00mbad_captures\u001b[38;5;132;01m}\u001b[39;00m\u001b[38;5;124m'\u001b[39m\u001b[38;5;124m\"\u001b[39m\n\u001b[1;32m   2383\u001b[0m             \u001b[38;5;124m\"\u001b[39m\u001b[38;5;124m which are not in this circuit\u001b[39m\u001b[38;5;124m\"\u001b[39m\n\u001b[1;32m   2384\u001b[0m         )\n\u001b[0;32m-> 2386\u001b[0m expanded_qargs \u001b[38;5;241m=\u001b[39m [\u001b[38;5;28;43mself\u001b[39;49m\u001b[38;5;241;43m.\u001b[39;49m\u001b[43mqbit_argument_conversion\u001b[49m\u001b[43m(\u001b[49m\u001b[43mqarg\u001b[49m\u001b[43m)\u001b[49m \u001b[38;5;28;01mfor\u001b[39;00m qarg \u001b[38;5;129;01min\u001b[39;00m qargs \u001b[38;5;129;01mor\u001b[39;00m []]\n\u001b[1;32m   2387\u001b[0m expanded_cargs \u001b[38;5;241m=\u001b[39m [\u001b[38;5;28mself\u001b[39m\u001b[38;5;241m.\u001b[39mcbit_argument_conversion(carg) \u001b[38;5;28;01mfor\u001b[39;00m carg \u001b[38;5;129;01min\u001b[39;00m cargs \u001b[38;5;129;01mor\u001b[39;00m []]\n\u001b[1;32m   2389\u001b[0m instructions \u001b[38;5;241m=\u001b[39m InstructionSet(resource_requester\u001b[38;5;241m=\u001b[39mcircuit_scope\u001b[38;5;241m.\u001b[39mresolve_classical_resource)\n",
      "File \u001b[0;32m~/miniconda3/envs/code_auts/lib/python3.11/site-packages/qiskit/circuit/quantumcircuit.py:2280\u001b[0m, in \u001b[0;36mQuantumCircuit.qbit_argument_conversion\u001b[0;34m(self, qubit_representation)\u001b[0m\n\u001b[1;32m   2269\u001b[0m \u001b[38;5;28;01mdef\u001b[39;00m \u001b[38;5;21mqbit_argument_conversion\u001b[39m(\u001b[38;5;28mself\u001b[39m, qubit_representation: QubitSpecifier) \u001b[38;5;241m-\u001b[39m\u001b[38;5;241m>\u001b[39m \u001b[38;5;28mlist\u001b[39m[Qubit]:\n\u001b[1;32m   2270\u001b[0m \u001b[38;5;250m    \u001b[39m\u001b[38;5;124;03m\"\"\"\u001b[39;00m\n\u001b[1;32m   2271\u001b[0m \u001b[38;5;124;03m    Converts several qubit representations (such as indexes, range, etc.)\u001b[39;00m\n\u001b[1;32m   2272\u001b[0m \u001b[38;5;124;03m    into a list of qubits.\u001b[39;00m\n\u001b[0;32m   (...)\u001b[0m\n\u001b[1;32m   2278\u001b[0m \u001b[38;5;124;03m        List(Qubit): the resolved instances of the qubits.\u001b[39;00m\n\u001b[1;32m   2279\u001b[0m \u001b[38;5;124;03m    \"\"\"\u001b[39;00m\n\u001b[0;32m-> 2280\u001b[0m     \u001b[38;5;28;01mreturn\u001b[39;00m \u001b[43m_bit_argument_conversion\u001b[49m\u001b[43m(\u001b[49m\n\u001b[1;32m   2281\u001b[0m \u001b[43m        \u001b[49m\u001b[43mqubit_representation\u001b[49m\u001b[43m,\u001b[49m\u001b[43m \u001b[49m\u001b[38;5;28;43mself\u001b[39;49m\u001b[38;5;241;43m.\u001b[39;49m\u001b[43mqubits\u001b[49m\u001b[43m,\u001b[49m\u001b[43m \u001b[49m\u001b[38;5;28;43mself\u001b[39;49m\u001b[38;5;241;43m.\u001b[39;49m\u001b[43m_qubit_indices\u001b[49m\u001b[43m,\u001b[49m\u001b[43m \u001b[49m\u001b[43mQubit\u001b[49m\n\u001b[1;32m   2282\u001b[0m \u001b[43m    \u001b[49m\u001b[43m)\u001b[49m\n",
      "File \u001b[0;32m~/miniconda3/envs/code_auts/lib/python3.11/site-packages/qiskit/circuit/quantumcircuit.py:6708\u001b[0m, in \u001b[0;36m_bit_argument_conversion\u001b[0;34m(specifier, bit_sequence, bit_set, type_)\u001b[0m\n\u001b[1;32m   6706\u001b[0m         \u001b[38;5;28;01mreturn\u001b[39;00m [bit_sequence[specifier]]\n\u001b[1;32m   6707\u001b[0m     \u001b[38;5;28;01mexcept\u001b[39;00m \u001b[38;5;167;01mIndexError\u001b[39;00m \u001b[38;5;28;01mas\u001b[39;00m ex:\n\u001b[0;32m-> 6708\u001b[0m         \u001b[38;5;28;01mraise\u001b[39;00m CircuitError(\n\u001b[1;32m   6709\u001b[0m             \u001b[38;5;124mf\u001b[39m\u001b[38;5;124m\"\u001b[39m\u001b[38;5;124mIndex \u001b[39m\u001b[38;5;132;01m{\u001b[39;00mspecifier\u001b[38;5;132;01m}\u001b[39;00m\u001b[38;5;124m out of range for size \u001b[39m\u001b[38;5;132;01m{\u001b[39;00m\u001b[38;5;28mlen\u001b[39m(bit_sequence)\u001b[38;5;132;01m}\u001b[39;00m\u001b[38;5;124m.\u001b[39m\u001b[38;5;124m\"\u001b[39m\n\u001b[1;32m   6710\u001b[0m         ) \u001b[38;5;28;01mfrom\u001b[39;00m \u001b[38;5;21;01mex\u001b[39;00m\n\u001b[1;32m   6711\u001b[0m \u001b[38;5;66;03m# Slices can't raise IndexError - they just return an empty list.\u001b[39;00m\n\u001b[1;32m   6712\u001b[0m \u001b[38;5;28;01mif\u001b[39;00m \u001b[38;5;28misinstance\u001b[39m(specifier, \u001b[38;5;28mslice\u001b[39m):\n",
      "\u001b[0;31mCircuitError\u001b[0m: 'Index 3 out of range for size 3.'"
     ]
    }
   ],
   "source": [
    "# logical circuit\n",
    "qc = construct_circuit(logical_circuits[0], k)\n",
    "qc.draw(output='mpl')"
   ]
  },
  {
   "cell_type": "markdown",
   "id": "a9126b10-e2ef-4851-bcf6-4eaf402f3c63",
   "metadata": {},
   "source": [
    "### Logical gate 2"
   ]
  },
  {
   "cell_type": "code",
   "execution_count": null,
   "id": "6ea85e1a-c4fd-4c27-addc-e0a3e4c13684",
   "metadata": {},
   "outputs": [],
   "source": [
    "# physical circuit\n",
    "qc = construct_circuit(physical_circuits[1], n)\n",
    "qc.draw(output='mpl')"
   ]
  },
  {
   "cell_type": "code",
   "execution_count": null,
   "id": "e93bb6be-4b98-4b83-86df-be771e384158",
   "metadata": {},
   "outputs": [],
   "source": [
    "# logical circuit\n",
    "qc = construct_circuit(logical_circuits[1], k)\n",
    "qc.draw(output='mpl')"
   ]
  },
  {
   "cell_type": "markdown",
   "id": "2a7768e0-1ca5-4b6e-97b9-7f741663f8ff",
   "metadata": {},
   "source": [
    "### Logical gate 3"
   ]
  },
  {
   "cell_type": "code",
   "execution_count": null,
   "id": "f7fc0236-77b0-4b68-883e-a057b832e711",
   "metadata": {},
   "outputs": [],
   "source": [
    "# physical circuit\n",
    "qc = construct_circuit(physical_circuits[2], n)\n",
    "qc.draw(output='mpl')"
   ]
  },
  {
   "cell_type": "code",
   "execution_count": null,
   "id": "26387ffd-4012-4d1a-b860-0c6e19e50c0a",
   "metadata": {},
   "outputs": [],
   "source": [
    "# logical circuit\n",
    "qc = construct_circuit(logical_circuits[2], k)\n",
    "qc.draw(output='mpl')"
   ]
  },
  {
   "cell_type": "markdown",
   "id": "4981fce9-f416-47bc-a79d-ddf64c50142a",
   "metadata": {},
   "source": [
    "### Logical gate 4"
   ]
  },
  {
   "cell_type": "code",
   "execution_count": null,
   "id": "abdec436-3493-42ab-b7bf-c1ad00a5fc37",
   "metadata": {},
   "outputs": [],
   "source": [
    "# physical circuit\n",
    "qc = construct_circuit(physical_circuits[3], n)\n",
    "qc.draw(output='mpl')"
   ]
  },
  {
   "cell_type": "code",
   "execution_count": null,
   "id": "f0159cca-2e06-4610-b400-71210a6b1826",
   "metadata": {},
   "outputs": [],
   "source": [
    "# logical circuit\n",
    "qc = construct_circuit(logical_circuits[3], k)\n",
    "qc.draw(output='mpl')"
   ]
  },
  {
   "cell_type": "markdown",
   "id": "627a6345-8d0d-4686-a5b5-8f3dfdfbb175",
   "metadata": {},
   "source": [
    "### Logical gate 5"
   ]
  },
  {
   "cell_type": "code",
   "execution_count": null,
   "id": "c5404b99-99aa-43b7-8c9d-beb1b26b271b",
   "metadata": {},
   "outputs": [],
   "source": [
    "# physical circuit\n",
    "qc = construct_circuit(physical_circuits[4], n)\n",
    "qc.draw(output='mpl')"
   ]
  },
  {
   "cell_type": "code",
   "execution_count": null,
   "id": "f22bc55f-504d-4a4f-b37e-c08c4db250bd",
   "metadata": {},
   "outputs": [],
   "source": [
    "# physical circuit\n",
    "qc = construct_circuit(logical_circuits[4], k)\n",
    "qc.draw(output='mpl')"
   ]
  }
 ],
 "metadata": {
  "kernelspec": {
   "display_name": "Python 3 (ipykernel)",
   "language": "python",
   "name": "python3"
  },
  "language_info": {
   "codemirror_mode": {
    "name": "ipython",
    "version": 3
   },
   "file_extension": ".py",
   "mimetype": "text/x-python",
   "name": "python",
   "nbconvert_exporter": "python",
   "pygments_lexer": "ipython3",
   "version": "3.11.5"
  }
 },
 "nbformat": 4,
 "nbformat_minor": 5
}
