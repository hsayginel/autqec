{
 "cells": [
  {
   "cell_type": "code",
   "execution_count": 2,
   "id": "76c5dbb0-bc71-4797-826b-924a74bf2136",
   "metadata": {},
   "outputs": [],
   "source": [
    "import pickle\n",
    "from old_ZX_dualities import *\n",
    "from old_XY_dualities import *\n",
    "from old_automorphisms import *\n",
    "from utils.qec import *\n",
    "from utils.qiskit import *"
   ]
  },
  {
   "cell_type": "code",
   "execution_count": 3,
   "id": "657bc46e-febd-4bf4-b5f3-b1bb28abfdad",
   "metadata": {},
   "outputs": [],
   "source": [
    "n = 5\n",
    "k = 1\n",
    "d = 3\n",
    "stabs = ['XZZXI','IXZZX','XIXZZ','ZXIXZ']\n",
    "H_symp = stabs_to_H_symp(stabs)\n",
    "G,LX,LZ,D = compute_standard_form(H_symp)"
   ]
  },
  {
   "cell_type": "markdown",
   "id": "78b50f37-4f0b-4957-b99d-bca6040b3118",
   "metadata": {},
   "source": [
    "## SH circuit"
   ]
  },
  {
   "cell_type": "code",
   "execution_count": null,
   "id": "721ac34b-4034-40a3-aac8-e85726382481",
   "metadata": {},
   "outputs": [],
   "source": [
    "filename = f'./auts_n{n}k{k}d{d}.pkl'\n",
    "with open(filename, 'rb') as f:\n",
    "    code_auts_dict = pickle.load(f)"
   ]
  },
  {
   "cell_type": "code",
   "execution_count": null,
   "id": "fca9f5a4-efc0-4629-830d-34db1331e3fc",
   "metadata": {},
   "outputs": [],
   "source": [
    "auts = code_auts_dict['auts']\n",
    "aut = auts[3]\n",
    "############################################   \n",
    "phys_act = physical_circ_of_aut(H_symp,aut)\n",
    "phys_circ = phys_act.circ_w_pauli_correction()\n",
    "log_act = logical_circ_of_aut(H_symp,aut)\n",
    "log_circ = log_act.circ_w_pauli_correction()"
   ]
  },
  {
   "cell_type": "code",
   "execution_count": null,
   "id": "3f5df402-84ea-415a-af06-e6e7ffd81561",
   "metadata": {},
   "outputs": [],
   "source": [
    "qc = construct_circuit(phys_circ, n)\n",
    "qc.draw(output='mpl')"
   ]
  },
  {
   "cell_type": "code",
   "execution_count": null,
   "id": "f6092c66-930a-4b78-bb1f-98aa51885d59",
   "metadata": {},
   "outputs": [],
   "source": [
    "qc = construct_circuit(log_circ, k)\n",
    "qc.draw(output='mpl')"
   ]
  },
  {
   "cell_type": "markdown",
   "id": "f35e6d62-f1d6-41b9-a6cc-738180aee651",
   "metadata": {},
   "source": [
    "## H circuit"
   ]
  },
  {
   "cell_type": "code",
   "execution_count": null,
   "id": "2894138a-efd0-477d-bd2e-2b739afd96b0",
   "metadata": {},
   "outputs": [],
   "source": [
    "filename_ZX = f'./ZX_dualities_n{n}k{k}d{d}.pkl'\n",
    "with open(filename_ZX, 'rb') as f:\n",
    "    code_ZX_dict = pickle.load(f)"
   ]
  },
  {
   "cell_type": "code",
   "execution_count": null,
   "id": "6a9551ad-4ae4-41f7-ae8f-a872d1657682",
   "metadata": {},
   "outputs": [],
   "source": [
    "auts_ZX = code_ZX_dict['auts']\n",
    "aut_ZX = auts_ZX[1]\n",
    "print(aut_ZX)\n",
    "############################################     \n",
    "phys_act_ZX = physical_circ_of_ZX_duality(H_symp,aut_ZX)\n",
    "phys_circ_ZX = phys_act_ZX.circ_w_pauli_correction()\n",
    "log_act_ZX = logical_circ_of_ZX_duality(H_symp,aut_ZX)\n",
    "log_circ_ZX = log_act_ZX.circ_w_pauli_correction()"
   ]
  },
  {
   "cell_type": "code",
   "execution_count": null,
   "id": "3b86e194-08d1-4b2c-b742-db66e7edccab",
   "metadata": {},
   "outputs": [],
   "source": [
    "qc = construct_circuit(phys_circ_ZX, n)\n",
    "qc.draw(output='mpl')"
   ]
  },
  {
   "cell_type": "code",
   "execution_count": null,
   "id": "6eee53a3-23ac-482f-8eda-bd7a5e8be821",
   "metadata": {},
   "outputs": [],
   "source": [
    "qc = construct_circuit(log_circ_ZX, k)\n",
    "qc.draw(output='mpl')"
   ]
  },
  {
   "cell_type": "markdown",
   "id": "54c6cb16-8793-4162-8859-8e4d3ea95514",
   "metadata": {},
   "source": [
    "## S circuit"
   ]
  },
  {
   "cell_type": "code",
   "execution_count": 4,
   "id": "dce43c04-c417-41ea-a43b-9db8941c6efb",
   "metadata": {},
   "outputs": [],
   "source": [
    "filename_XY = f'./XY_dualities_n{n}k{k}d{d}.pkl'\n",
    "with open(filename_XY, 'rb') as f:\n",
    "    code_XY_dict = pickle.load(f)"
   ]
  },
  {
   "cell_type": "code",
   "execution_count": 5,
   "id": "39d1d93a-bac1-40f0-bb6b-e7c37d018db2",
   "metadata": {},
   "outputs": [
    {
     "name": "stdout",
     "output_type": "stream",
     "text": [
      "[(1, 2), (3, 8, 9, 6), (5, 4, 7, 10)]\n",
      "[('Z', 1), ('Z', 4), ('S', 1), ('S', 2), ('S', 3), ('S', 4), ('S', 5), ('SWAP', (4, 5)), ('SWAP', (3, 4)), ('SWAP', (2, 4))]\n",
      "Stabilizers in new logicals\n",
      "[[0 0 1 0]\n",
      " [0 0 0 0]]\n",
      "Logical circuit phase\n",
      "[0 3]\n",
      "Physical circuit phase\n",
      "[1 0]\n"
     ]
    },
    {
     "ename": "AssertionError",
     "evalue": "Logical Pauli correction failed: multiples of i phases present.",
     "output_type": "error",
     "traceback": [
      "\u001b[0;31m---------------------------------------------------------------------------\u001b[0m",
      "\u001b[0;31mAssertionError\u001b[0m                            Traceback (most recent call last)",
      "Cell \u001b[0;32mIn[5], line 9\u001b[0m\n\u001b[1;32m      7\u001b[0m \u001b[38;5;28mprint\u001b[39m(phys_circ_XY)\n\u001b[1;32m      8\u001b[0m log_act_XY \u001b[38;5;241m=\u001b[39m logical_circ_of_XY_duality(H_symp,aut_XY)\n\u001b[0;32m----> 9\u001b[0m log_circ_XY \u001b[38;5;241m=\u001b[39m \u001b[43mlog_act_XY\u001b[49m\u001b[38;5;241;43m.\u001b[39;49m\u001b[43mcirc_w_pauli_correction\u001b[49m\u001b[43m(\u001b[49m\u001b[43m)\u001b[49m\n",
      "File \u001b[0;32m~/Desktop/qecauts/old_XY_dualities.py:631\u001b[0m, in \u001b[0;36mlogical_circ_of_XY_duality.circ_w_pauli_correction\u001b[0;34m(self)\u001b[0m\n\u001b[1;32m    629\u001b[0m \u001b[38;5;28;01melse\u001b[39;00m: \n\u001b[1;32m    630\u001b[0m     \u001b[38;5;28mself\u001b[39m\u001b[38;5;241m.\u001b[39mprint_pauli_corrections()\n\u001b[0;32m--> 631\u001b[0m     \u001b[38;5;28;01mraise\u001b[39;00m \u001b[38;5;167;01mAssertionError\u001b[39;00m(\u001b[38;5;124m\"\u001b[39m\u001b[38;5;124mLogical Pauli correction failed: multiples of i phases present.\u001b[39m\u001b[38;5;124m\"\u001b[39m)\n",
      "\u001b[0;31mAssertionError\u001b[0m: Logical Pauli correction failed: multiples of i phases present."
     ]
    }
   ],
   "source": [
    "auts_XY = code_XY_dict['auts']\n",
    "aut_XY = auts_XY[1]\n",
    "print(aut_XY)\n",
    "############################################     \n",
    "phys_act_XY = physical_circ_of_XY_duality(H_symp,aut_XY)\n",
    "phys_circ_XY = phys_act_XY.circ_w_pauli_correction()\n",
    "print(phys_circ_XY)\n",
    "log_act_XY = logical_circ_of_XY_duality(H_symp,aut_XY)\n",
    "log_circ_XY = log_act_XY.circ_w_pauli_correction()"
   ]
  },
  {
   "cell_type": "code",
   "execution_count": 6,
   "id": "0339c9eb-5c30-4e76-820e-7a407db93b94",
   "metadata": {},
   "outputs": [
    {
     "ename": "NameError",
     "evalue": "name 'circ' is not defined",
     "output_type": "error",
     "traceback": [
      "\u001b[0;31m---------------------------------------------------------------------------\u001b[0m",
      "\u001b[0;31mNameError\u001b[0m                                 Traceback (most recent call last)",
      "Cell \u001b[0;32mIn[6], line 1\u001b[0m\n\u001b[0;32m----> 1\u001b[0m qc \u001b[38;5;241m=\u001b[39m construct_circuit(\u001b[43mcirc\u001b[49m[\u001b[38;5;241m1\u001b[39m], n)\n\u001b[1;32m      2\u001b[0m qc\u001b[38;5;241m.\u001b[39mdraw(output\u001b[38;5;241m=\u001b[39m\u001b[38;5;124m'\u001b[39m\u001b[38;5;124mmpl\u001b[39m\u001b[38;5;124m'\u001b[39m)\n",
      "\u001b[0;31mNameError\u001b[0m: name 'circ' is not defined"
     ]
    }
   ],
   "source": [
    "qc = construct_circuit(circ[1], n)\n",
    "qc.draw(output='mpl')"
   ]
  }
 ],
 "metadata": {
  "kernelspec": {
   "display_name": "Python 3 (ipykernel)",
   "language": "python",
   "name": "python3"
  },
  "language_info": {
   "codemirror_mode": {
    "name": "ipython",
    "version": 3
   },
   "file_extension": ".py",
   "mimetype": "text/x-python",
   "name": "python",
   "nbconvert_exporter": "python",
   "pygments_lexer": "ipython3",
   "version": "3.11.5"
  }
 },
 "nbformat": 4,
 "nbformat_minor": 5
}
