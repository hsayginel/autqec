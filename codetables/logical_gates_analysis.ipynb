{
 "cells": [
  {
   "cell_type": "code",
   "execution_count": 1,
   "id": "056f047c-7606-4f49-ba72-47d8ac784272",
   "metadata": {},
   "outputs": [],
   "source": [
    "import pickle\n",
    "import os\n",
    "from logical_subgroups import *"
   ]
  },
  {
   "cell_type": "markdown",
   "id": "3e03f808-ffed-4dfe-a2a0-d3c390add01f",
   "metadata": {},
   "source": [
    "# [[n,1]]"
   ]
  },
  {
   "cell_type": "code",
   "execution_count": 7,
   "id": "36b3aa2e-1df4-41f3-bf6f-e8aeb5537e58",
   "metadata": {},
   "outputs": [
    {
     "name": "stdout",
     "output_type": "stream",
     "text": [
      "n1k1 1\n",
      "(1, {})\n",
      "\n",
      "n2k1 6\n",
      "(6, {'H_1': 'a2', 'S_1': 'a2 * a3', 'gammaXYZ_1': 'a2 * a3^-1 * a2 * a3', 'gammaXZY_1': 'a2 * a3^-1 * a2'})\n",
      "\n",
      "n3k1 6\n",
      "(6, {'H_1': 'a3 * a5', 'S_1': 'a3', 'gammaXYZ_1': 'a5', 'gammaXZY_1': 'a3 * a5 * a3'})\n",
      "\n",
      "n4k1 1\n",
      "(1, {})\n",
      "\n",
      "n5k1 6\n",
      "(6, {'H_1': 'a4 * a1', 'S_1': 'a1', 'gammaXYZ_1': 'a1 * a4 * a1', 'gammaXZY_1': 'a4'})\n",
      "\n",
      "n6k1 6\n",
      "(6, {'H_1': 'a3 * a5', 'S_1': 'a3', 'gammaXYZ_1': 'a5', 'gammaXZY_1': 'a3 * a5 * a3'})\n",
      "\n",
      "n7k1 6\n",
      "(6, {'H_1': 'a3 * a5', 'S_1': 'a3', 'gammaXYZ_1': 'a5', 'gammaXZY_1': 'a3 * a5 * a3'})\n",
      "\n",
      "n8k1 6\n",
      "(6, {'H_1': 'a3', 'S_1': 'a3 * a9', 'gammaXYZ_1': 'a3 * a9^-1 * a3 * a9', 'gammaXZY_1': 'a3 * a9^-1 * a3'})\n",
      "\n",
      "n9k1 6\n",
      "(6, {'H_1': 'a1', 'S_1': 'a1 * a10', 'gammaXYZ_1': 'a1 * a10^-1 * a1 * a10', 'gammaXZY_1': 'a1 * a10^-1 * a1'})\n",
      "\n",
      "n10k1 3\n",
      "(3, {'gammaXYZ_1': 'a2', 'gammaXZY_1': 'a2^2'})\n",
      "\n",
      "n11k1 3\n",
      "(3, {'gammaXYZ_1': 'a3^2', 'gammaXZY_1': 'a3'})\n",
      "\n",
      "n12k1 3\n",
      "(3, {'gammaXYZ_1': 'a4^2', 'gammaXZY_1': 'a4'})\n",
      "\n",
      "n13k1 3\n",
      "(3, {'gammaXYZ_1': 'a5^2', 'gammaXZY_1': 'a5'})\n",
      "\n",
      "n14k1 3\n",
      "(3, {'gammaXYZ_1': 'a6^2', 'gammaXZY_1': 'a6'})\n",
      "\n",
      "n15k1 3\n",
      "(3, {'gammaXYZ_1': 'a6', 'gammaXZY_1': 'a6^2'})\n",
      "\n",
      "n16k1 1\n",
      "(1, {})\n",
      "\n",
      "n17k1 6\n",
      "(6, {'H_1': 'a6 * a1', 'S_1': 'a1 * a6', 'gammaXYZ_1': 'a6', 'gammaXZY_1': 'a1 * a6 * a1'})\n",
      "\n",
      "n18k1 6\n",
      "(6, {'H_1': 'a7 * a1', 'S_1': 'a1', 'gammaXYZ_1': 'a1 * a7 * a1', 'gammaXZY_1': 'a7'})\n",
      "\n",
      "n19k1 6\n",
      "(6, {'H_1': 'a9 * a3', 'S_1': 'a3', 'gammaXYZ_1': 'a3 * a9 * a3', 'gammaXZY_1': 'a9'})\n",
      "\n",
      "n20k1 6\n",
      "(6, {'H_1': 'a9 * a1', 'S_1': 'a1', 'gammaXYZ_1': 'a1 * a9 * a1', 'gammaXZY_1': 'a9'})\n",
      "\n",
      "n21k1 6\n",
      "(6, {'H_1': 'a14 * a1', 'S_1': 'a1', 'gammaXYZ_1': 'a1 * a14 * a1', 'gammaXZY_1': 'a14'})\n",
      "\n",
      "n22k1 6\n",
      "(6, {'H_1': 'a6', 'S_1': 'a6 * a13', 'gammaXYZ_1': 'a6 * a13^-1 * a6 * a13', 'gammaXZY_1': 'a6 * a13^-1 * a6'})\n",
      "\n",
      "n23k1 - FILE MISSING.\n"
     ]
    },
    {
     "ename": "UnboundLocalError",
     "evalue": "cannot access local variable 'order' where it is not associated with a value",
     "output_type": "error",
     "traceback": [
      "\u001b[0;31m---------------------------------------------------------------------------\u001b[0m",
      "\u001b[0;31mUnboundLocalError\u001b[0m                         Traceback (most recent call last)",
      "Cell \u001b[0;32mIn[7], line 4\u001b[0m\n\u001b[1;32m      2\u001b[0m n_max \u001b[38;5;241m=\u001b[39m \u001b[38;5;241m25\u001b[39m\n\u001b[1;32m      3\u001b[0m \u001b[38;5;28;01mfor\u001b[39;00m n \u001b[38;5;129;01min\u001b[39;00m \u001b[38;5;28mrange\u001b[39m(\u001b[38;5;241m1\u001b[39m,n_max\u001b[38;5;241m+\u001b[39m\u001b[38;5;241m1\u001b[39m):\n\u001b[0;32m----> 4\u001b[0m     k1_code_orders_list\u001b[38;5;241m.\u001b[39mappend(\u001b[43mcodetables_check_all_gates\u001b[49m\u001b[43m(\u001b[49m\u001b[43mn\u001b[49m\u001b[43m,\u001b[49m\u001b[43mk\u001b[49m\u001b[43m)\u001b[49m)\n\u001b[1;32m      5\u001b[0m \u001b[38;5;28mprint\u001b[39m(k1_code_orders_list)\n",
      "File \u001b[0;32m~/Desktop/QEC_CodeAutomorphisms/codetables/logical_subgroups.py:353\u001b[0m, in \u001b[0;36mcodetables_check_all_gates\u001b[0;34m(n, k)\u001b[0m\n\u001b[1;32m    351\u001b[0m \u001b[38;5;28;01melse\u001b[39;00m: \n\u001b[1;32m    352\u001b[0m     \u001b[38;5;28mprint\u001b[39m(\u001b[38;5;124mf\u001b[39m\u001b[38;5;124m\"\u001b[39m\u001b[38;5;124mn\u001b[39m\u001b[38;5;132;01m{\u001b[39;00mn\u001b[38;5;132;01m}\u001b[39;00m\u001b[38;5;124mk\u001b[39m\u001b[38;5;132;01m{\u001b[39;00mk\u001b[38;5;132;01m}\u001b[39;00m\u001b[38;5;124m - FILE MISSING.\u001b[39m\u001b[38;5;124m\"\u001b[39m)\n\u001b[0;32m--> 353\u001b[0m \u001b[38;5;28;01mreturn\u001b[39;00m \u001b[43morder\u001b[49m\n",
      "\u001b[0;31mUnboundLocalError\u001b[0m: cannot access local variable 'order' where it is not associated with a value"
     ]
    }
   ],
   "source": [
    "k = 1 \n",
    "n_max = 25\n",
    "for n in range(1,n_max+1):\n",
    "    k1_code_orders_list.append(codetables_check_all_gates(n,k))\n",
    "print(k1_code_orders_list)"
   ]
  },
  {
   "cell_type": "markdown",
   "id": "dcbb49de-fa3c-46f9-ab5d-6cceb6bed601",
   "metadata": {},
   "source": [
    "# [[n,2]]"
   ]
  },
  {
   "cell_type": "code",
   "execution_count": 3,
   "id": "4624f8b5-cece-41c3-9563-3a3bc1d072e4",
   "metadata": {},
   "outputs": [
    {
     "name": "stdout",
     "output_type": "stream",
     "text": [
      "n2k2 1\n",
      "(1, {})\n",
      "\n",
      "n3k2 72\n",
      "(72, {'H_1': 'a3 * a5', 'H_2': 'a2 * a4 * a5 * a4', 'S_1': 'a3', 'S_2': 'a2', 'gammaXYZ_1': 'a5', 'gammaXYZ_2': 'a4 * a5 * a4', 'gammaXZY_1': 'a3 * a5 * a3', 'gammaXZY_2': 'a2 * a4 * a5 * a3 * a4', 'SWAP_(1,2)': 'a4'})\n",
      "\n",
      "n4k2 36\n",
      "(36, {'SWAP_(1,2)': 'a1 * a5', 'CNOT_(1,2)': 'a2 * a6', 'CNOT_(2,1)': 'a2 * a5^2 * a6 * a2 * a5^2 * a6 * a5 * a6 * a1 * a2 * a1^2 * a5^-1 * ', 'CZ_(1,2)': 'a2 * a6'})\n",
      "\n",
      "n5k2 36\n",
      "(36, {'SWAP_(1,2)': 'a2', 'CNOT_(1,2)': 'a1 * a6', 'CNOT_(2,1)': 'a7 * a1 * a2 * a6 * a7 * a1 * a2^3 * a6^-1 * a1', 'CZ_(1,2)': 'a1 * a6'})\n",
      "\n",
      "n6k2 36\n",
      "(36, {'SWAP_(1,2)': 'a1 * a8', 'CNOT_(1,2)': 'a4 * a8 * a9', 'CNOT_(2,1)': 'a4', 'CZ_(1,2)': 'a4 * a8 * a9'})\n",
      "\n",
      "n7k2 36\n",
      "(36, {'SWAP_(1,2)': 'a10 * a1', 'CNOT_(1,2)': 'a1 * a6 * a10 * a6 * a11 * a1^2 * a6^2 * a1 * a6 * a11^-1 * a1 * ', 'a10^-1': '* a1', 'CNOT_(2,1)': 'a1 * a6 * a10 * a6 * a11 * a1^2 * a6^2 * a1 * a6 * a11^-1 * a1 * ', 'CZ_(1,2)': 'a1 * a6 * a10 * a6 * a11 * a1^2 * a6^2 * a1 * a6 * a11^-1 * a1 * a10^-1', '*': 'a1 * a11'})\n",
      "\n",
      "n8k2 6\n",
      "(6, {'CNOT_(1,2)': 'a1', 'CZ_(1,2)': 'a1'})\n",
      "\n",
      "n9k2 6\n",
      "(6, {'CNOT_(1,2)': 'a2', 'CZ_(1,2)': 'a2'})\n",
      "\n",
      "n10k2 18\n",
      "(18, {'CNOT_(1,2)': 'a1 * a2^2 * a3', 'CZ_(1,2)': 'a1 * a2^2 * a3'})\n",
      "\n",
      "n11k2 18\n",
      "(18, {'CNOT_(1,2)': 'a1 * a3', 'CZ_(1,2)': 'a1 * a3'})\n",
      "\n",
      "n12k2 18\n",
      "(18, {'CNOT_(1,2)': 'a2^a6', 'CZ_(1,2)': 'a2^a6'})\n",
      "\n",
      "n13k2 18\n",
      "(18, {'CNOT_(1,2)': 'a3 * a7^2', 'CZ_(1,2)': 'a3 * a7^2'})\n",
      "\n",
      "n14k2 18\n",
      "(18, {'gammaXYZ_1': 'a4^2 * a3', 'gammaXYZ_2': 'a4^2', 'gammaXZY_1': 'a4 * a3^2', 'gammaXZY_2': 'a4', 'SWAP_(1,2)': 'a1 * a3'})\n",
      "\n",
      "n15k2 18\n",
      "(18, {'gammaXYZ_1': 'a4^2', 'gammaXYZ_2': 'a3 * a4^2 * a3', 'gammaXZY_1': 'a4', 'gammaXZY_2': 'a3 * a4 * a3', 'SWAP_(1,2)': 'a3'})\n",
      "\n",
      "n16k2 18\n",
      "(18, {})\n",
      "\n",
      "n17k2 18\n",
      "(18, {})\n",
      "\n",
      "n18k2 18\n",
      "(18, {})\n",
      "\n",
      "n19k2 18\n",
      "(18, {})\n",
      "\n",
      "n20k2 18\n",
      "(18, {})\n",
      "\n",
      "n21k2 18\n",
      "(18, {})\n",
      "\n",
      "n22k2 - FILE MISSING.\n"
     ]
    },
    {
     "ename": "UnboundLocalError",
     "evalue": "cannot access local variable 'order' where it is not associated with a value",
     "output_type": "error",
     "traceback": [
      "\u001b[0;31m---------------------------------------------------------------------------\u001b[0m",
      "\u001b[0;31mUnboundLocalError\u001b[0m                         Traceback (most recent call last)",
      "Cell \u001b[0;32mIn[3], line 5\u001b[0m\n\u001b[1;32m      3\u001b[0m n_max \u001b[38;5;241m=\u001b[39m \u001b[38;5;241m25\u001b[39m\n\u001b[1;32m      4\u001b[0m \u001b[38;5;28;01mfor\u001b[39;00m n \u001b[38;5;129;01min\u001b[39;00m \u001b[38;5;28mrange\u001b[39m(k,n_max\u001b[38;5;241m+\u001b[39m\u001b[38;5;241m1\u001b[39m):\n\u001b[0;32m----> 5\u001b[0m     k1_code_orders_list\u001b[38;5;241m.\u001b[39mappend(\u001b[43mcodetables_check_all_gates\u001b[49m\u001b[43m(\u001b[49m\u001b[43mn\u001b[49m\u001b[43m,\u001b[49m\u001b[43mk\u001b[49m\u001b[43m)\u001b[49m)\n\u001b[1;32m      6\u001b[0m \u001b[38;5;28mprint\u001b[39m(k1_code_orders_list)\n",
      "File \u001b[0;32m~/Desktop/QEC_CodeAutomorphisms/codetables/logical_subgroups.py:353\u001b[0m, in \u001b[0;36mcodetables_check_all_gates\u001b[0;34m(n, k)\u001b[0m\n\u001b[1;32m    351\u001b[0m \u001b[38;5;28;01melse\u001b[39;00m: \n\u001b[1;32m    352\u001b[0m     \u001b[38;5;28mprint\u001b[39m(\u001b[38;5;124mf\u001b[39m\u001b[38;5;124m\"\u001b[39m\u001b[38;5;124mn\u001b[39m\u001b[38;5;132;01m{\u001b[39;00mn\u001b[38;5;132;01m}\u001b[39;00m\u001b[38;5;124mk\u001b[39m\u001b[38;5;132;01m{\u001b[39;00mk\u001b[38;5;132;01m}\u001b[39;00m\u001b[38;5;124m - FILE MISSING.\u001b[39m\u001b[38;5;124m\"\u001b[39m)\n\u001b[0;32m--> 353\u001b[0m \u001b[38;5;28;01mreturn\u001b[39;00m \u001b[43morder\u001b[49m\n",
      "\u001b[0;31mUnboundLocalError\u001b[0m: cannot access local variable 'order' where it is not associated with a value"
     ]
    }
   ],
   "source": [
    "k = 2\n",
    "n_max = 25\n",
    "for n in range(k,n_max+1):\n",
    "    k1_code_orders_list.append(codetables_check_all_gates(n,k))\n",
    "print(k1_code_orders_list)"
   ]
  },
  {
   "cell_type": "markdown",
   "id": "63b5da30-ac3c-4851-9be7-7f084db63469",
   "metadata": {},
   "source": [
    "# [[n,3]]"
   ]
  },
  {
   "cell_type": "markdown",
   "id": "fc5c2102-9bb5-4b45-863b-bdda63297af0",
   "metadata": {},
   "source": [
    "# [[n,4]]"
   ]
  },
  {
   "cell_type": "code",
   "execution_count": 4,
   "id": "f7caf4a9-8834-4f29-95c2-202a689577bf",
   "metadata": {},
   "outputs": [
    {
     "name": "stdout",
     "output_type": "stream",
     "text": [
      "n3k3 1\n",
      "(1, {})\n",
      "\n",
      "n4k3 1296\n",
      "(1296, {'H_1': 'a1 * a8', 'H_2': 'a2 * a3 * a6 * a3', 'H_3': 'a9^-1 * a3 * a1 * a9^-1 * a3 * a6^3', 'S_1': 'a1', 'S_2': 'a3 * a6 * a3 * a2', 'S_3': 'a9^-1 * a3 * a1 * a9^-1 * a3 * a6^2', 'gammaXYZ_1': 'a8', 'gammaXYZ_2': 'a2 * a3 * a6 * a3 * a2', 'gammaXYZ_3': 'a6', 'gammaXZY_1': 'a1 * a8 * a1', 'gammaXZY_2': 'a3 * a6 * a3', 'gammaXZY_3': 'a6^2', 'SWAP_(1,2)': 'a3^a9', 'SWAP_(1,3)': 'a9^-1 * a3 * a1 * a9^-1 * a3 * a6 * a8 * a1 * a9^-1 * a3', 'SWAP_(2,3)': 'a9^-1 * a3 * a1 * a9^-1 * a3 * a6 * a2 * a3'})\n",
      "\n",
      "n5k3 1296\n",
      "(1296, {'H_1': 'a7', 'H_2': 'a3', 'H_3': 'a1', 'S_1': 'a7 * a9', 'S_2': 'a3 * a4 * a8 * a4', 'S_3': 'a1 * a8^2', 'gammaXYZ_1': 'a9 * a7^2 * a9', 'gammaXYZ_2': 'a4 * a8 * a4 * a3^2 * a4 * a8 * a4', 'gammaXYZ_3': 'a8', 'gammaXZY_1': 'a9 * a7^2', 'gammaXZY_2': 'a4 * a8 * a4 * a3^2', 'gammaXZY_3': 'a1 * a8 * a1', 'SWAP_(1,2)': 'a9 * a7 * a1 * a8 * a3 * a4 * a10 * a3', 'SWAP_(1,3)': 'a9 * a7 * a3 * a4 * a8 * a4 * a10 * a4', 'SWAP_(2,3)': 'a1 * a3 * a4'})\n",
      "\n",
      "n6k3 48\n",
      "(48, {'SWAP_(1,2)': 'a1 * a4 * a1 * a5 * a1 * a4 * a1 * a6', 'CNOT_(2,3)': 'a1 * a4 * a1 * a5 * a1 * a4 * a1', 'CNOT_(3,2)': 'a1 * a4 * a1 * a5 * a1 * a4 * a6 * a1'})\n",
      "\n",
      "n7k3 48\n",
      "(48, {'SWAP_(1,2)': 'a3 * a7', 'CNOT_(2,3)': 'a3', 'CNOT_(3,2)': 'a7 * a3'})\n",
      "\n",
      "n8k3 168\n",
      "(168, {'CNOT_(1,2)': 'a3', 'CNOT_(1,3)': 'a2', 'CZ_(1,2)': 'a1', 'CZ_(1,3)': 'a3', 'CZ_(2,3)': 'a2'})\n",
      "\n",
      "n9k3 168\n",
      "(168, {'CNOT_(1,2)': 'a4 * a3', 'CNOT_(1,3)': 'a4 * a1', 'CZ_(1,2)': 'a4', 'CZ_(1,3)': 'a4 * a3', 'CZ_(2,3)': 'a4 * a1'})\n",
      "\n",
      "n10k3 168\n",
      "(168, {'CNOT_(1,2)': 'a2 * a3 * a4 * a2', 'CNOT_(1,3)': 'a2 * a3 * a4', 'CZ_(1,2)': 'a2 * a3 * a4 * a3', 'CZ_(1,3)': 'a2 * a3 * a4 * a2', 'CZ_(2,3)': 'a2 * a3 * a4'})\n",
      "\n",
      "n11k3 168\n",
      "(168, {'CNOT_(1,2)': 'a3 * a6 * a7 * a6', 'CNOT_(1,3)': 'a3 * a6 * a7', 'CZ_(1,2)': 'a3 * a6 * a7 * a3', 'CZ_(1,3)': 'a3 * a6 * a7 * a6', 'CZ_(2,3)': 'a3 * a6 * a7'})\n",
      "\n",
      "n12k3 3\n",
      "(3, {})\n",
      "\n",
      "n13k3 3\n",
      "(3, {})\n",
      "\n",
      "n14k3 3\n",
      "(3, {})\n",
      "\n",
      "n15k3 36\n",
      "(36, {'SWAP_(1,3)': 'a5 * a3'})\n",
      "\n",
      "n16k3 36\n",
      "(36, {'SWAP_(1,3)': 'a5 * a6 * a1'})\n",
      "\n",
      "n17k3 36\n",
      "(36, {'SWAP_(1,3)': 'a1 * a7 * a8'})\n",
      "\n",
      "n18k3 36\n",
      "(36, {'SWAP_(1,3)': 'a3 * a4'})\n",
      "\n",
      "n19k3 36\n",
      "(36, {'SWAP_(1,3)': 'a1'})\n",
      "\n",
      "n20k3 1\n",
      "(1, {})\n",
      "\n",
      "n21k3 1\n",
      "(1, {})\n",
      "\n",
      "n22k3 - FILE MISSING.\n"
     ]
    },
    {
     "ename": "UnboundLocalError",
     "evalue": "cannot access local variable 'order' where it is not associated with a value",
     "output_type": "error",
     "traceback": [
      "\u001b[0;31m---------------------------------------------------------------------------\u001b[0m",
      "\u001b[0;31mUnboundLocalError\u001b[0m                         Traceback (most recent call last)",
      "Cell \u001b[0;32mIn[4], line 4\u001b[0m\n\u001b[1;32m      2\u001b[0m n_max \u001b[38;5;241m=\u001b[39m \u001b[38;5;241m25\u001b[39m\n\u001b[1;32m      3\u001b[0m \u001b[38;5;28;01mfor\u001b[39;00m n \u001b[38;5;129;01min\u001b[39;00m \u001b[38;5;28mrange\u001b[39m(k,n_max\u001b[38;5;241m+\u001b[39m\u001b[38;5;241m1\u001b[39m):\n\u001b[0;32m----> 4\u001b[0m     k1_code_orders_list\u001b[38;5;241m.\u001b[39mappend(\u001b[43mcodetables_check_all_gates\u001b[49m\u001b[43m(\u001b[49m\u001b[43mn\u001b[49m\u001b[43m,\u001b[49m\u001b[43mk\u001b[49m\u001b[43m)\u001b[49m)\n\u001b[1;32m      5\u001b[0m \u001b[38;5;28mprint\u001b[39m(k1_code_orders_list)\n",
      "File \u001b[0;32m~/Desktop/QEC_CodeAutomorphisms/codetables/logical_subgroups.py:353\u001b[0m, in \u001b[0;36mcodetables_check_all_gates\u001b[0;34m(n, k)\u001b[0m\n\u001b[1;32m    351\u001b[0m \u001b[38;5;28;01melse\u001b[39;00m: \n\u001b[1;32m    352\u001b[0m     \u001b[38;5;28mprint\u001b[39m(\u001b[38;5;124mf\u001b[39m\u001b[38;5;124m\"\u001b[39m\u001b[38;5;124mn\u001b[39m\u001b[38;5;132;01m{\u001b[39;00mn\u001b[38;5;132;01m}\u001b[39;00m\u001b[38;5;124mk\u001b[39m\u001b[38;5;132;01m{\u001b[39;00mk\u001b[38;5;132;01m}\u001b[39;00m\u001b[38;5;124m - FILE MISSING.\u001b[39m\u001b[38;5;124m\"\u001b[39m)\n\u001b[0;32m--> 353\u001b[0m \u001b[38;5;28;01mreturn\u001b[39;00m \u001b[43morder\u001b[49m\n",
      "\u001b[0;31mUnboundLocalError\u001b[0m: cannot access local variable 'order' where it is not associated with a value"
     ]
    }
   ],
   "source": [
    "k = 3\n",
    "n_max = 25\n",
    "for n in range(k,n_max+1):\n",
    "    k1_code_orders_list.append(codetables_check_all_gates(n,k))\n",
    "print(k1_code_orders_list)"
   ]
  },
  {
   "cell_type": "code",
   "execution_count": 5,
   "id": "110757b2-d2a6-4131-bff7-7de0582fbc93",
   "metadata": {},
   "outputs": [
    {
     "name": "stdout",
     "output_type": "stream",
     "text": [
      "n4k4 1\n",
      "(1, {})\n",
      "\n",
      "n5k4 31104\n",
      "(31104, {'H_1': 'a9 * a4', 'H_2': 'a5 * a12 * a1 * a12^-1 * a5', 'H_3': 'a1 * a12^2 * a1^-1 * a12^-1 * a5^-1 * a12^2 * a1^-1 * a12^-1 * a5^-1 * a12 *', 'a1^2': '* a12^-1 * a1 * a12^2 * a1^-1 * a12^-1 * a5^-1 * a12^2 * a1^-1 * a12^-1 * ', 'a5^-1': '* a12 * a1 * a12^-1 * a1 * a5 * a12 * a1 * a12^-2', 'H_4': 'a1', 'S_1': 'a4', 'S_2': 'a12 * a1 * a12^-1 * a1 * a12^2 * a1^-1 * a12^-1 * a5^-1 * a12^2 * a1^-1 * ', 'a12^-1': '* a5^-1 * a1^2 * a12^2 * a1^-1 * a12^-1 * a5^-1 * a12^2 * a1^-1 * a12^-1 ', '*': 'a5^-1 * a12 * a1^2 * a12^-1 * a1 * a12^2 * a1^-1 * a12^-1 * a5^-1 * a12^2 * ', 'S_3': 'a12 * a1 * a12^-1', 'S_4': 'a12 * a1 * a12^-1 * a1 * a12^2 * a1^-1 * a12^-1 * a5^-1 * a12^2 * a1^-1 * ', 'a12^2': '* a1^-1 * a12^-1 * a5^-1 * a12 * a1^2 * a12^-1 * a1 * a12^2 * a1^-1 * ', 'gammaXYZ_1': 'a4 * a9 * a4', 'gammaXYZ_2': 'a5 * a12^2 * a1^-1 * a12^-1 * a5^-1 * a12^-1 * a5 * a12^2 * a1^-1 * ', 'a1^-1': '* a12^-1 * a5^-1 * a12^2 * a1^-1 * a12^-1 * a5^-1 * a12 * a1^2 * a12^-1 * ', 'a1': '* a12^2 * a1^-1 * a12^-1 * a5^-1 * a12^2 * a1^-1 * a12^-1 * a5^-1 * a12 * ', 'gammaXYZ_3': 'a12 * a1 * a12^-1 * a1 * a12^2 * a1^-1 * a12^-1 * a5^-1 * a12^2 * ', 'gammaXYZ_4': 'a1 * a12^2 * a1^-1 * a12^-1 * a5^-1 * a12^2 * a1^-1 * a12^-1 * a5^-1 ', 'gammaXZY_1': 'a9', 'gammaXZY_2': 'a5 * a12^2 * a1^-1 * a12^-1 * a5^-1 * a12^-1 * a5 * a12^2 * a1^-1 * ', 'gammaXZY_3': '(a12 * a1 * a12^-1 * a1 * a12^2 * a1^-1 * a12^-1 * a5^-1 * a12^2 * ', 'gammaXZY_4': 'a12 * a1 * a12^-1 * a1 * a12^2 * a1^-1 * a12^-1 * a5^-1 * a12^2 * ', 'SWAP_(1,2)': 'a5 * a12^2 * a1^-1 * a12^-1 * a5^-1 * a12^-1 * a5 * a12^2 * a1^-1 * ', 'a5': '* a12 * a1 * a12^-2 * a5 * a3 * a5', 'SWAP_(1,3)': 'a5 * a12^2 * a1^-1 * a12^-1 * a5^-1 * a12^-1 * a5 * a12^2 * a1^-1 * ', 'SWAP_(1,4)': 'a5 * a12^2 * a1^-1 * a12^-1 * a5^-1 * a12^-1 * a5 * a12^2 * a1^-1 * ', 'a12': '* a1 * a12^-1', 'SWAP_(2,3)': 'a5 * a12^2 * a1^-1 * a12^-1 * a5^-1 * a12^-1 * a5 * a12^2 * a1^-1 * ', 'SWAP_(2,4)': 'a1 * a12^2 * a1^-1 * a12^-1 * a5^-1 * a12^2 * a1^-1 * a12^-1 * a5^-1 ', 'SWAP_(3,4)': 'a5 * a12^2 * a1^-1 * a12^-1 * a5^-1 * a12^-1 * a5 * a12^2 * a1^-1 * '})\n",
      "\n",
      "n6k4 4320\n",
      "(4320, {'SWAP_(1,2)': 'a8^-1 * a3 * a8 * a4 * a2 * a4 * a2 * a8 * a3 * a4', 'SWAP_(1,3)': 'a4', 'SWAP_(1,4)': 'a6 * a1', 'SWAP_(2,3)': 'a8^-1 * a3 * a8 * a2 * a4 * a2 * a8 * a3', 'SWAP_(2,4)': 'a2 * a6 * a1 * a2', 'SWAP_(3,4)': 'a6 * a1 * a4 * a6 * a1'})\n",
      "\n",
      "n7k4 4320\n",
      "(4320, {'SWAP_(1,2)': 'a2 * a7', 'SWAP_(1,3)': 'a3 * a2 * a3 * a8 * a3 * a2 * a3 * a6', 'SWAP_(1,4)': 'a7 * a2', 'SWAP_(2,3)': 'a3 * a8 * a3 * a6', 'SWAP_(2,4)': 'a2', 'SWAP_(3,4)': 'a2 * a3 * a8 * a3 * a2 * a6'})\n",
      "\n",
      "n8k4 4320\n",
      "(4320, {'SWAP_(1,2)': 'a5 * a1 * a2 * a1 * a9 * a1 * a9^-1 * a1 * a9 * a1 * a2 * a1', 'SWAP_(1,3)': 'a5 * a9 * a1 * a9^-1 * a1 * a9', 'SWAP_(1,4)': 'a1 * a9 * a1 * a5', 'SWAP_(2,3)': 'a1 * a2 * a1', 'SWAP_(2,4)': 'a1 * a2 * a1 * a9 * a1 * a2 * a1 * a5', 'SWAP_(3,4)': 'a9 * a5'})\n",
      "\n",
      "n9k4 4320\n",
      "(4320, {'SWAP_(1,2)': 'a11^-1 * a8 * a11^-1 * a8 * a6', 'SWAP_(1,3)': 'a6 * a7 * a10 * a2 * a5 * a7', 'SWAP_(1,4)': 'a6', 'SWAP_(2,3)': 'a2 * a10 * a2 * a5', 'SWAP_(2,4)': 'a6 * a11^-1 * a8 * a11^-1 * a8', 'SWAP_(3,4)': 'a7 * a10 * a5 * a7'})\n",
      "\n",
      "n10k4 360\n",
      "(360, {})\n",
      "\n",
      "n11k4 360\n",
      "(360, {})\n",
      "\n",
      "n12k4 360\n",
      "(360, {})\n",
      "\n",
      "n13k4 360\n",
      "(360, {})\n",
      "\n",
      "n14k4 360\n",
      "(360, {})\n",
      "\n",
      "n15k4 360\n",
      "(360, {})\n",
      "\n",
      "n16k4 15\n",
      "(15, {})\n",
      "\n",
      "n17k4 15\n",
      "(15, {})\n",
      "\n",
      "n18k4 15\n",
      "(15, {})\n",
      "\n",
      "n19k4 15\n",
      "(15, {})\n",
      "\n",
      "n20k4 15\n",
      "(15, {})\n",
      "\n",
      "n21k4 15\n",
      "(15, {})\n",
      "\n",
      "n22k4 - FILE MISSING.\n"
     ]
    },
    {
     "ename": "UnboundLocalError",
     "evalue": "cannot access local variable 'order' where it is not associated with a value",
     "output_type": "error",
     "traceback": [
      "\u001b[0;31m---------------------------------------------------------------------------\u001b[0m",
      "\u001b[0;31mUnboundLocalError\u001b[0m                         Traceback (most recent call last)",
      "Cell \u001b[0;32mIn[5], line 4\u001b[0m\n\u001b[1;32m      2\u001b[0m n_max \u001b[38;5;241m=\u001b[39m \u001b[38;5;241m25\u001b[39m\n\u001b[1;32m      3\u001b[0m \u001b[38;5;28;01mfor\u001b[39;00m n \u001b[38;5;129;01min\u001b[39;00m \u001b[38;5;28mrange\u001b[39m(k,n_max\u001b[38;5;241m+\u001b[39m\u001b[38;5;241m1\u001b[39m):\n\u001b[0;32m----> 4\u001b[0m     k1_code_orders_list\u001b[38;5;241m.\u001b[39mappend(\u001b[43mcodetables_check_all_gates\u001b[49m\u001b[43m(\u001b[49m\u001b[43mn\u001b[49m\u001b[43m,\u001b[49m\u001b[43mk\u001b[49m\u001b[43m)\u001b[49m)\n\u001b[1;32m      5\u001b[0m \u001b[38;5;28mprint\u001b[39m(k1_code_orders_list)\n",
      "File \u001b[0;32m~/Desktop/QEC_CodeAutomorphisms/codetables/logical_subgroups.py:353\u001b[0m, in \u001b[0;36mcodetables_check_all_gates\u001b[0;34m(n, k)\u001b[0m\n\u001b[1;32m    351\u001b[0m \u001b[38;5;28;01melse\u001b[39;00m: \n\u001b[1;32m    352\u001b[0m     \u001b[38;5;28mprint\u001b[39m(\u001b[38;5;124mf\u001b[39m\u001b[38;5;124m\"\u001b[39m\u001b[38;5;124mn\u001b[39m\u001b[38;5;132;01m{\u001b[39;00mn\u001b[38;5;132;01m}\u001b[39;00m\u001b[38;5;124mk\u001b[39m\u001b[38;5;132;01m{\u001b[39;00mk\u001b[38;5;132;01m}\u001b[39;00m\u001b[38;5;124m - FILE MISSING.\u001b[39m\u001b[38;5;124m\"\u001b[39m)\n\u001b[0;32m--> 353\u001b[0m \u001b[38;5;28;01mreturn\u001b[39;00m \u001b[43morder\u001b[49m\n",
      "\u001b[0;31mUnboundLocalError\u001b[0m: cannot access local variable 'order' where it is not associated with a value"
     ]
    }
   ],
   "source": [
    "k = 4\n",
    "n_max = 25\n",
    "for n in range(k,n_max+1):\n",
    "    k1_code_orders_list.append(codetables_check_all_gates(n,k))\n",
    "print(k1_code_orders_list)"
   ]
  },
  {
   "cell_type": "markdown",
   "id": "da0965cd-b8ce-4ed6-beb4-e5499dd2e881",
   "metadata": {},
   "source": [
    "# [[n,5]]"
   ]
  },
  {
   "cell_type": "code",
   "execution_count": 6,
   "id": "84d06aaa-151b-4fa3-9077-e72aa525e343",
   "metadata": {},
   "outputs": [
    {
     "name": "stdout",
     "output_type": "stream",
     "text": [
      "n5k5 1\n",
      "(1, {})\n",
      "\n",
      "n6k5 933120\n",
      "(933120, {'H_1': 'a13^2 * a3 * a13', 'H_2': 'a13 * a4^-2 * a13^-1 * a8 * a4 * a10^2 * a4', 'H_3': 'a13 * a4^-2 * a13^-1 * a8 * a10', 'H_4': 'a3', 'H_5': 'a3 * a1 * a4^2 * a1', 'S_1': 'a8', 'S_2': 'a13 * a4^-2 * a13^-1 * a8 * a4^2', 'S_3': 'a13 * a4^-2 * a13^-1 * a8 * a10^2', 'S_4': 'a13 * a8 * a13^-1 * a3 * a13 * a8 * a13^-1', 'S_5': 'a1 * a4 * a10 * a4 * a1 * a3 * a13 * a8 * a13^-1 * a4 * a10 * a4 * a3 * a10 ', '*': 'a13 * a1 * a4 * a10^2', 'gammaXYZ_1': 'a8 * a13^2 * a3 * a13', 'gammaXYZ_2': 'a4 * a10 * a4^3', 'gammaXYZ_3': 'a10^2', 'gammaXYZ_4': 'a3 * a13 * a8 * a13^-1', 'gammaXYZ_5': 'a13 * a8 * a13^-1 * a4 * a10 * a4 * a3 * a10 * a13^-1 * a4 * a13^2 * ', 'a1': '* a4 * a1 * a13^2 * a1', 'gammaXZY_1': 'a13^2 * a3 * a13 * a8', 'gammaXZY_2': 'a4 * a10 * a4^2 * a10^2 * a4', 'gammaXZY_3': 'a10', 'gammaXZY_4': 'a13 * a8 * a13^-1 * a3', 'gammaXZY_5': 'a1 * a4 * a10 * a4 * a1 * a3^2 * a1 * a4^2 * a1', 'SWAP_(1,2)': 'a13 * a8 * a13^-1 * a4 * a10 * a4 * a13^-1 * a4 * a13 * a4 * a10 * ', 'a13^-1': '* a4 * a13^2', 'SWAP_(1,3)': 'a13 * a8 * a4^-2 * a13^-1 * a8 * a4 * a10 * a4 * a10^2 * a13^-1 * a4 ', 'SWAP_(1,4)': 'a4 * a10 * a4 * a3 * a13 * a8 * a13^-2 * a4 * a13 * a4 * a10 * a13^-1', 'SWAP_(1,5)': 'a1 * a4 * a10 * a4 * a1 * a3 * a4 * a10 * a4 * a10 * a4 * a13 * a4 * ', 'a10': '* a4 * a1 * a13^2', 'SWAP_(2,3)': 'a13 * a4^-2 * a13^-1 * a8 * a4 * a10 * a4 * a10^2 * a4 * a10^2', 'SWAP_(2,4)': 'a13 * a4^-2 * a13^-1 * a8 * a3 * a13 * a8 * a13^-2 * a4 * a13 * a4 * ', 'a10^2': '* a13^-1 * a4 * a13', 'SWAP_(2,5)': 'a1 * a4 * a10 * a4 * a1 * a3 * a13 * a8 * a13^-1 * a4 * a10 * a4 * a3', 'SWAP_(3,4)': 'a13 * a4^-2 * a13^-1 * a8 * a13^-1 * a4 * a13', 'SWAP_(3,5)': 'a13 * a8 * a4^-2 * a13^-1 * a8 * a3 * a10^2 * a4 * a10 * a13^-1 * a4 ', 'SWAP_(4,5)': 'a3 * a1 * a4 * a1'})\n",
      "\n",
      "n7k5 933120\n",
      "(933120, {'H_1': 'a1', 'H_2': 'a1 * a6 * a4 * a12 * a4 * a6', 'H_3': 'a3', 'H_4': 'a7', 'H_5': 'a5', 'S_1': 'a4 * a12^-1 * a4 * a1 * a4 * a12 * a4', 'S_2': 'a6^-2 * a1^2 * a6 * a4 * a12 * a3 * a4 * a6', 'S_3': 'a3^a12', 'S_4': 'a7 * a14', 'S_5': 'a17^2 * a7 * a17', 'gammaXYZ_1': 'a4 * a12 * a4', 'gammaXYZ_2': 'a1 * a6 * a4 * a12 * a3 * a4 * a6', 'gammaXYZ_3': 'a12', 'gammaXYZ_4': 'a7 * a14^-1 * a7 * a14', 'gammaXYZ_5': 'a17^-1 * a14 * a17 * a5 * a17^2 * a7 * a17', 'gammaXZY_1': 'a4 * a12^-1 * a4 * a1^2', 'gammaXZY_2': 'a6^-2 * a1^2 * a6 * a4 * a12 * a4 * a6', 'gammaXZY_3': 'a12^-1 * a3^2', 'gammaXZY_4': 'a7 * a14^-1 * a7', 'gammaXZY_5': 'a17^-1 * a14 * a17 * a5^2', 'SWAP_(1,2)': 'a6^-2 * a1 * a4 * a12^-1 * a4 * a1 * a17^-1 * a4 * a17 * a4 * a12 * ', 'a17': '* a4 * a6 * a4 * a12 * a3 * a4', 'SWAP_(1,3)': 'a4', 'SWAP_(1,4)': 'a4 * a12^-1 * a4 * a1 * a7 * a14 * a17^-1 * a4 * a17 * a4 * a12 * ', 'a17^-1': '* a4 * a17^3 * a7', 'SWAP_(1,5)': 'a17^-1 * a4 * a17 * a1 * a4 * a17^-1 * a4 * a17 * a5 * a17', 'SWAP_(2,3)': 'a6^-2 * a1 * a12^-1 * a3 * a12 * a17^-1 * a4 * a17 * a4 * a17^-1 * a4', '*': 'a17^2 * a4 * a6 * a4 * a12 * a3', 'SWAP_(2,4)': 'a6^-2 * a1 * a4 * a17^2 * a6 * a17', 'SWAP_(2,5)': 'a6^-2 * a1 * a17^-1 * a14 * a17 * a5 * a1 * a17^2 * a7 * a17 * a6 * ', 'a4': '* a12 * a6', 'SWAP_(3,4)': 'a12^-1 * a3 * a7 * a14 * a12 * a17^-1 * a4 * a17', 'SWAP_(3,5)': 'a3 * a17^-1 * a4 * a17 * a4 * a5 * a17 * a4', 'SWAP_(4,5)': 'a17^-1 * a14 * a17 * a5 * a7 * a14^-1 * a7 * a17^-1 * a4 * a17 * a4 *'})\n",
      "\n",
      "n8k5 1440\n",
      "(1440, {'SWAP_(1,2)': 'a7 * a6 * a2 * a7 * a6', 'SWAP_(1,3)': 'a7 * a1 * a7 * a1 * a6 * a7 * a2 * a7 * a1 * a6 * a7 * a1', 'SWAP_(1,4)': 'a2', 'SWAP_(2,3)': 'a1 * a7 * a1 * a6', 'SWAP_(2,4)': 'a7 * a6', 'SWAP_(3,4)': 'a6 * a7 * a6 * a1 * a7 * a1 * a6 * a7'})\n",
      "\n",
      "n9k5 4608\n",
      "(4608, {'SWAP_(1,2)': 'a3 * a1 * a9 * a6 * a1^-3 * a3 * a6 * a9^-1 * a6 * a9 * a6 * a9^-1 * ', 'a6': '* a1 * a4 * a1^-1 * a6', 'SWAP_(3,4)': 'a1 * a4 * a1^-1 * a6 * a9^2 * a6 * a9', 'SWAP_(3,5)': 'a1 * a4 * a1^-1 * a6^2', 'SWAP_(4,5)': 'a1 * a4 * a1^-1 * a6^2 * a9 * a6 * a9^-1 * a6 * a9^2', 'CNOT_(2,3)': 'a3 * a1 * a9 * a6 * a1^-3 * a3 * a6 * a9^-1 * a6 * a9 * a6 * a9^-1 * ', 'CNOT_(3,2)': 'a1 * a4 * a1^-1 * a6^2 * a9 * a6 * a9^-1 * a6 * a9 * a6 * a1 * a6 * ', 'a9': '* a1'})\n",
      "\n",
      "n10k5 4608\n",
      "(4608, {'SWAP_(1,2)': 'a12 * a3', 'SWAP_(3,4)': 'a6 * a1 * a6', 'SWAP_(3,5)': 'a1 * a4 * a12 * a4 * a6 * a1 * a6 * a1 * a6', 'SWAP_(4,5)': 'a4 * a12 * a4 * a6 * a1 * a6', 'CNOT_(2,3)': 'a5 * a3 * a5 * a3^2', 'CNOT_(3,2)': 'a4 * a6 * a4 * a3 * a12'})\n",
      "\n",
      "n11k5 360\n",
      "(360, {})\n",
      "\n",
      "n12k5 360\n",
      "(360, {})\n",
      "\n",
      "n13k5 360\n",
      "(360, {})\n",
      "\n",
      "n14k5 12\n",
      "(12, {})\n",
      "\n",
      "n15k5 12\n",
      "(12, {})\n",
      "\n",
      "n16k5 12\n",
      "(12, {})\n",
      "\n",
      "n17k5 12\n",
      "(12, {})\n",
      "\n",
      "n18k5 1\n",
      "(1, {})\n",
      "\n",
      "n19k5 1\n",
      "(1, {})\n",
      "\n",
      "n20k5 1\n",
      "(1, {})\n",
      "\n",
      "n21k5 21\n",
      "(21, {})\n",
      "\n",
      "n22k5 - FILE MISSING.\n"
     ]
    },
    {
     "ename": "UnboundLocalError",
     "evalue": "cannot access local variable 'order' where it is not associated with a value",
     "output_type": "error",
     "traceback": [
      "\u001b[0;31m---------------------------------------------------------------------------\u001b[0m",
      "\u001b[0;31mUnboundLocalError\u001b[0m                         Traceback (most recent call last)",
      "Cell \u001b[0;32mIn[6], line 4\u001b[0m\n\u001b[1;32m      2\u001b[0m n_max \u001b[38;5;241m=\u001b[39m \u001b[38;5;241m25\u001b[39m\n\u001b[1;32m      3\u001b[0m \u001b[38;5;28;01mfor\u001b[39;00m n \u001b[38;5;129;01min\u001b[39;00m \u001b[38;5;28mrange\u001b[39m(k,n_max\u001b[38;5;241m+\u001b[39m\u001b[38;5;241m1\u001b[39m):\n\u001b[0;32m----> 4\u001b[0m     k1_code_orders_list\u001b[38;5;241m.\u001b[39mappend(\u001b[43mcodetables_check_all_gates\u001b[49m\u001b[43m(\u001b[49m\u001b[43mn\u001b[49m\u001b[43m,\u001b[49m\u001b[43mk\u001b[49m\u001b[43m)\u001b[49m)\n\u001b[1;32m      5\u001b[0m \u001b[38;5;28mprint\u001b[39m(k1_code_orders_list)\n",
      "File \u001b[0;32m~/Desktop/QEC_CodeAutomorphisms/codetables/logical_subgroups.py:353\u001b[0m, in \u001b[0;36mcodetables_check_all_gates\u001b[0;34m(n, k)\u001b[0m\n\u001b[1;32m    351\u001b[0m \u001b[38;5;28;01melse\u001b[39;00m: \n\u001b[1;32m    352\u001b[0m     \u001b[38;5;28mprint\u001b[39m(\u001b[38;5;124mf\u001b[39m\u001b[38;5;124m\"\u001b[39m\u001b[38;5;124mn\u001b[39m\u001b[38;5;132;01m{\u001b[39;00mn\u001b[38;5;132;01m}\u001b[39;00m\u001b[38;5;124mk\u001b[39m\u001b[38;5;132;01m{\u001b[39;00mk\u001b[38;5;132;01m}\u001b[39;00m\u001b[38;5;124m - FILE MISSING.\u001b[39m\u001b[38;5;124m\"\u001b[39m)\n\u001b[0;32m--> 353\u001b[0m \u001b[38;5;28;01mreturn\u001b[39;00m \u001b[43morder\u001b[49m\n",
      "\u001b[0;31mUnboundLocalError\u001b[0m: cannot access local variable 'order' where it is not associated with a value"
     ]
    }
   ],
   "source": [
    "k = 5\n",
    "n_max = 25\n",
    "for n in range(k,n_max+1):\n",
    "    k1_code_orders_list.append(codetables_check_all_gates(n,k))\n",
    "print(k1_code_orders_list)"
   ]
  }
 ],
 "metadata": {
  "kernelspec": {
   "display_name": "Python 3 (ipykernel)",
   "language": "python",
   "name": "python3"
  },
  "language_info": {
   "codemirror_mode": {
    "name": "ipython",
    "version": 3
   },
   "file_extension": ".py",
   "mimetype": "text/x-python",
   "name": "python",
   "nbconvert_exporter": "python",
   "pygments_lexer": "ipython3",
   "version": "3.11.5"
  }
 },
 "nbformat": 4,
 "nbformat_minor": 5
}
