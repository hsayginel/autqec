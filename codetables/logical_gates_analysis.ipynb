{
 "cells": [
  {
   "cell_type": "code",
   "execution_count": 1,
   "id": "056f047c-7606-4f49-ba72-47d8ac784272",
   "metadata": {},
   "outputs": [],
   "source": [
    "import pickle\n",
    "import os\n",
    "from logical_subgroups import *\n",
    "from utils.qiskit import *"
   ]
  },
  {
   "cell_type": "code",
   "execution_count": 2,
   "id": "764d80cb-742d-4fad-b847-b4d352d79353",
   "metadata": {},
   "outputs": [],
   "source": [
    "def print_code_logicals_data(n,k):\n",
    "    fileroot = '../../codes/codetables_data/'\n",
    "    filepath = fileroot + f'n{n}k{k}_logicals.pkl'\n",
    "    if os.path.exists(filepath):\n",
    "        with open(filepath, 'rb') as file:\n",
    "            code_logicals_data = pickle.load(file)\n",
    "    print(code_logicals_data['Logical circuits'])\n",
    "    return code_logicals_data"
   ]
  },
  {
   "cell_type": "code",
   "execution_count": 3,
   "id": "cbb189ba-af27-440e-b7af-69cc6492cb37",
   "metadata": {},
   "outputs": [],
   "source": [
    "def codetables_check_clifford_group(n,k):\n",
    "    fileroot = '../'\n",
    "    filepath = fileroot + f'n{n}k{k}.pkl'\n",
    "    with open(filepath, 'rb') as file:\n",
    "        code_auts_data = pickle.load(file)\n",
    "    filepath = fileroot + f'n{n}k{k}_logicals.pkl'\n",
    "    if os.path.exists(filepath):\n",
    "        with open(filepath, 'rb') as file:\n",
    "            code_logicals_data = pickle.load(file)\n",
    "        symplectic_mat_dict = code_logicals_data['Symplectic rep']\n",
    "        subgroups = clifford_subgroups(k,symplectic_mat_dict)\n",
    "        order = subgroups.return_order()\n",
    "        print(f\"n{n}k{k}\",order)\n",
    "        print(subgroups.check_full_clifford())\n",
    "        print('')\n",
    "    else: \n",
    "        print(f\"n{n}k{k} - FILE MISSING.\")\n",
    "    return order"
   ]
  },
  {
   "cell_type": "code",
   "execution_count": 4,
   "id": "810bde2d-0cb6-4780-bc48-628d5190a46e",
   "metadata": {},
   "outputs": [],
   "source": [
    "def codetables_check_all_gates(n,k):\n",
    "    fileroot = './logical_gates/'\n",
    "    filepath = fileroot + f'gates_n{n}k{k}.pkl'\n",
    "    with open(filepath, 'rb') as file:\n",
    "        code_auts_data = pickle.load(file)\n",
    "    filepath = fileroot + f'symp_mats_n{n}k{k}.pkl'\n",
    "    if os.path.exists(filepath):\n",
    "        with open(filepath, 'rb') as file:\n",
    "            symplectic_mats_list = pickle.load(file)\n",
    "        subgroups = clifford_subgroups(k,symplectic_mats_list)\n",
    "        order = subgroups.return_order()\n",
    "        print(f\"n{n}k{k}\",order)\n",
    "        print(subgroups.check_all_gates_individually())\n",
    "        print('')\n",
    "    else: \n",
    "        print(f\"n{n}k{k} - FILE MISSING.\")\n",
    "    return order"
   ]
  },
  {
   "cell_type": "markdown",
   "id": "3e03f808-ffed-4dfe-a2a0-d3c390add01f",
   "metadata": {},
   "source": [
    "## [[n,1]]"
   ]
  },
  {
   "cell_type": "code",
   "execution_count": 5,
   "id": "36b3aa2e-1df4-41f3-bf6f-e8aeb5537e58",
   "metadata": {},
   "outputs": [
    {
     "name": "stdout",
     "output_type": "stream",
     "text": [
      "n2k1 6\n",
      "(6, {'>>': 'for cliff in cliffList do', 'User': \"error: Identifier 'cliffList' has not been declared or assigned\"})\n",
      "\n",
      "n3k1 6\n",
      "(6, {'>>': 'for cliff in cliffList do', 'User': \"error: Identifier 'cliffList' has not been declared or assigned\"})\n",
      "\n",
      "n4k1 1\n",
      "(1, {})\n",
      "\n",
      "n5k1 6\n",
      "(6, {'>>': 'for cliff in cliffList do', 'User': \"error: Identifier 'cliffList' has not been declared or assigned\"})\n",
      "\n",
      "n6k1 6\n",
      "(6, {'>>': 'for cliff in cliffList do', 'User': \"error: Identifier 'cliffList' has not been declared or assigned\"})\n",
      "\n",
      "n7k1 6\n",
      "(6, {'>>': 'for cliff in cliffList do', 'User': \"error: Identifier 'cliffList' has not been declared or assigned\"})\n",
      "\n",
      "n8k1 6\n",
      "(6, {'>>': 'for cliff in cliffList do', 'User': \"error: Identifier 'cliffList' has not been declared or assigned\"})\n",
      "\n",
      "n9k1 6\n",
      "(6, {'>>': 'for cliff in cliffList do', 'User': \"error: Identifier 'cliffList' has not been declared or assigned\"})\n",
      "\n",
      "n10k1 3\n",
      "(3, {'>>': 'for cliff in cliffList do', 'User': \"error: Identifier 'cliffList' has not been declared or assigned\"})\n",
      "\n",
      "n11k1 3\n",
      "(3, {'>>': 'for cliff in cliffList do', 'User': \"error: Identifier 'cliffList' has not been declared or assigned\"})\n",
      "\n",
      "n12k1 3\n",
      "(3, {'>>': 'for cliff in cliffList do', 'User': \"error: Identifier 'cliffList' has not been declared or assigned\"})\n",
      "\n",
      "n13k1 3\n",
      "(3, {'>>': 'for cliff in cliffList do', 'User': \"error: Identifier 'cliffList' has not been declared or assigned\"})\n",
      "\n",
      "n14k1 3\n",
      "(3, {'>>': 'for cliff in cliffList do', 'User': \"error: Identifier 'cliffList' has not been declared or assigned\"})\n",
      "\n",
      "n15k1 3\n",
      "(3, {'>>': 'for cliff in cliffList do', 'User': \"error: Identifier 'cliffList' has not been declared or assigned\"})\n",
      "\n",
      "n16k1 1\n",
      "(1, {})\n",
      "\n",
      "n17k1 6\n",
      "(6, {'>>': 'for cliff in cliffList do', 'User': \"error: Identifier 'cliffList' has not been declared or assigned\"})\n",
      "\n",
      "n18k1 6\n",
      "(6, {'>>': 'for cliff in cliffList do', 'User': \"error: Identifier 'cliffList' has not been declared or assigned\"})\n",
      "\n",
      "n19k1 6\n",
      "(6, {'>>': 'for cliff in cliffList do', 'User': \"error: Identifier 'cliffList' has not been declared or assigned\"})\n",
      "\n",
      "n20k1 - FILE MISSING.\n"
     ]
    },
    {
     "ename": "UnboundLocalError",
     "evalue": "cannot access local variable 'order' where it is not associated with a value",
     "output_type": "error",
     "traceback": [
      "\u001b[0;31m---------------------------------------------------------------------------\u001b[0m",
      "\u001b[0;31mUnboundLocalError\u001b[0m                         Traceback (most recent call last)",
      "Cell \u001b[0;32mIn[5], line 4\u001b[0m\n\u001b[1;32m      2\u001b[0m k \u001b[38;5;241m=\u001b[39m \u001b[38;5;241m1\u001b[39m \n\u001b[1;32m      3\u001b[0m \u001b[38;5;28;01mfor\u001b[39;00m n \u001b[38;5;129;01min\u001b[39;00m \u001b[38;5;28mrange\u001b[39m(\u001b[38;5;241m2\u001b[39m,\u001b[38;5;241m30\u001b[39m\u001b[38;5;241m+\u001b[39m\u001b[38;5;241m1\u001b[39m):\n\u001b[0;32m----> 4\u001b[0m     k1_code_orders_list\u001b[38;5;241m.\u001b[39mappend(\u001b[43mcodetables_check_all_gates\u001b[49m\u001b[43m(\u001b[49m\u001b[43mn\u001b[49m\u001b[43m,\u001b[49m\u001b[43mk\u001b[49m\u001b[43m)\u001b[49m)\n\u001b[1;32m      5\u001b[0m \u001b[38;5;28mprint\u001b[39m(k1_code_orders_list)\n",
      "Cell \u001b[0;32mIn[4], line 17\u001b[0m, in \u001b[0;36mcodetables_check_all_gates\u001b[0;34m(n, k)\u001b[0m\n\u001b[1;32m     15\u001b[0m \u001b[38;5;28;01melse\u001b[39;00m: \n\u001b[1;32m     16\u001b[0m     \u001b[38;5;28mprint\u001b[39m(\u001b[38;5;124mf\u001b[39m\u001b[38;5;124m\"\u001b[39m\u001b[38;5;124mn\u001b[39m\u001b[38;5;132;01m{\u001b[39;00mn\u001b[38;5;132;01m}\u001b[39;00m\u001b[38;5;124mk\u001b[39m\u001b[38;5;132;01m{\u001b[39;00mk\u001b[38;5;132;01m}\u001b[39;00m\u001b[38;5;124m - FILE MISSING.\u001b[39m\u001b[38;5;124m\"\u001b[39m)\n\u001b[0;32m---> 17\u001b[0m \u001b[38;5;28;01mreturn\u001b[39;00m \u001b[43morder\u001b[49m\n",
      "\u001b[0;31mUnboundLocalError\u001b[0m: cannot access local variable 'order' where it is not associated with a value"
     ]
    }
   ],
   "source": [
    "k1_code_orders_list = [6]\n",
    "k = 1 \n",
    "for n in range(2,30+1):\n",
    "    k1_code_orders_list.append(codetables_check_all_gates(n,k))\n",
    "print(k1_code_orders_list)"
   ]
  },
  {
   "cell_type": "code",
   "execution_count": null,
   "id": "a352a119-fb99-40c2-82b2-c8544811a53a",
   "metadata": {},
   "outputs": [],
   "source": []
  }
 ],
 "metadata": {
  "kernelspec": {
   "display_name": "Python 3 (ipykernel)",
   "language": "python",
   "name": "python3"
  },
  "language_info": {
   "codemirror_mode": {
    "name": "ipython",
    "version": 3
   },
   "file_extension": ".py",
   "mimetype": "text/x-python",
   "name": "python",
   "nbconvert_exporter": "python",
   "pygments_lexer": "ipython3",
   "version": "3.11.5"
  }
 },
 "nbformat": 4,
 "nbformat_minor": 5
}
