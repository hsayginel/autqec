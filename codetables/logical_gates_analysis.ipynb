{
 "cells": [
  {
   "cell_type": "code",
   "execution_count": 1,
   "id": "056f047c-7606-4f49-ba72-47d8ac784272",
   "metadata": {},
   "outputs": [],
   "source": [
    "import pickle\n",
    "import os\n",
    "from logical_subgroups import *\n",
    "from utils.qiskit import *"
   ]
  },
  {
   "cell_type": "code",
   "execution_count": 2,
   "id": "764d80cb-742d-4fad-b847-b4d352d79353",
   "metadata": {},
   "outputs": [],
   "source": [
    "def print_code_logicals_data(n,k):\n",
    "    fileroot = '../../codes/codetables_data/'\n",
    "    filepath = fileroot + f'n{n}k{k}_logicals.pkl'\n",
    "    if os.path.exists(filepath):\n",
    "        with open(filepath, 'rb') as file:\n",
    "            code_logicals_data = pickle.load(file)\n",
    "    print(code_logicals_data['Logical circuits'])\n",
    "    return code_logicals_data"
   ]
  },
  {
   "cell_type": "code",
   "execution_count": 3,
   "id": "cbb189ba-af27-440e-b7af-69cc6492cb37",
   "metadata": {},
   "outputs": [],
   "source": [
    "def codetables_check_clifford_group(n,k):\n",
    "    fileroot = '../'\n",
    "    filepath = fileroot + f'n{n}k{k}.pkl'\n",
    "    with open(filepath, 'rb') as file:\n",
    "        code_auts_data = pickle.load(file)\n",
    "    filepath = fileroot + f'n{n}k{k}_logicals.pkl'\n",
    "    if os.path.exists(filepath):\n",
    "        with open(filepath, 'rb') as file:\n",
    "            code_logicals_data = pickle.load(file)\n",
    "        symplectic_mat_dict = code_logicals_data['Symplectic rep']\n",
    "        subgroups = clifford_subgroups(k,symplectic_mat_dict)\n",
    "        order = subgroups.return_order()\n",
    "        print(f\"n{n}k{k}\",order)\n",
    "        print(subgroups.check_full_clifford())\n",
    "        print('')\n",
    "    else: \n",
    "        print(f\"n{n}k{k} - FILE MISSING.\")\n",
    "    return order"
   ]
  },
  {
   "cell_type": "code",
   "execution_count": 4,
   "id": "810bde2d-0cb6-4780-bc48-628d5190a46e",
   "metadata": {},
   "outputs": [],
   "source": [
    "def codetables_check_all_gates(n,k):\n",
    "    fileroot = './logical_gates/'\n",
    "    filepath = fileroot + f'gates_n{n}k{k}.pkl'\n",
    "    with open(filepath, 'rb') as file:\n",
    "        code_auts_data = pickle.load(file)\n",
    "    filepath = fileroot + f'symp_mats_n{n}k{k}.pkl'\n",
    "    if os.path.exists(filepath):\n",
    "        with open(filepath, 'rb') as file:\n",
    "            symplectic_mats_list = pickle.load(file)\n",
    "        subgroups = clifford_subgroups(k,symplectic_mats_list)\n",
    "        order = subgroups.return_order()\n",
    "        print(f\"n{n}k{k}\",order)\n",
    "        print(subgroups.check_all_gates_individually())\n",
    "        print('')\n",
    "    else: \n",
    "        print(f\"n{n}k{k} - FILE MISSING.\")\n",
    "    return order"
   ]
  },
  {
   "cell_type": "markdown",
   "id": "3e03f808-ffed-4dfe-a2a0-d3c390add01f",
   "metadata": {},
   "source": [
    "## [[n,1]]"
   ]
  },
  {
   "cell_type": "code",
   "execution_count": 5,
   "id": "36b3aa2e-1df4-41f3-bf6f-e8aeb5537e58",
   "metadata": {},
   "outputs": [
    {
     "name": "stdout",
     "output_type": "stream",
     "text": [
      "n1k1 1\n",
      "(1, {})\n",
      "\n",
      "n2k1 6\n",
      "(6, {'H_1': 'a2', 'S_1': 'a2 * a3', 'gammaXYZ_1': 'a2 * a3^-1 * a2 * a3', 'gammaXZY_1': 'a2 * a3^-1 * a2'})\n",
      "\n",
      "n3k1 6\n",
      "(6, {'H_1': 'a3 * a5', 'S_1': 'a3', 'gammaXYZ_1': 'a5', 'gammaXZY_1': 'a3 * a5 * a3'})\n",
      "\n",
      "n4k1 1\n",
      "(1, {})\n",
      "\n",
      "n5k1 6\n",
      "(6, {'H_1': 'a4 * a1', 'S_1': 'a1', 'gammaXYZ_1': 'a1 * a4 * a1', 'gammaXZY_1': 'a4'})\n",
      "\n",
      "n6k1 6\n",
      "(6, {'H_1': 'a3 * a5', 'S_1': 'a3', 'gammaXYZ_1': 'a5', 'gammaXZY_1': 'a3 * a5 * a3'})\n",
      "\n",
      "n7k1 6\n",
      "(6, {'H_1': 'a3 * a5', 'S_1': 'a3', 'gammaXYZ_1': 'a5', 'gammaXZY_1': 'a3 * a5 * a3'})\n",
      "\n",
      "n8k1 6\n",
      "(6, {'H_1': 'a3', 'S_1': 'a3 * a9', 'gammaXYZ_1': 'a3 * a9^-1 * a3 * a9', 'gammaXZY_1': 'a3 * a9^-1 * a3'})\n",
      "\n",
      "n9k1 6\n",
      "(6, {'H_1': 'a1', 'S_1': 'a1 * a10', 'gammaXYZ_1': 'a1 * a10^-1 * a1 * a10', 'gammaXZY_1': 'a1 * a10^-1 * a1'})\n",
      "\n",
      "n10k1 3\n",
      "(3, {'gammaXYZ_1': 'a2', 'gammaXZY_1': 'a2^2'})\n",
      "\n",
      "n11k1 3\n",
      "(3, {'gammaXYZ_1': 'a3^2', 'gammaXZY_1': 'a3'})\n",
      "\n",
      "n12k1 3\n",
      "(3, {'gammaXYZ_1': 'a4^2', 'gammaXZY_1': 'a4'})\n",
      "\n",
      "n13k1 3\n",
      "(3, {'gammaXYZ_1': 'a5^2', 'gammaXZY_1': 'a5'})\n",
      "\n",
      "n14k1 3\n",
      "(3, {'gammaXYZ_1': 'a6^2', 'gammaXZY_1': 'a6'})\n",
      "\n",
      "n15k1 3\n",
      "(3, {'gammaXYZ_1': 'a6', 'gammaXZY_1': 'a6^2'})\n",
      "\n",
      "n16k1 1\n",
      "(1, {})\n",
      "\n",
      "n17k1 6\n",
      "(6, {'H_1': 'a6 * a1', 'S_1': 'a1 * a6', 'gammaXYZ_1': 'a6', 'gammaXZY_1': 'a1 * a6 * a1'})\n",
      "\n",
      "n18k1 6\n",
      "(6, {'H_1': 'a7 * a1', 'S_1': 'a1', 'gammaXYZ_1': 'a1 * a7 * a1', 'gammaXZY_1': 'a7'})\n",
      "\n",
      "n19k1 6\n",
      "(6, {'H_1': 'a9 * a3', 'S_1': 'a3', 'gammaXYZ_1': 'a3 * a9 * a3', 'gammaXZY_1': 'a9'})\n",
      "\n",
      "n20k1 6\n",
      "(6, {'H_1': 'a9 * a1', 'S_1': 'a1', 'gammaXYZ_1': 'a1 * a9 * a1', 'gammaXZY_1': 'a9'})\n",
      "\n"
     ]
    },
    {
     "ename": "FileNotFoundError",
     "evalue": "[Errno 2] No such file or directory: './logical_gates/gates_n21k1.pkl'",
     "output_type": "error",
     "traceback": [
      "\u001b[0;31m---------------------------------------------------------------------------\u001b[0m",
      "\u001b[0;31mFileNotFoundError\u001b[0m                         Traceback (most recent call last)",
      "Cell \u001b[0;32mIn[5], line 4\u001b[0m\n\u001b[1;32m      2\u001b[0m k \u001b[38;5;241m=\u001b[39m \u001b[38;5;241m1\u001b[39m \n\u001b[1;32m      3\u001b[0m \u001b[38;5;28;01mfor\u001b[39;00m n \u001b[38;5;129;01min\u001b[39;00m \u001b[38;5;28mrange\u001b[39m(\u001b[38;5;241m1\u001b[39m,\u001b[38;5;241m30\u001b[39m\u001b[38;5;241m+\u001b[39m\u001b[38;5;241m1\u001b[39m):\n\u001b[0;32m----> 4\u001b[0m     k1_code_orders_list\u001b[38;5;241m.\u001b[39mappend(\u001b[43mcodetables_check_all_gates\u001b[49m\u001b[43m(\u001b[49m\u001b[43mn\u001b[49m\u001b[43m,\u001b[49m\u001b[43mk\u001b[49m\u001b[43m)\u001b[49m)\n\u001b[1;32m      5\u001b[0m \u001b[38;5;28mprint\u001b[39m(k1_code_orders_list)\n",
      "Cell \u001b[0;32mIn[4], line 4\u001b[0m, in \u001b[0;36mcodetables_check_all_gates\u001b[0;34m(n, k)\u001b[0m\n\u001b[1;32m      2\u001b[0m fileroot \u001b[38;5;241m=\u001b[39m \u001b[38;5;124m'\u001b[39m\u001b[38;5;124m./logical_gates/\u001b[39m\u001b[38;5;124m'\u001b[39m\n\u001b[1;32m      3\u001b[0m filepath \u001b[38;5;241m=\u001b[39m fileroot \u001b[38;5;241m+\u001b[39m \u001b[38;5;124mf\u001b[39m\u001b[38;5;124m'\u001b[39m\u001b[38;5;124mgates_n\u001b[39m\u001b[38;5;132;01m{\u001b[39;00mn\u001b[38;5;132;01m}\u001b[39;00m\u001b[38;5;124mk\u001b[39m\u001b[38;5;132;01m{\u001b[39;00mk\u001b[38;5;132;01m}\u001b[39;00m\u001b[38;5;124m.pkl\u001b[39m\u001b[38;5;124m'\u001b[39m\n\u001b[0;32m----> 4\u001b[0m \u001b[38;5;28;01mwith\u001b[39;00m \u001b[38;5;28;43mopen\u001b[39;49m\u001b[43m(\u001b[49m\u001b[43mfilepath\u001b[49m\u001b[43m,\u001b[49m\u001b[43m \u001b[49m\u001b[38;5;124;43m'\u001b[39;49m\u001b[38;5;124;43mrb\u001b[39;49m\u001b[38;5;124;43m'\u001b[39;49m\u001b[43m)\u001b[49m \u001b[38;5;28;01mas\u001b[39;00m file:\n\u001b[1;32m      5\u001b[0m     code_auts_data \u001b[38;5;241m=\u001b[39m pickle\u001b[38;5;241m.\u001b[39mload(file)\n\u001b[1;32m      6\u001b[0m filepath \u001b[38;5;241m=\u001b[39m fileroot \u001b[38;5;241m+\u001b[39m \u001b[38;5;124mf\u001b[39m\u001b[38;5;124m'\u001b[39m\u001b[38;5;124msymp_mats_n\u001b[39m\u001b[38;5;132;01m{\u001b[39;00mn\u001b[38;5;132;01m}\u001b[39;00m\u001b[38;5;124mk\u001b[39m\u001b[38;5;132;01m{\u001b[39;00mk\u001b[38;5;132;01m}\u001b[39;00m\u001b[38;5;124m.pkl\u001b[39m\u001b[38;5;124m'\u001b[39m\n",
      "File \u001b[0;32m~/miniconda3/envs/code_auts/lib/python3.11/site-packages/IPython/core/interactiveshell.py:324\u001b[0m, in \u001b[0;36m_modified_open\u001b[0;34m(file, *args, **kwargs)\u001b[0m\n\u001b[1;32m    317\u001b[0m \u001b[38;5;28;01mif\u001b[39;00m file \u001b[38;5;129;01min\u001b[39;00m {\u001b[38;5;241m0\u001b[39m, \u001b[38;5;241m1\u001b[39m, \u001b[38;5;241m2\u001b[39m}:\n\u001b[1;32m    318\u001b[0m     \u001b[38;5;28;01mraise\u001b[39;00m \u001b[38;5;167;01mValueError\u001b[39;00m(\n\u001b[1;32m    319\u001b[0m         \u001b[38;5;124mf\u001b[39m\u001b[38;5;124m\"\u001b[39m\u001b[38;5;124mIPython won\u001b[39m\u001b[38;5;124m'\u001b[39m\u001b[38;5;124mt let you open fd=\u001b[39m\u001b[38;5;132;01m{\u001b[39;00mfile\u001b[38;5;132;01m}\u001b[39;00m\u001b[38;5;124m by default \u001b[39m\u001b[38;5;124m\"\u001b[39m\n\u001b[1;32m    320\u001b[0m         \u001b[38;5;124m\"\u001b[39m\u001b[38;5;124mas it is likely to crash IPython. If you know what you are doing, \u001b[39m\u001b[38;5;124m\"\u001b[39m\n\u001b[1;32m    321\u001b[0m         \u001b[38;5;124m\"\u001b[39m\u001b[38;5;124myou can use builtins\u001b[39m\u001b[38;5;124m'\u001b[39m\u001b[38;5;124m open.\u001b[39m\u001b[38;5;124m\"\u001b[39m\n\u001b[1;32m    322\u001b[0m     )\n\u001b[0;32m--> 324\u001b[0m \u001b[38;5;28;01mreturn\u001b[39;00m \u001b[43mio_open\u001b[49m\u001b[43m(\u001b[49m\u001b[43mfile\u001b[49m\u001b[43m,\u001b[49m\u001b[43m \u001b[49m\u001b[38;5;241;43m*\u001b[39;49m\u001b[43margs\u001b[49m\u001b[43m,\u001b[49m\u001b[43m \u001b[49m\u001b[38;5;241;43m*\u001b[39;49m\u001b[38;5;241;43m*\u001b[39;49m\u001b[43mkwargs\u001b[49m\u001b[43m)\u001b[49m\n",
      "\u001b[0;31mFileNotFoundError\u001b[0m: [Errno 2] No such file or directory: './logical_gates/gates_n21k1.pkl'"
     ]
    }
   ],
   "source": [
    "k1_code_orders_list = [6]\n",
    "k = 1 \n",
    "n_max = 25\n",
    "for n in range(1,n_max+1):\n",
    "    k1_code_orders_list.append(codetables_check_all_gates(n,k))\n",
    "print(k1_code_orders_list)"
   ]
  },
  {
   "cell_type": "code",
   "execution_count": 6,
   "id": "4624f8b5-cece-41c3-9563-3a3bc1d072e4",
   "metadata": {},
   "outputs": [
    {
     "name": "stdout",
     "output_type": "stream",
     "text": [
      "n2k2 1\n",
      "(1, {})\n",
      "\n",
      "n3k2 72\n",
      "(72, {'H_1': 'a3 * a5', 'H_2': 'a2 * a4 * a5 * a4', 'S_1': 'a3', 'S_2': 'a2', 'gammaXYZ_1': 'a5', 'gammaXYZ_2': 'a4 * a5 * a4', 'gammaXZY_1': 'a3 * a5 * a3', 'gammaXZY_2': 'a2 * a4 * a5 * a3 * a4', 'SWAP_(1,2)': 'a4'})\n",
      "\n",
      "n4k2 36\n",
      "(36, {'SWAP_(1,2)': 'a1 * a5', 'CNOT_(1,2)': 'a2 * a6', 'CNOT_(2,1)': 'a6 * a1 * a5 * a1 * a2 * a5 * a1 * a5 * a1 * a2 * a5 * a1 * a2 * a1', 'CZ_(1,2)': 'a2 * a6'})\n",
      "\n",
      "n5k2 36\n",
      "(36, {'SWAP_(1,2)': 'a2', 'CNOT_(1,2)': 'a1 * a6', 'CNOT_(2,1)': 'a2 * a7 * a2 * a7 * a6 * a1 * a7 * a6 * a2 * a7 * a6 * a7^2 * a6 * a7', '*': 'a1 * a2 * a1', 'CZ_(1,2)': 'a1 * a6'})\n",
      "\n",
      "n6k2 36\n",
      "(36, {'SWAP_(1,2)': 'a1 * a8', 'CNOT_(1,2)': 'a4 * a8 * a9', 'CNOT_(2,1)': 'a4', 'CZ_(1,2)': 'a4 * a8 * a9'})\n",
      "\n",
      "n7k2 36\n",
      "(36, {'SWAP_(1,2)': 'a10 * a1', 'CNOT_(1,2)': 'a11 * a6 * a10 * a1 * a11 * a10^2 * a11 * a1 * a10 * a11 * a1^2 * a6 ', '*': 'a1 * a11 * a10 * a11 * a10 * a1 * a11 * a10 * a6 * a10 * a1 * a11 * a10 * a6 *', 'a10': '* a1 * a11 * a10^2 * a11 * a6 * a11', 'CNOT_(2,1)': 'a11 * a6 * a10 * a1 * a11 * a10^2 * a11 * a1 * a10 * a11 * a1^2 * a6 ', 'CZ_(1,2)': 'a11 * a6 * a10 * a1 * a11 * a10^2 * a11 * a1 * a10 * a11 * a1^2 * a6 * ', 'a1': '* a11 * a10 * a11 * a10 * a1 * a11 * a10 * a6 * a10 * a1 * a11 * a10 * a6 * '})\n",
      "\n",
      "n8k2 6\n",
      "(6, {'CNOT_(1,2)': 'a1', 'CZ_(1,2)': 'a1'})\n",
      "\n",
      "n9k2 6\n",
      "(6, {'CNOT_(1,2)': 'a2', 'CZ_(1,2)': 'a2'})\n",
      "\n",
      "n10k2 18\n",
      "(18, {'CNOT_(1,2)': 'a1 * a2^2 * a3', 'CZ_(1,2)': 'a1 * a2^2 * a3'})\n",
      "\n",
      "n11k2 18\n",
      "(18, {'CNOT_(1,2)': 'a1 * a3', 'CZ_(1,2)': 'a1 * a3'})\n",
      "\n",
      "n12k2 18\n",
      "(18, {'CNOT_(1,2)': 'a2^a6', 'CZ_(1,2)': 'a2^a6'})\n",
      "\n",
      "n13k2 18\n",
      "(18, {'CNOT_(1,2)': 'a3 * a7^2', 'CZ_(1,2)': 'a3 * a7^2'})\n",
      "\n",
      "n14k2 18\n",
      "(18, {'gammaXYZ_1': 'a4^2 * a3', 'gammaXYZ_2': 'a4^2', 'gammaXZY_1': 'a4 * a3^2', 'gammaXZY_2': 'a4', 'SWAP_(1,2)': 'a1 * a3'})\n",
      "\n",
      "n15k2 18\n",
      "(18, {'gammaXYZ_1': 'a4^2', 'gammaXYZ_2': 'a3 * a4^2 * a3', 'gammaXZY_1': 'a4', 'gammaXZY_2': 'a3 * a4 * a3', 'SWAP_(1,2)': 'a3'})\n",
      "\n",
      "n16k2 18\n",
      "(18, {})\n",
      "\n",
      "n17k2 18\n",
      "(18, {})\n",
      "\n",
      "n18k2 18\n",
      "(18, {})\n",
      "\n",
      "n19k2 18\n",
      "(18, {})\n",
      "\n",
      "n20k2 18\n",
      "(18, {})\n",
      "\n"
     ]
    },
    {
     "ename": "FileNotFoundError",
     "evalue": "[Errno 2] No such file or directory: './logical_gates/gates_n21k2.pkl'",
     "output_type": "error",
     "traceback": [
      "\u001b[0;31m---------------------------------------------------------------------------\u001b[0m",
      "\u001b[0;31mFileNotFoundError\u001b[0m                         Traceback (most recent call last)",
      "Cell \u001b[0;32mIn[6], line 4\u001b[0m\n\u001b[1;32m      2\u001b[0m k \u001b[38;5;241m=\u001b[39m \u001b[38;5;241m2\u001b[39m\n\u001b[1;32m      3\u001b[0m \u001b[38;5;28;01mfor\u001b[39;00m n \u001b[38;5;129;01min\u001b[39;00m \u001b[38;5;28mrange\u001b[39m(k,\u001b[38;5;241m30\u001b[39m\u001b[38;5;241m+\u001b[39m\u001b[38;5;241m1\u001b[39m):\n\u001b[0;32m----> 4\u001b[0m     k1_code_orders_list\u001b[38;5;241m.\u001b[39mappend(\u001b[43mcodetables_check_all_gates\u001b[49m\u001b[43m(\u001b[49m\u001b[43mn\u001b[49m\u001b[43m,\u001b[49m\u001b[43mk\u001b[49m\u001b[43m)\u001b[49m)\n\u001b[1;32m      5\u001b[0m \u001b[38;5;28mprint\u001b[39m(k1_code_orders_list)\n",
      "Cell \u001b[0;32mIn[4], line 4\u001b[0m, in \u001b[0;36mcodetables_check_all_gates\u001b[0;34m(n, k)\u001b[0m\n\u001b[1;32m      2\u001b[0m fileroot \u001b[38;5;241m=\u001b[39m \u001b[38;5;124m'\u001b[39m\u001b[38;5;124m./logical_gates/\u001b[39m\u001b[38;5;124m'\u001b[39m\n\u001b[1;32m      3\u001b[0m filepath \u001b[38;5;241m=\u001b[39m fileroot \u001b[38;5;241m+\u001b[39m \u001b[38;5;124mf\u001b[39m\u001b[38;5;124m'\u001b[39m\u001b[38;5;124mgates_n\u001b[39m\u001b[38;5;132;01m{\u001b[39;00mn\u001b[38;5;132;01m}\u001b[39;00m\u001b[38;5;124mk\u001b[39m\u001b[38;5;132;01m{\u001b[39;00mk\u001b[38;5;132;01m}\u001b[39;00m\u001b[38;5;124m.pkl\u001b[39m\u001b[38;5;124m'\u001b[39m\n\u001b[0;32m----> 4\u001b[0m \u001b[38;5;28;01mwith\u001b[39;00m \u001b[38;5;28;43mopen\u001b[39;49m\u001b[43m(\u001b[49m\u001b[43mfilepath\u001b[49m\u001b[43m,\u001b[49m\u001b[43m \u001b[49m\u001b[38;5;124;43m'\u001b[39;49m\u001b[38;5;124;43mrb\u001b[39;49m\u001b[38;5;124;43m'\u001b[39;49m\u001b[43m)\u001b[49m \u001b[38;5;28;01mas\u001b[39;00m file:\n\u001b[1;32m      5\u001b[0m     code_auts_data \u001b[38;5;241m=\u001b[39m pickle\u001b[38;5;241m.\u001b[39mload(file)\n\u001b[1;32m      6\u001b[0m filepath \u001b[38;5;241m=\u001b[39m fileroot \u001b[38;5;241m+\u001b[39m \u001b[38;5;124mf\u001b[39m\u001b[38;5;124m'\u001b[39m\u001b[38;5;124msymp_mats_n\u001b[39m\u001b[38;5;132;01m{\u001b[39;00mn\u001b[38;5;132;01m}\u001b[39;00m\u001b[38;5;124mk\u001b[39m\u001b[38;5;132;01m{\u001b[39;00mk\u001b[38;5;132;01m}\u001b[39;00m\u001b[38;5;124m.pkl\u001b[39m\u001b[38;5;124m'\u001b[39m\n",
      "File \u001b[0;32m~/miniconda3/envs/code_auts/lib/python3.11/site-packages/IPython/core/interactiveshell.py:324\u001b[0m, in \u001b[0;36m_modified_open\u001b[0;34m(file, *args, **kwargs)\u001b[0m\n\u001b[1;32m    317\u001b[0m \u001b[38;5;28;01mif\u001b[39;00m file \u001b[38;5;129;01min\u001b[39;00m {\u001b[38;5;241m0\u001b[39m, \u001b[38;5;241m1\u001b[39m, \u001b[38;5;241m2\u001b[39m}:\n\u001b[1;32m    318\u001b[0m     \u001b[38;5;28;01mraise\u001b[39;00m \u001b[38;5;167;01mValueError\u001b[39;00m(\n\u001b[1;32m    319\u001b[0m         \u001b[38;5;124mf\u001b[39m\u001b[38;5;124m\"\u001b[39m\u001b[38;5;124mIPython won\u001b[39m\u001b[38;5;124m'\u001b[39m\u001b[38;5;124mt let you open fd=\u001b[39m\u001b[38;5;132;01m{\u001b[39;00mfile\u001b[38;5;132;01m}\u001b[39;00m\u001b[38;5;124m by default \u001b[39m\u001b[38;5;124m\"\u001b[39m\n\u001b[1;32m    320\u001b[0m         \u001b[38;5;124m\"\u001b[39m\u001b[38;5;124mas it is likely to crash IPython. If you know what you are doing, \u001b[39m\u001b[38;5;124m\"\u001b[39m\n\u001b[1;32m    321\u001b[0m         \u001b[38;5;124m\"\u001b[39m\u001b[38;5;124myou can use builtins\u001b[39m\u001b[38;5;124m'\u001b[39m\u001b[38;5;124m open.\u001b[39m\u001b[38;5;124m\"\u001b[39m\n\u001b[1;32m    322\u001b[0m     )\n\u001b[0;32m--> 324\u001b[0m \u001b[38;5;28;01mreturn\u001b[39;00m \u001b[43mio_open\u001b[49m\u001b[43m(\u001b[49m\u001b[43mfile\u001b[49m\u001b[43m,\u001b[49m\u001b[43m \u001b[49m\u001b[38;5;241;43m*\u001b[39;49m\u001b[43margs\u001b[49m\u001b[43m,\u001b[49m\u001b[43m \u001b[49m\u001b[38;5;241;43m*\u001b[39;49m\u001b[38;5;241;43m*\u001b[39;49m\u001b[43mkwargs\u001b[49m\u001b[43m)\u001b[49m\n",
      "\u001b[0;31mFileNotFoundError\u001b[0m: [Errno 2] No such file or directory: './logical_gates/gates_n21k2.pkl'"
     ]
    }
   ],
   "source": [
    "k1_code_orders_list = [6]\n",
    "k = 2\n",
    "n_max = 25\n",
    "for n in range(k,n_max+1):\n",
    "    k1_code_orders_list.append(codetables_check_all_gates(n,k))\n",
    "print(k1_code_orders_list)"
   ]
  },
  {
   "cell_type": "code",
   "execution_count": null,
   "id": "c588678e-d66b-4a57-80fa-adb34b5dce6c",
   "metadata": {},
   "outputs": [],
   "source": []
  }
 ],
 "metadata": {
  "kernelspec": {
   "display_name": "Python 3 (ipykernel)",
   "language": "python",
   "name": "python3"
  },
  "language_info": {
   "codemirror_mode": {
    "name": "ipython",
    "version": 3
   },
   "file_extension": ".py",
   "mimetype": "text/x-python",
   "name": "python",
   "nbconvert_exporter": "python",
   "pygments_lexer": "ipython3",
   "version": "3.11.5"
  }
 },
 "nbformat": 4,
 "nbformat_minor": 5
}
