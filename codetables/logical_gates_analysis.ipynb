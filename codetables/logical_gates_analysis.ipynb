{
 "cells": [
  {
   "cell_type": "code",
   "execution_count": 1,
   "id": "056f047c-7606-4f49-ba72-47d8ac784272",
   "metadata": {},
   "outputs": [],
   "source": [
    "import pickle\n",
    "import os\n",
    "from logical_subgroups import *"
   ]
  },
  {
   "cell_type": "markdown",
   "id": "3e03f808-ffed-4dfe-a2a0-d3c390add01f",
   "metadata": {},
   "source": [
    "# [[n,1]]"
   ]
  },
  {
   "cell_type": "code",
   "execution_count": 3,
   "id": "36b3aa2e-1df4-41f3-bf6f-e8aeb5537e58",
   "metadata": {},
   "outputs": [
    {
     "name": "stdout",
     "output_type": "stream",
     "text": [
      "n1k1 1\n",
      "\n",
      "(1, {})\n",
      "\n",
      "gates [[('Xsqrt', 1)]]\n",
      "n2k1 6\n",
      "S3\n",
      "(6, {'H_1': 'a2', 'S_1': 'a2 * a3', 'gammaXYZ_1': 'a2 * a3^-1 * a2 * a3', 'gammaXZY_1': 'a2 * a3^-1 * a2'})\n",
      "\n",
      "gates [[('Xsqrt', 2)], [('H', 1)], [('GammaXZY', 1)]]\n",
      "n3k1 6\n",
      "S3\n",
      "(6, {'H_1': 'a3 * a5', 'S_1': 'a3', 'gammaXYZ_1': 'a5', 'gammaXZY_1': 'a3 * a5 * a3'})\n",
      "\n",
      "gates [[('Xsqrt', 2)], [('Xsqrt', 3)], [('S', 1)], [('Xsqrt', 2), ('Xsqrt', 3), ('SWAP', (2, 3))], [('GammaXYZ', 1)]]\n",
      "n4k1 1\n",
      "\n",
      "(1, {})\n",
      "\n",
      "gates [[('X', 3), ('Xsqrt', 1), ('Xsqrt', 3), ('SWAP', (1, 3))], [('X', 3), ('Xsqrt', 2), ('Xsqrt', 4)], [('X', 3), ('Xsqrt', 1), ('Xsqrt', 3)], [('X', 3), ('Xsqrt', 2), ('Xsqrt', 4), ('SWAP', (2, 4))], [('SWAP', (3, 4)), ('SWAP', (1, 2))]]\n",
      "n5k1 6\n",
      "S3\n",
      "(6, {'H_1': 'a4 * a1', 'S_1': 'a1', 'gammaXYZ_1': 'a1 * a4 * a1', 'gammaXZY_1': 'a4'})\n",
      "\n",
      "gates [[('Z', 1), ('Xsqrt', 1), ('H', 2), ('H', 3), ('H', 4), ('H', 5), ('SWAP', (2, 3))], [('GammaXYZ', 1), ('GammaXZY', 2), ('GammaXYZ', 3), ('GammaXZY', 4), ('SWAP', (2, 3)), ('SWAP', (1, 4))], [('GammaXZY', 3), ('GammaXYZ', 4), ('SWAP', (3, 4)), ('SWAP', (1, 2))], [('GammaXZY', 2), ('GammaXZY', 3), ('GammaXZY', 4), ('GammaXZY', 5), ('SWAP', (3, 4)), ('SWAP', (2, 3))], [('GammaXYZ', 1), ('GammaXYZ', 2), ('GammaXYZ', 3), ('GammaXYZ', 4), ('GammaXYZ', 5)], [('GammaXYZ', 1), ('GammaXZY', 2), ('GammaXYZ', 3), ('GammaXZY', 4), ('SWAP', (4, 5)), ('SWAP', (3, 4)), ('SWAP', (2, 5)), ('SWAP', (1, 2))]]\n",
      "n6k1 6\n",
      "S3\n",
      "(6, {'H_1': 'a3 * a5', 'S_1': 'a3', 'gammaXYZ_1': 'a5', 'gammaXZY_1': 'a3 * a5 * a3'})\n",
      "\n",
      "gates [[('GammaXYZ', 1), ('GammaXZY', 2), ('GammaXYZ', 3), ('GammaXZY', 4), ('SWAP', (2, 3)), ('SWAP', (1, 4))], [('Xsqrt', 6)], [('Z', 1), ('Z', 2), ('Z', 3), ('H', 1), ('S', 2), ('H', 3), ('Xsqrt', 4), ('Xsqrt', 5), ('Xsqrt', 6), ('SWAP', (3, 4)), ('SWAP', (2, 3)), ('SWAP', (1, 2))], [('GammaXYZ', 1), ('GammaXZY', 2), ('GammaXZY', 3), ('GammaXZY', 4), ('GammaXZY', 5), ('SWAP', (4, 5)), ('SWAP', (3, 4))], [('GammaXZY', 1), ('GammaXZY', 2), ('GammaXZY', 3), ('GammaXZY', 4), ('GammaXZY', 5)], [('GammaXZY', 3), ('GammaXYZ', 4), ('SWAP', (4, 5)), ('SWAP', (3, 5)), ('SWAP', (2, 3)), ('SWAP', (1, 3))]]\n",
      "n7k1 6\n",
      "S3\n",
      "(6, {'H_1': 'a3 * a5', 'S_1': 'a3', 'gammaXYZ_1': 'a5', 'gammaXZY_1': 'a3 * a5 * a3'})\n",
      "\n",
      "gates [[('SWAP', (4, 6)), ('SWAP', (1, 7))], [('SWAP', (2, 7)), ('SWAP', (1, 5))], [('S', 1), ('S', 2), ('S', 3), ('S', 4), ('S', 5), ('S', 6), ('S', 7)], [('SWAP', (4, 6)), ('SWAP', (2, 5))], [('GammaXYZ', 1), ('GammaXYZ', 2), ('GammaXYZ', 3), ('GammaXYZ', 4), ('GammaXYZ', 5), ('GammaXYZ', 6), ('GammaXYZ', 7), ('SWAP', (5, 6)), ('SWAP', (4, 5)), ('SWAP', (3, 7)), ('SWAP', (1, 3))], [('SWAP', (5, 6)), ('SWAP', (4, 5)), ('SWAP', (3, 7)), ('SWAP', (1, 3))], [('SWAP', (6, 7)), ('SWAP', (5, 7)), ('SWAP', (4, 5)), ('SWAP', (3, 6)), ('SWAP', (2, 7)), ('SWAP', (1, 4))]]\n",
      "n8k1 6\n",
      "S3\n",
      "(6, {'H_1': 'a3', 'S_1': 'a3 * a9', 'gammaXYZ_1': 'a3 * a9^-1 * a3 * a9', 'gammaXZY_1': 'a3 * a9^-1 * a3'})\n",
      "\n",
      "gates [[('Xsqrt', 8)], [('Xsqrt', 7)], [('Z', 1), ('Z', 2), ('Z', 3), ('X', 4), ('H', 1), ('S', 2), ('H', 3), ('S', 4), ('Xsqrt', 5), ('SWAP', (4, 5)), ('SWAP', (2, 5)), ('SWAP', (1, 2))], [('Z', 2), ('Z', 3), ('S', 1), ('H', 2), ('H', 3), ('H', 4), ('H', 5), ('SWAP', (2, 4))], [('Xsqrt', 6)], [('SWAP', (6, 8))], [('Xsqrt', 7), ('Xsqrt', 8), ('SWAP', (7, 8)), ('SWAP', (6, 8))], [('GammaXZY', 3), ('GammaXYZ', 4), ('SWAP', (2, 5)), ('SWAP', (1, 5))], [('GammaXYZ', 1), ('GammaXYZ', 2), ('GammaXYZ', 3), ('GammaXYZ', 4), ('GammaXYZ', 5)], [('GammaXZY', 1), ('GammaXZY', 3), ('GammaXYZ', 4), ('GammaXYZ', 5), ('SWAP', (4, 5)), ('SWAP', (3, 5)), ('SWAP', (2, 5)), ('SWAP', (1, 3))]]\n",
      "n9k1 6\n",
      "S3\n",
      "(6, {'H_1': 'a1', 'S_1': 'a1 * a10', 'gammaXYZ_1': 'a1 * a10^-1 * a1 * a10', 'gammaXZY_1': 'a1 * a10^-1 * a1'})\n",
      "\n",
      "gates [[('Z', 2), ('Z', 3), ('H', 1), ('S', 2), ('S', 3), ('S', 4), ('S', 5), ('SWAP', (2, 3))], [('SWAP', (6, 7))], [('GammaXYZ', 1), ('GammaXZY', 2), ('GammaXYZ', 3), ('GammaXZY', 4), ('SWAP', (2, 3)), ('SWAP', (1, 4))], [('GammaXZY', 3), ('GammaXYZ', 4), ('SWAP', (3, 4)), ('SWAP', (1, 2))], [('Xsqrt', 8)], [('Xsqrt', 7)], [('Xsqrt', 6)], [('Xsqrt', 7), ('Xsqrt', 9), ('SWAP', (7, 9)), ('SWAP', (6, 8))], [('Xsqrt', 9)], [('GammaXYZ', 1), ('GammaXYZ', 2), ('GammaXYZ', 3), ('GammaXYZ', 4), ('GammaXYZ', 5)], [('Xsqrt', 7), ('Xsqrt', 9), ('SWAP', (7, 9)), ('SWAP', (6, 7))], [('GammaXYZ', 1), ('GammaXYZ', 2), ('GammaXZY', 3), ('GammaXYZ', 5), ('SWAP', (2, 5)), ('SWAP', (1, 2))], [('GammaXYZ', 1), ('GammaXZY', 3), ('GammaXYZ', 4), ('GammaXZY', 5), ('SWAP', (4, 5)), ('SWAP', (3, 5)), ('SWAP', (2, 4)), ('SWAP', (1, 5))]]\n",
      "n10k1 3\n",
      "C3\n",
      "(3, {'gammaXYZ_1': 'a2', 'gammaXZY_1': 'a2^2'})\n",
      "\n",
      "gates [[('Z', 4), ('X', 6), ('GammaXYZ', 1), ('GammaXYZ', 2), ('GammaXYZ', 3), ('GammaXYZ', 4), ('GammaXYZ', 5), ('GammaXYZ', 6), ('SWAP', (8, 9)), ('SWAP', (7, 8)), ('SWAP', (5, 6)), ('SWAP', (4, 6)), ('SWAP', (2, 3)), ('SWAP', (1, 3))], [('Z', 4), ('Z', 9), ('Z', 10), ('Xsqrt', 1), ('S', 2), ('H', 3), ('GammaXYZ', 4), ('GammaXZY', 5), ('Xsqrt', 7), ('S', 8), ('H', 9), ('GammaXYZ', 10), ('SWAP', (8, 9)), ('SWAP', (7, 8)), ('SWAP', (6, 8)), ('SWAP', (5, 9)), ('SWAP', (4, 7)), ('SWAP', (3, 5)), ('SWAP', (2, 4)), ('SWAP', (1, 6))]]\n",
      "n11k1 3\n",
      "C3\n",
      "(3, {'gammaXYZ_1': 'a3^2', 'gammaXZY_1': 'a3'})\n",
      "\n",
      "gates [[('Z', 2), ('Z', 3), ('Z', 5), ('S', 1), ('S', 2), ('S', 3), ('S', 4), ('S', 5), ('S', 6), ('SWAP', (10, 11)), ('SWAP', (7, 9)), ('SWAP', (3, 6)), ('SWAP', (2, 4)), ('SWAP', (1, 5))], [('Z', 2), ('Z', 5), ('Z', 9), ('Z', 10), ('X', 6), ('Xsqrt', 1), ('H', 2), ('S', 3), ('Xsqrt', 4), ('S', 5), ('H', 6), ('GammaXYZ', 7), ('GammaXZY', 8), ('GammaXZY', 10), ('GammaXYZ', 11), ('SWAP', (8, 9)), ('SWAP', (7, 9)), ('SWAP', (6, 8)), ('SWAP', (5, 9)), ('SWAP', (4, 7)), ('SWAP', (3, 7)), ('SWAP', (2, 8)), ('SWAP', (1, 9))], [('Z', 2), ('Z', 3), ('Z', 4), ('Z', 7), ('Z', 10), ('X', 6), ('GammaXYZ', 1), ('GammaXYZ', 2), ('GammaXYZ', 3), ('GammaXYZ', 4), ('GammaXYZ', 5), ('GammaXYZ', 6), ('GammaXZY', 7), ('GammaXZY', 8), ('GammaXZY', 9), ('GammaXZY', 10), ('GammaXZY', 11), ('SWAP', (8, 9)), ('SWAP', (7, 8)), ('SWAP', (5, 6)), ('SWAP', (4, 5))]]\n",
      "n12k1 3\n",
      "C3\n",
      "(3, {'gammaXYZ_1': 'a4^2', 'gammaXZY_1': 'a4'})\n",
      "\n",
      "gates [[('Z', 2), ('Z', 7), ('Z', 8), ('Z', 9), ('X', 6), ('H', 1), ('H', 2), ('H', 3), ('H', 4), ('H', 5), ('H', 6), ('SWAP', (10, 11)), ('SWAP', (8, 9)), ('SWAP', (3, 5)), ('SWAP', (2, 6)), ('SWAP', (1, 4))], [('Xsqrt', 12)], [('Z', 1), ('Z', 2), ('Z', 8), ('Z', 9), ('X', 6), ('S', 1), ('H', 2), ('Xsqrt', 3), ('GammaXYZ', 4), ('GammaXZY', 5), ('S', 7), ('H', 8), ('Xsqrt', 9), ('GammaXYZ', 10), ('GammaXZY', 11), ('SWAP', (8, 9)), ('SWAP', (7, 8)), ('SWAP', (6, 9)), ('SWAP', (5, 7)), ('SWAP', (4, 8)), ('SWAP', (3, 4)), ('SWAP', (2, 6)), ('SWAP', (1, 5))], [('Z', 2), ('Z', 3), ('Z', 4), ('Z', 7), ('Z', 10), ('X', 6), ('GammaXYZ', 1), ('GammaXYZ', 2), ('GammaXYZ', 3), ('GammaXYZ', 4), ('GammaXYZ', 5), ('GammaXYZ', 6), ('GammaXZY', 7), ('GammaXZY', 8), ('GammaXZY', 9), ('GammaXZY', 10), ('GammaXZY', 11), ('SWAP', (8, 9)), ('SWAP', (7, 8)), ('SWAP', (5, 6)), ('SWAP', (4, 5))]]\n",
      "n13k1 3\n",
      "C3\n",
      "(3, {'gammaXYZ_1': 'a5^2', 'gammaXZY_1': 'a5'})\n",
      "\n",
      "gates [[('Xsqrt', 12), ('Xsqrt', 13), ('SWAP', (12, 13))], [('Xsqrt', 12)], [('Xsqrt', 13)], [('Z', 1), ('Z', 2), ('Z', 4), ('Z', 5), ('Z', 7), ('Z', 9), ('Z', 10), ('X', 6), ('GammaXYZ', 1), ('GammaXZY', 3), ('GammaXYZ', 4), ('GammaXZY', 5), ('GammaXYZ', 7), ('GammaXZY', 9), ('GammaXYZ', 10), ('GammaXZY', 11), ('SWAP', (10, 11)), ('SWAP', (6, 8)), ('SWAP', (5, 7)), ('SWAP', (4, 9)), ('SWAP', (1, 3))], [('Z', 1), ('Z', 7), ('Z', 10), ('GammaXZY', 1), ('GammaXZY', 2), ('GammaXZY', 3), ('GammaXZY', 4), ('GammaXZY', 5), ('GammaXZY', 6), ('GammaXZY', 7), ('GammaXZY', 8), ('GammaXZY', 9), ('GammaXZY', 10), ('GammaXZY', 11), ('SWAP', (8, 9)), ('SWAP', (7, 9)), ('SWAP', (2, 3)), ('SWAP', (1, 3))], [('Z', 3), ('Z', 5), ('Z', 7), ('S', 1), ('H', 2), ('Xsqrt', 3), ('GammaXZY', 4), ('GammaXYZ', 6), ('S', 7), ('H', 8), ('Xsqrt', 9), ('GammaXZY', 10), ('SWAP', (8, 9)), ('SWAP', (7, 8)), ('SWAP', (6, 9)), ('SWAP', (5, 7)), ('SWAP', (4, 8)), ('SWAP', (3, 5)), ('SWAP', (2, 4)), ('SWAP', (1, 6))]]\n",
      "n14k1 3\n",
      "C3\n",
      "(3, {'gammaXYZ_1': 'a6^2', 'gammaXZY_1': 'a6'})\n",
      "\n",
      "gates [[('Xsqrt', 14)], [('SWAP', (13, 14))], [('Z', 1), ('Z', 2), ('Z', 4), ('Z', 8), ('Z', 9), ('Z', 10), ('Xsqrt', 1), ('H', 2), ('S', 3), ('GammaXZY', 4), ('GammaXYZ', 5), ('S', 7), ('Xsqrt', 8), ('H', 9), ('GammaXZY', 10), ('GammaXYZ', 11), ('SWAP', (10, 11)), ('SWAP', (4, 5)), ('SWAP', (3, 7)), ('SWAP', (2, 9)), ('SWAP', (1, 8))], [('Xsqrt', 12)], [('Xsqrt', 13), ('Xsqrt', 14), ('SWAP', (13, 14)), ('SWAP', (12, 13))], [('Z', 1), ('Z', 7), ('Z', 10), ('GammaXZY', 1), ('GammaXZY', 2), ('GammaXZY', 3), ('GammaXZY', 4), ('GammaXZY', 5), ('GammaXZY', 6), ('GammaXZY', 7), ('GammaXZY', 8), ('GammaXZY', 9), ('GammaXZY', 10), ('GammaXZY', 11), ('SWAP', (8, 9)), ('SWAP', (7, 9)), ('SWAP', (2, 3)), ('SWAP', (1, 3))], [('Z', 4), ('Z', 5), ('Z', 9), ('X', 6), ('Xsqrt', 1), ('S', 2), ('H', 3), ('GammaXZY', 4), ('GammaXYZ', 6), ('Xsqrt', 7), ('S', 8), ('H', 9), ('GammaXZY', 10), ('SWAP', (8, 9)), ('SWAP', (7, 8)), ('SWAP', (6, 8)), ('SWAP', (5, 9)), ('SWAP', (4, 7)), ('SWAP', (3, 6)), ('SWAP', (2, 5)), ('SWAP', (1, 4))]]\n",
      "n15k1 3\n",
      "C3\n",
      "(3, {'gammaXYZ_1': 'a6', 'gammaXZY_1': 'a6^2'})\n",
      "\n",
      "gates [[('Xsqrt', 12), ('Xsqrt', 15), ('SWAP', (13, 14)), ('SWAP', (12, 15))], [('Z', 1), ('Z', 3), ('Z', 9), ('Xsqrt', 1), ('H', 2), ('S', 3), ('GammaXZY', 5), ('GammaXYZ', 6), ('H', 7), ('S', 8), ('Xsqrt', 9), ('GammaXZY', 10), ('GammaXYZ', 11), ('SWAP', (10, 11)), ('SWAP', (5, 6)), ('SWAP', (3, 8)), ('SWAP', (2, 7)), ('SWAP', (1, 9))], [('Xsqrt', 15)], [('Xsqrt', 14)], [('Xsqrt', 12), ('Xsqrt', 14), ('SWAP', (12, 14))], [('Z', 1), ('Z', 3), ('Z', 4), ('Z', 7), ('Z', 9), ('Z', 10), ('GammaXZY', 1), ('GammaXZY', 2), ('GammaXZY', 3), ('GammaXZY', 4), ('GammaXZY', 5), ('GammaXZY', 6), ('GammaXYZ', 7), ('GammaXYZ', 8), ('GammaXYZ', 9), ('GammaXYZ', 10), ('GammaXYZ', 11), ('SWAP', (8, 9)), ('SWAP', (7, 9)), ('SWAP', (5, 6)), ('SWAP', (4, 6))], [('Xsqrt', 12), ('Xsqrt', 13), ('SWAP', (13, 14)), ('SWAP', (12, 13))], [('Z', 2), ('Z', 5), ('Z', 7), ('Z', 8), ('X', 6), ('H', 1), ('S', 2), ('Xsqrt', 3), ('Xsqrt', 4), ('S', 5), ('H', 6), ('GammaXYZ', 7), ('GammaXZY', 8), ('GammaXYZ', 10), ('SWAP', (8, 9)), ('SWAP', (7, 9)), ('SWAP', (6, 7)), ('SWAP', (5, 8)), ('SWAP', (4, 9)), ('SWAP', (3, 7)), ('SWAP', (2, 8)), ('SWAP', (1, 9))]]\n",
      "n16k1 1\n",
      "\n",
      "(1, {})\n",
      "\n",
      "gates [[('Z', 2), ('Z', 6), ('Z', 8), ('Z', 10), ('GammaXZY', 1), ('GammaXYZ', 3), ('GammaXZY', 4), ('GammaXYZ', 5), ('GammaXYZ', 12), ('GammaXZY', 13), ('GammaXYZ', 14), ('GammaXZY', 16), ('SWAP', (14, 16)), ('SWAP', (12, 13)), ('SWAP', (9, 15)), ('SWAP', (7, 11)), ('SWAP', (6, 10)), ('SWAP', (4, 5)), ('SWAP', (2, 8)), ('SWAP', (1, 3))], [('Z', 1), ('Z', 4), ('Z', 5), ('Z', 10), ('Z', 11), ('Xsqrt', 1), ('S', 2), ('Xsqrt', 3), ('H', 4), ('S', 5), ('H', 6), ('S', 7), ('S', 8), ('H', 9), ('S', 10), ('H', 11), ('Xsqrt', 12), ('S', 13), ('Xsqrt', 14), ('H', 15), ('Xsqrt', 16), ('SWAP', (14, 16)), ('SWAP', (12, 15)), ('SWAP', (11, 12)), ('SWAP', (9, 13)), ('SWAP', (7, 13)), ('SWAP', (6, 10)), ('SWAP', (5, 6)), ('SWAP', (4, 10)), ('SWAP', (3, 13)), ('SWAP', (1, 12))], [('Z', 1), ('Z', 2), ('Z', 3), ('Z', 5), ('Z', 7), ('Z', 10), ('Z', 11), ('Z', 13), ('Z', 14), ('GammaXZY', 2), ('GammaXYZ', 3), ('GammaXYZ', 4), ('GammaXZY', 5), ('GammaXYZ', 6), ('GammaXZY', 7), ('GammaXZY', 10), ('GammaXYZ', 11), ('GammaXZY', 12), ('GammaXYZ', 13), ('GammaXYZ', 14), ('GammaXZY', 15), ('SWAP', (14, 15)), ('SWAP', (10, 13)), ('SWAP', (9, 16)), ('SWAP', (6, 12)), ('SWAP', (5, 11)), ('SWAP', (4, 7)), ('SWAP', (2, 3)), ('SWAP', (1, 8))], [('Z', 1), ('Z', 3), ('Z', 4), ('Z', 5), ('Z', 6), ('Z', 10), ('Z', 11), ('Z', 13), ('Z', 14), ('GammaXYZ', 1), ('GammaXYZ', 3), ('GammaXZY', 5), ('GammaXYZ', 7), ('GammaXZY', 8), ('GammaXYZ', 9), ('GammaXZY', 10), ('GammaXZY', 11), ('GammaXYZ', 12), ('GammaXZY', 13), ('GammaXYZ', 14), ('GammaXZY', 16), ('SWAP', (13, 16)), ('SWAP', (12, 16)), ('SWAP', (10, 14)), ('SWAP', (9, 10)), ('SWAP', (8, 14)), ('SWAP', (7, 11)), ('SWAP', (6, 11)), ('SWAP', (5, 6)), ('SWAP', (4, 9)), ('SWAP', (3, 13)), ('SWAP', (2, 13)), ('SWAP', (1, 7))]]\n",
      "n17k1 6\n",
      "S3\n",
      "(6, {'H_1': 'a6 * a1', 'S_1': 'a1 * a6', 'gammaXYZ_1': 'a6', 'gammaXZY_1': 'a1 * a6 * a1'})\n",
      "\n",
      "gates [[('Z', 1), ('Z', 2), ('Z', 4), ('Z', 5), ('Z', 6), ('Z', 9), ('Z', 10), ('Z', 11), ('Z', 14), ('Z', 15), ('Z', 16), ('Xsqrt', 1), ('Xsqrt', 2), ('S', 3), ('H', 4), ('H', 5), ('Xsqrt', 6), ('S', 7), ('S', 8), ('H', 9), ('Xsqrt', 10), ('H', 11), ('S', 12), ('S', 13), ('Xsqrt', 14), ('H', 15), ('H', 16), ('S', 17), ('SWAP', (16, 17)), ('SWAP', (14, 15)), ('SWAP', (11, 12)), ('SWAP', (9, 15)), ('SWAP', (8, 11)), ('SWAP', (7, 17)), ('SWAP', (6, 17)), ('SWAP', (4, 12)), ('SWAP', (2, 9)), ('SWAP', (1, 10))], [('GammaXZY', 1), ('GammaXYZ', 2), ('GammaXZY', 4), ('GammaXZY', 6), ('GammaXYZ', 8), ('GammaXZY', 9), ('GammaXYZ', 10), ('GammaXYZ', 17), ('SWAP', (15, 16)), ('SWAP', (11, 12)), ('SWAP', (9, 17)), ('SWAP', (7, 14)), ('SWAP', (4, 8)), ('SWAP', (3, 13)), ('SWAP', (2, 6)), ('SWAP', (1, 10))], [('GammaXZY', 2), ('GammaXYZ', 4), ('GammaXYZ', 6), ('GammaXZY', 8), ('GammaXYZ', 10), ('GammaXZY', 11), ('GammaXYZ', 12), ('GammaXZY', 13), ('GammaXZY', 14), ('GammaXYZ', 15), ('GammaXZY', 16), ('GammaXYZ', 17), ('SWAP', (13, 17)), ('SWAP', (10, 14)), ('SWAP', (8, 15)), ('SWAP', (6, 11)), ('SWAP', (4, 16)), ('SWAP', (3, 9)), ('SWAP', (2, 12)), ('SWAP', (1, 7))], [('GammaXZY', 2), ('GammaXZY', 4), ('GammaXYZ', 6), ('GammaXZY', 7), ('GammaXYZ', 8), ('GammaXYZ', 15), ('GammaXZY', 16), ('GammaXYZ', 17), ('SWAP', (11, 12)), ('SWAP', (9, 14)), ('SWAP', (7, 17)), ('SWAP', (6, 16)), ('SWAP', (4, 8)), ('SWAP', (2, 15))], [('GammaXYZ', 2), ('GammaXZY', 3), ('GammaXYZ', 4), ('GammaXZY', 6), ('GammaXZY', 8), ('GammaXYZ', 10), ('GammaXZY', 11), ('GammaXYZ', 12), ('SWAP', (15, 16)), ('SWAP', (8, 12)), ('SWAP', (4, 11)), ('SWAP', (3, 10)), ('SWAP', (2, 6)), ('SWAP', (1, 13))], [('GammaXYZ', 1), ('GammaXZY', 2), ('GammaXZY', 4), ('GammaXZY', 7), ('GammaXZY', 9), ('GammaXYZ', 10), ('GammaXYZ', 12), ('GammaXZY', 13), ('GammaXYZ', 14), ('GammaXZY', 15), ('GammaXYZ', 16), ('SWAP', (15, 16)), ('SWAP', (12, 14)), ('SWAP', (11, 17)), ('SWAP', (10, 12)), ('SWAP', (8, 9)), ('SWAP', (7, 13)), ('SWAP', (6, 15)), ('SWAP', (4, 7)), ('SWAP', (3, 11)), ('SWAP', (1, 8))], [('GammaXZY', 1), ('GammaXZY', 2), ('GammaXZY', 3), ('GammaXZY', 4), ('GammaXZY', 5), ('GammaXZY', 6), ('GammaXZY', 7), ('GammaXZY', 8), ('GammaXZY', 9), ('GammaXZY', 10), ('GammaXZY', 11), ('GammaXZY', 12), ('GammaXZY', 13), ('GammaXZY', 14), ('GammaXZY', 15), ('GammaXZY', 16), ('GammaXZY', 17)], [('GammaXZY', 1), ('GammaXZY', 4), ('GammaXYZ', 5), ('GammaXYZ', 6), ('GammaXZY', 8), ('GammaXZY', 9), ('GammaXYZ', 10), ('GammaXYZ', 12), ('GammaXZY', 13), ('GammaXZY', 14), ('GammaXYZ', 16), ('GammaXYZ', 17), ('SWAP', (16, 17)), ('SWAP', (13, 15)), ('SWAP', (12, 16)), ('SWAP', (11, 15)), ('SWAP', (10, 14)), ('SWAP', (9, 10)), ('SWAP', (8, 14)), ('SWAP', (6, 13)), ('SWAP', (5, 16)), ('SWAP', (4, 14)), ('SWAP', (3, 11)), ('SWAP', (1, 16))], [('GammaXYZ', 4), ('GammaXYZ', 5), ('GammaXZY', 6), ('GammaXZY', 7), ('GammaXYZ', 8), ('GammaXZY', 9), ('GammaXZY', 10), ('GammaXYZ', 11), ('GammaXZY', 12), ('GammaXZY', 13), ('GammaXYZ', 14), ('GammaXYZ', 15), ('SWAP', (16, 17)), ('SWAP', (15, 16)), ('SWAP', (14, 17)), ('SWAP', (13, 17)), ('SWAP', (12, 15)), ('SWAP', (11, 15)), ('SWAP', (10, 15)), ('SWAP', (9, 10)), ('SWAP', (8, 12)), ('SWAP', (7, 8)), ('SWAP', (6, 14)), ('SWAP', (5, 7)), ('SWAP', (4, 15)), ('SWAP', (3, 8)), ('SWAP', (2, 9)), ('SWAP', (1, 7))]]\n",
      "n18k1 6\n",
      "S3\n",
      "(6, {'H_1': 'a7 * a1', 'S_1': 'a1', 'gammaXYZ_1': 'a1 * a7 * a1', 'gammaXZY_1': 'a7'})\n",
      "\n",
      "gates [[('Z', 5), ('Z', 6), ('Z', 7), ('Z', 9), ('Z', 10), ('Z', 11), ('Z', 13), ('Z', 14), ('Z', 15), ('Xsqrt', 1), ('Xsqrt', 2), ('H', 3), ('H', 4), ('S', 5), ('S', 6), ('S', 7), ('Xsqrt', 8), ('S', 9), ('S', 10), ('S', 11), ('Xsqrt', 12), ('S', 13), ('S', 14), ('S', 15), ('H', 16), ('H', 17), ('SWAP', (15, 16)), ('SWAP', (11, 12)), ('SWAP', (10, 16)), ('SWAP', (8, 12)), ('SWAP', (7, 9)), ('SWAP', (6, 13)), ('SWAP', (4, 12)), ('SWAP', (3, 15)), ('SWAP', (2, 13)), ('SWAP', (1, 2))], [('GammaXYZ', 2), ('GammaXZY', 6), ('GammaXZY', 7), ('GammaXYZ', 8), ('GammaXYZ', 9), ('GammaXZY', 10), ('GammaXZY', 11), ('GammaXYZ', 15), ('SWAP', (11, 15)), ('SWAP', (8, 10)), ('SWAP', (7, 9)), ('SWAP', (5, 14)), ('SWAP', (4, 16)), ('SWAP', (3, 12)), ('SWAP', (2, 6)), ('SWAP', (1, 13))], [('GammaXYZ', 1), ('GammaXZY', 5), ('GammaXZY', 6), ('GammaXYZ', 7), ('GammaXYZ', 8), ('GammaXZY', 9), ('GammaXZY', 10), ('GammaXYZ', 14), ('SWAP', (9, 14)), ('SWAP', (8, 10)), ('SWAP', (5, 7)), ('SWAP', (3, 12)), ('SWAP', (2, 13)), ('SWAP', (1, 6))], [('Xsqrt', 18)], [('GammaXYZ', 2), ('GammaXZY', 3), ('GammaXYZ', 4), ('GammaXZY', 6), ('GammaXZY', 8), ('GammaXYZ', 10), ('GammaXZY', 11), ('GammaXYZ', 12), ('SWAP', (15, 16)), ('SWAP', (8, 12)), ('SWAP', (4, 11)), ('SWAP', (3, 10)), ('SWAP', (2, 6)), ('SWAP', (1, 13))], [('GammaXYZ', 1), ('GammaXZY', 2), ('GammaXZY', 3), ('GammaXYZ', 5), ('GammaXYZ', 6), ('GammaXZY', 7), ('GammaXZY', 10), ('GammaXYZ', 11), ('GammaXYZ', 12), ('GammaXZY', 14), ('GammaXZY', 15), ('GammaXYZ', 16), ('SWAP', (11, 14)), ('SWAP', (8, 13)), ('SWAP', (7, 16)), ('SWAP', (5, 15)), ('SWAP', (4, 9)), ('SWAP', (3, 6)), ('SWAP', (2, 12)), ('SWAP', (1, 10))], [('GammaXZY', 1), ('GammaXZY', 2), ('GammaXZY', 3), ('GammaXZY', 4), ('GammaXZY', 5), ('GammaXYZ', 8), ('GammaXYZ', 9), ('GammaXYZ', 11), ('GammaXYZ', 12), ('GammaXYZ', 14), ('GammaXYZ', 15), ('SWAP', (14, 17)), ('SWAP', (11, 16)), ('SWAP', (10, 12)), ('SWAP', (8, 13)), ('SWAP', (6, 15)), ('SWAP', (5, 14)), ('SWAP', (4, 15)), ('SWAP', (3, 13)), ('SWAP', (2, 11)), ('SWAP', (1, 12))], [('GammaXZY', 1), ('GammaXZY', 2), ('GammaXZY', 3), ('GammaXZY', 4), ('GammaXZY', 5), ('GammaXZY', 6), ('GammaXZY', 7), ('GammaXZY', 8), ('GammaXZY', 9), ('GammaXZY', 10), ('GammaXZY', 11), ('GammaXZY', 12), ('GammaXZY', 13), ('GammaXZY', 14), ('GammaXZY', 15), ('GammaXZY', 16), ('GammaXZY', 17)], [('GammaXYZ', 1), ('GammaXZY', 2), ('GammaXZY', 3), ('GammaXYZ', 4), ('GammaXZY', 5), ('GammaXZY', 6), ('GammaXYZ', 7), ('GammaXYZ', 8), ('GammaXYZ', 14), ('GammaXYZ', 15), ('GammaXZY', 16), ('GammaXZY', 17), ('SWAP', (15, 16)), ('SWAP', (12, 14)), ('SWAP', (11, 12)), ('SWAP', (9, 11)), ('SWAP', (8, 17)), ('SWAP', (7, 17)), ('SWAP', (6, 16)), ('SWAP', (5, 16)), ('SWAP', (4, 7)), ('SWAP', (3, 9)), ('SWAP', (2, 15)), ('SWAP', (1, 17))], [('GammaXYZ', 1), ('GammaXZY', 3), ('GammaXZY', 4), ('GammaXYZ', 5), ('GammaXYZ', 7), ('GammaXZY', 8), ('GammaXZY', 9), ('GammaXYZ', 11), ('GammaXYZ', 12), ('GammaXZY', 13), ('GammaXZY', 16), ('GammaXYZ', 17), ('SWAP', (16, 17)), ('SWAP', (15, 16)), ('SWAP', (14, 15)), ('SWAP', (13, 14)), ('SWAP', (12, 17)), ('SWAP', (11, 16)), ('SWAP', (10, 14)), ('SWAP', (9, 11)), ('SWAP', (8, 17)), ('SWAP', (7, 15)), ('SWAP', (6, 12)), ('SWAP', (5, 12)), ('SWAP', (4, 10)), ('SWAP', (3, 16)), ('SWAP', (2, 13)), ('SWAP', (1, 7))]]\n",
      "n19k1 6\n",
      "S3\n",
      "(6, {'H_1': 'a9 * a3', 'S_1': 'a3', 'gammaXYZ_1': 'a3 * a9 * a3', 'gammaXZY_1': 'a9'})\n",
      "\n",
      "gates [[('GammaXYZ', 1), ('GammaXZY', 2), ('GammaXYZ', 3), ('GammaXZY', 5), ('GammaXZY', 7), ('GammaXYZ', 9), ('GammaXZY', 10), ('GammaXYZ', 11), ('SWAP', (14, 15)), ('SWAP', (12, 17)), ('SWAP', (7, 11)), ('SWAP', (3, 10)), ('SWAP', (2, 9)), ('SWAP', (1, 5))], [('Xsqrt', 19)], [('Z', 1), ('Z', 5), ('Z', 9), ('Z', 10), ('Z', 11), ('Z', 12), ('Z', 13), ('Z', 14), ('Xsqrt', 1), ('S', 2), ('S', 3), ('S', 4), ('Xsqrt', 5), ('S', 6), ('S', 7), ('S', 8), ('H', 9), ('H', 10), ('Xsqrt', 11), ('Xsqrt', 12), ('H', 13), ('H', 14), ('S', 15), ('S', 16), ('S', 17), ('SWAP', (14, 15)), ('SWAP', (12, 17)), ('SWAP', (11, 17)), ('SWAP', (10, 15)), ('SWAP', (7, 12)), ('SWAP', (5, 9)), ('SWAP', (4, 6)), ('SWAP', (3, 14)), ('SWAP', (2, 5)), ('SWAP', (1, 2))], [('GammaXZY', 1), ('GammaXZY', 2), ('GammaXYZ', 3), ('GammaXYZ', 4), ('GammaXZY', 5), ('GammaXZY', 6), ('GammaXYZ', 10), ('GammaXYZ', 14), ('SWAP', (9, 15)), ('SWAP', (8, 16)), ('SWAP', (5, 10)), ('SWAP', (4, 6)), ('SWAP', (2, 14)), ('SWAP', (1, 3))], [('GammaXZY', 2), ('GammaXZY', 3), ('GammaXYZ', 4), ('GammaXYZ', 5), ('GammaXZY', 6), ('GammaXZY', 7), ('GammaXYZ', 11), ('GammaXYZ', 15), ('SWAP', (14, 17)), ('SWAP', (9, 12)), ('SWAP', (8, 10)), ('SWAP', (7, 15)), ('SWAP', (5, 6)), ('SWAP', (3, 4)), ('SWAP', (2, 11)), ('SWAP', (1, 16))], [('Xsqrt', 18), ('Xsqrt', 19), ('SWAP', (18, 19))], [('Xsqrt', 18)], [('GammaXZY', 2), ('GammaXYZ', 4), ('GammaXZY', 5), ('GammaXYZ', 6), ('GammaXZY', 7), ('GammaXZY', 8), ('GammaXYZ', 9), ('GammaXZY', 10), ('GammaXYZ', 11), ('GammaXZY', 13), ('GammaXYZ', 15), ('GammaXYZ', 17), ('SWAP', (14, 15)), ('SWAP', (10, 13)), ('SWAP', (9, 17)), ('SWAP', (7, 15)), ('SWAP', (6, 17)), ('SWAP', (5, 12)), ('SWAP', (4, 12)), ('SWAP', (3, 16)), ('SWAP', (2, 13)), ('SWAP', (1, 16))], [('GammaXZY', 1), ('GammaXZY', 2), ('GammaXZY', 3), ('GammaXZY', 4), ('GammaXZY', 5), ('GammaXZY', 6), ('GammaXZY', 7), ('GammaXZY', 8), ('GammaXZY', 9), ('GammaXZY', 10), ('GammaXZY', 11), ('GammaXZY', 12), ('GammaXZY', 13), ('GammaXZY', 14), ('GammaXZY', 15), ('GammaXZY', 16), ('GammaXZY', 17)], [('GammaXYZ', 7), ('GammaXZY', 8), ('GammaXYZ', 9), ('GammaXZY', 11), ('GammaXZY', 13), ('GammaXYZ', 15), ('GammaXZY', 16), ('GammaXYZ', 17), ('SWAP', (16, 17)), ('SWAP', (12, 16)), ('SWAP', (11, 13)), ('SWAP', (10, 13)), ('SWAP', (9, 15)), ('SWAP', (8, 10)), ('SWAP', (7, 9)), ('SWAP', (6, 15)), ('SWAP', (5, 16)), ('SWAP', (4, 7)), ('SWAP', (2, 11)), ('SWAP', (1, 12))], [('GammaXZY', 2), ('GammaXYZ', 3), ('GammaXYZ', 4), ('GammaXZY', 6), ('GammaXZY', 7), ('GammaXYZ', 8), ('GammaXYZ', 10), ('GammaXZY', 11), ('GammaXZY', 12), ('GammaXYZ', 14), ('GammaXYZ', 15), ('GammaXZY', 16), ('SWAP', (16, 17)), ('SWAP', (15, 17)), ('SWAP', (14, 17)), ('SWAP', (13, 17)), ('SWAP', (12, 17)), ('SWAP', (11, 15)), ('SWAP', (10, 13)), ('SWAP', (9, 17)), ('SWAP', (8, 10)), ('SWAP', (7, 8)), ('SWAP', (6, 14)), ('SWAP', (5, 11)), ('SWAP', (4, 5)), ('SWAP', (3, 17)), ('SWAP', (2, 4)), ('SWAP', (1, 7))]]\n",
      "n20k1 6\n",
      "S3\n",
      "(6, {'H_1': 'a9 * a1', 'S_1': 'a1', 'gammaXYZ_1': 'a1 * a9 * a1', 'gammaXZY_1': 'a9'})\n",
      "\n",
      "gates [[('Z', 6), ('Xsqrt', 1), ('H', 2), ('Xsqrt', 3), ('Xsqrt', 4), ('H', 5), ('S', 6), ('H', 7), ('Xsqrt', 8), ('Xsqrt', 9), ('H', 10), ('Xsqrt', 11), ('H', 12), ('H', 13), ('Xsqrt', 14), ('Xsqrt', 15), ('H', 16), ('H', 17), ('SWAP', (16, 17)), ('SWAP', (15, 17)), ('SWAP', (9, 12)), ('SWAP', (7, 9)), ('SWAP', (6, 14)), ('SWAP', (5, 14)), ('SWAP', (4, 15)), ('SWAP', (3, 5)), ('SWAP', (2, 13)), ('SWAP', (1, 12))], [('Xsqrt', 20)], [('Xsqrt', 18)], [('Xsqrt', 19)], [('GammaXZY', 1), ('GammaXZY', 3), ('GammaXYZ', 5), ('GammaXZY', 6), ('GammaXYZ', 7), ('GammaXYZ', 14), ('GammaXZY', 15), ('GammaXYZ', 16), ('SWAP', (15, 16)), ('SWAP', (9, 12)), ('SWAP', (5, 6)), ('SWAP', (4, 17)), ('SWAP', (3, 14)), ('SWAP', (1, 7))], [('SWAP', (18, 20))], [('GammaXZY', 1), ('GammaXZY', 2), ('GammaXYZ', 3), ('GammaXZY', 4), ('GammaXZY', 5), ('GammaXYZ', 6), ('GammaXYZ', 7), ('GammaXYZ', 13), ('GammaXYZ', 14), ('GammaXZY', 15), ('GammaXZY', 16), ('GammaXYZ', 17), ('SWAP', (14, 16)), ('SWAP', (9, 12)), ('SWAP', (8, 11)), ('SWAP', (5, 17)), ('SWAP', (4, 6)), ('SWAP', (3, 15)), ('SWAP', (2, 13)), ('SWAP', (1, 7))], [('GammaXYZ', 1), ('GammaXYZ', 2), ('GammaXZY', 3), ('GammaXZY', 4), ('GammaXYZ', 8), ('GammaXYZ', 12), ('GammaXZY', 16), ('GammaXZY', 17), ('SWAP', (13, 15)), ('SWAP', (11, 14)), ('SWAP', (8, 16)), ('SWAP', (6, 9)), ('SWAP', (5, 7)), ('SWAP', (4, 12)), ('SWAP', (2, 3)), ('SWAP', (1, 17))], [('GammaXZY', 1), ('GammaXZY', 2), ('GammaXZY', 3), ('GammaXZY', 4), ('GammaXZY', 5), ('GammaXZY', 6), ('GammaXZY', 7), ('GammaXZY', 8), ('GammaXZY', 9), ('GammaXZY', 10), ('GammaXZY', 11), ('GammaXZY', 12), ('GammaXZY', 13), ('GammaXZY', 14), ('GammaXZY', 15), ('GammaXZY', 16), ('GammaXZY', 17)], [('Xsqrt', 19), ('Xsqrt', 20), ('SWAP', (19, 20)), ('SWAP', (18, 20))], [('GammaXZY', 2), ('GammaXZY', 5), ('GammaXZY', 8), ('GammaXZY', 9), ('GammaXYZ', 10), ('GammaXYZ', 11), ('GammaXYZ', 12), ('GammaXYZ', 13), ('GammaXYZ', 14), ('GammaXZY', 15), ('GammaXZY', 16), ('SWAP', (13, 16)), ('SWAP', (11, 17)), ('SWAP', (10, 15)), ('SWAP', (9, 11)), ('SWAP', (7, 12)), ('SWAP', (5, 14)), ('SWAP', (4, 16)), ('SWAP', (3, 5)), ('SWAP', (2, 7)), ('SWAP', (1, 15))], [('GammaXYZ', 6), ('GammaXYZ', 7), ('GammaXZY', 8), ('GammaXZY', 9), ('GammaXYZ', 10), ('GammaXZY', 11), ('GammaXZY', 12), ('GammaXYZ', 13), ('GammaXZY', 14), ('GammaXZY', 15), ('GammaXYZ', 16), ('GammaXYZ', 17), ('SWAP', (15, 16)), ('SWAP', (13, 14)), ('SWAP', (12, 16)), ('SWAP', (11, 17)), ('SWAP', (10, 13)), ('SWAP', (9, 15)), ('SWAP', (8, 9)), ('SWAP', (7, 13)), ('SWAP', (6, 10)), ('SWAP', (5, 17)), ('SWAP', (3, 17)), ('SWAP', (2, 17))], [('GammaXYZ', 2), ('GammaXZY', 6), ('GammaXZY', 7), ('GammaXYZ', 8), ('GammaXYZ', 9), ('GammaXZY', 10), ('GammaXZY', 11), ('GammaXYZ', 15), ('SWAP', (16, 17)), ('SWAP', (15, 17)), ('SWAP', (14, 16)), ('SWAP', (13, 14)), ('SWAP', (12, 14)), ('SWAP', (11, 13)), ('SWAP', (10, 17)), ('SWAP', (9, 13)), ('SWAP', (8, 10)), ('SWAP', (7, 13)), ('SWAP', (6, 13)), ('SWAP', (5, 8)), ('SWAP', (4, 10)), ('SWAP', (3, 6)), ('SWAP', (2, 17)), ('SWAP', (1, 7))]]\n",
      "n21k1 6\n",
      "S3\n",
      "(6, {'H_1': 'a14 * a1', 'S_1': 'a1', 'gammaXYZ_1': 'a1 * a14 * a1', 'gammaXZY_1': 'a14'})\n",
      "\n",
      "gates [[('Z', 1), ('Z', 5), ('Z', 6), ('Z', 7), ('Z', 8), ('Z', 9), ('Z', 10), ('Z', 14), ('Z', 16), ('S', 1), ('Xsqrt', 2), ('H', 3), ('Xsqrt', 4), ('S', 5), ('S', 6), ('S', 7), ('S', 8), ('S', 9), ('S', 10), ('Xsqrt', 11), ('H', 12), ('Xsqrt', 13), ('S', 14), ('H', 15), ('S', 16), ('H', 17), ('SWAP', (15, 17)), ('SWAP', (11, 16)), ('SWAP', (10, 14)), ('SWAP', (9, 16)), ('SWAP', (8, 15)), ('SWAP', (5, 8)), ('SWAP', (4, 12)), ('SWAP', (3, 12)), ('SWAP', (2, 9)), ('SWAP', (1, 12))], [('GammaXYZ', 1), ('GammaXZY', 3), ('GammaXZY', 4), ('GammaXYZ', 5), ('GammaXYZ', 7), ('GammaXZY', 8), ('GammaXZY', 9), ('GammaXYZ', 11), ('GammaXYZ', 12), ('GammaXZY', 13), ('GammaXZY', 16), ('GammaXYZ', 17), ('SWAP', (10, 14)), ('SWAP', (9, 17)), ('SWAP', (8, 11)), ('SWAP', (7, 13)), ('SWAP', (5, 16)), ('SWAP', (3, 12)), ('SWAP', (2, 15)), ('SWAP', (1, 4))], [('Xsqrt', 21)], [('GammaXZY', 1), ('GammaXYZ', 3), ('GammaXZY', 4), ('GammaXYZ', 5), ('GammaXYZ', 12), ('GammaXZY', 13), ('GammaXYZ', 14), ('GammaXZY', 16), ('SWAP', (13, 14)), ('SWAP', (7, 10)), ('SWAP', (5, 16)), ('SWAP', (3, 4)), ('SWAP', (2, 15)), ('SWAP', (1, 12))], [('GammaXZY', 1), ('GammaXYZ', 2), ('GammaXYZ', 3), ('GammaXZY', 4), ('GammaXZY', 8), ('GammaXYZ', 9), ('GammaXYZ', 10), ('GammaXZY', 11), ('GammaXYZ', 12), ('GammaXZY', 13), ('GammaXZY', 16), ('GammaXYZ', 17), ('SWAP', (11, 12)), ('SWAP', (10, 16)), ('SWAP', (7, 15)), ('SWAP', (5, 14)), ('SWAP', (4, 9)), ('SWAP', (3, 8)), ('SWAP', (2, 13)), ('SWAP', (1, 17))], [('Xsqrt', 18)], [('GammaXYZ', 1), ('GammaXYZ', 2), ('GammaXZY', 3), ('GammaXZY', 4), ('GammaXYZ', 8), ('GammaXYZ', 12), ('GammaXZY', 16), ('GammaXZY', 17), ('SWAP', (9, 11)), ('SWAP', (8, 17)), ('SWAP', (5, 15)), ('SWAP', (3, 12)), ('SWAP', (2, 16)), ('SWAP', (1, 4))], [('GammaXYZ', 1), ('GammaXZY', 2), ('GammaXYZ', 3), ('GammaXYZ', 4), ('GammaXZY', 5), ('GammaXZY', 7), ('GammaXYZ', 8), ('GammaXYZ', 9), ('GammaXZY', 10), ('GammaXYZ', 11), ('GammaXZY', 12), ('GammaXZY', 13), ('GammaXYZ', 14), ('GammaXYZ', 15), ('GammaXZY', 16), ('GammaXZY', 17), ('SWAP', (14, 17)), ('SWAP', (12, 15)), ('SWAP', (9, 10)), ('SWAP', (8, 13)), ('SWAP', (7, 11)), ('SWAP', (4, 16)), ('SWAP', (2, 3)), ('SWAP', (1, 5))], [('Xsqrt', 18), ('Xsqrt', 20), ('SWAP', (19, 21)), ('SWAP', (18, 20))], [('Xsqrt', 18), ('Xsqrt', 19), ('SWAP', (18, 19))], [('Xsqrt', 20)], [('Xsqrt', 19)], [('Xsqrt', 18), ('Xsqrt', 20), ('SWAP', (20, 21)), ('SWAP', (18, 21))], [('GammaXYZ', 2), ('GammaXYZ', 3), ('GammaXYZ', 5), ('GammaXYZ', 6), ('GammaXZY', 9), ('GammaXZY', 10), ('GammaXZY', 11), ('GammaXZY', 12), ('GammaXZY', 13), ('GammaXYZ', 16), ('GammaXYZ', 17), ('SWAP', (12, 13)), ('SWAP', (11, 13)), ('SWAP', (10, 15)), ('SWAP', (9, 14)), ('SWAP', (6, 16)), ('SWAP', (5, 9)), ('SWAP', (4, 8)), ('SWAP', (3, 16)), ('SWAP', (2, 10)), ('SWAP', (1, 8))], [('GammaXYZ', 1), ('GammaXYZ', 2), ('GammaXYZ', 4), ('GammaXYZ', 5), ('GammaXYZ', 7), ('GammaXYZ', 8), ('GammaXZY', 11), ('GammaXZY', 12), ('GammaXZY', 13), ('GammaXZY', 14), ('GammaXZY', 15), ('SWAP', (12, 13)), ('SWAP', (11, 12)), ('SWAP', (10, 15)), ('SWAP', (9, 14)), ('SWAP', (6, 16)), ('SWAP', (5, 14)), ('SWAP', (4, 8)), ('SWAP', (3, 6)), ('SWAP', (2, 15)), ('SWAP', (1, 4))], [('GammaXYZ', 5), ('GammaXZY', 6), ('GammaXYZ', 7), ('GammaXZY', 9), ('GammaXZY', 11), ('GammaXYZ', 13), ('GammaXZY', 14), ('GammaXYZ', 15), ('SWAP', (15, 16)), ('SWAP', (13, 16)), ('SWAP', (12, 14)), ('SWAP', (11, 14)), ('SWAP', (10, 17)), ('SWAP', (9, 11)), ('SWAP', (7, 15)), ('SWAP', (6, 10)), ('SWAP', (5, 10)), ('SWAP', (4, 10)), ('SWAP', (3, 11)), ('SWAP', (1, 15))], [('GammaXYZ', 2), ('GammaXYZ', 4), ('GammaXZY', 6), ('GammaXYZ', 8), ('GammaXZY', 9), ('GammaXYZ', 10), ('GammaXZY', 11), ('GammaXZY', 12), ('GammaXYZ', 13), ('GammaXZY', 14), ('GammaXYZ', 15), ('GammaXZY', 17), ('SWAP', (16, 17)), ('SWAP', (15, 17)), ('SWAP', (14, 17)), ('SWAP', (13, 17)), ('SWAP', (12, 14)), ('SWAP', (11, 17)), ('SWAP', (10, 15)), ('SWAP', (9, 11)), ('SWAP', (8, 12)), ('SWAP', (7, 14)), ('SWAP', (6, 8)), ('SWAP', (5, 16)), ('SWAP', (4, 6)), ('SWAP', (3, 12)), ('SWAP', (2, 8)), ('SWAP', (1, 8))]]\n",
      "n22k1 6\n",
      "S3\n",
      "(6, {'H_1': 'a6', 'S_1': 'a6 * a13', 'gammaXYZ_1': 'a6 * a13^-1 * a6 * a13', 'gammaXZY_1': 'a6 * a13^-1 * a6'})\n",
      "\n",
      "gates [[('Xsqrt', 18)], [('GammaXYZ', 1), ('GammaXZY', 3), ('GammaXZY', 4), ('GammaXYZ', 5), ('GammaXYZ', 7), ('GammaXZY', 8), ('GammaXZY', 9), ('GammaXYZ', 11), ('GammaXYZ', 12), ('GammaXZY', 13), ('GammaXZY', 16), ('GammaXYZ', 17), ('SWAP', (10, 14)), ('SWAP', (9, 17)), ('SWAP', (8, 11)), ('SWAP', (7, 13)), ('SWAP', (5, 16)), ('SWAP', (3, 12)), ('SWAP', (2, 15)), ('SWAP', (1, 4))], [('GammaXYZ', 2), ('GammaXZY', 3), ('GammaXYZ', 4), ('GammaXYZ', 11), ('GammaXZY', 12), ('GammaXYZ', 13), ('GammaXZY', 15), ('GammaXZY', 17), ('SWAP', (11, 15)), ('SWAP', (7, 8)), ('SWAP', (5, 10)), ('SWAP', (4, 17)), ('SWAP', (3, 13)), ('SWAP', (2, 12))], [('Xsqrt', 21)], [('Xsqrt', 18), ('Xsqrt', 20), ('SWAP', (19, 21)), ('SWAP', (18, 20))], [('Z', 2), ('Z', 3), ('Z', 4), ('Z', 7), ('Z', 9), ('Z', 10), ('Z', 13), ('Z', 14), ('Z', 16), ('S', 1), ('Xsqrt', 2), ('H', 3), ('Xsqrt', 4), ('S', 5), ('S', 6), ('Xsqrt', 7), ('S', 8), ('Xsqrt', 9), ('Xsqrt', 10), ('S', 11), ('S', 12), ('Xsqrt', 13), ('Xsqrt', 14), ('S', 15), ('Xsqrt', 16), ('S', 17), ('SWAP', (13, 15)), ('SWAP', (11, 15)), ('SWAP', (10, 12)), ('SWAP', (9, 16)), ('SWAP', (8, 17)), ('SWAP', (7, 8)), ('SWAP', (5, 12)), ('SWAP', (4, 8)), ('SWAP', (3, 15)), ('SWAP', (2, 5))], [('Xsqrt', 20)], [('Xsqrt', 18), ('Xsqrt', 19), ('SWAP', (18, 19))], [('Xsqrt', 22)], [('Xsqrt', 19)], [('GammaXZY', 1), ('GammaXYZ', 2), ('GammaXYZ', 3), ('GammaXZY', 4), ('GammaXZY', 8), ('GammaXYZ', 9), ('GammaXYZ', 10), ('GammaXZY', 11), ('GammaXYZ', 12), ('GammaXZY', 13), ('GammaXZY', 16), ('GammaXYZ', 17), ('SWAP', (11, 17)), ('SWAP', (10, 13)), ('SWAP', (8, 9)), ('SWAP', (7, 14)), ('SWAP', (5, 15)), ('SWAP', (3, 4)), ('SWAP', (2, 16)), ('SWAP', (1, 12))], [('GammaXYZ', 1), ('GammaXZY', 3), ('GammaXYZ', 5), ('GammaXYZ', 7), ('GammaXZY', 9), ('GammaXYZ', 11), ('GammaXZY', 12), ('GammaXYZ', 13), ('GammaXZY', 14), ('GammaXZY', 15), ('GammaXYZ', 16), ('GammaXZY', 17), ('SWAP', (11, 15)), ('SWAP', (9, 16)), ('SWAP', (7, 12)), ('SWAP', (5, 17)), ('SWAP', (4, 10)), ('SWAP', (3, 13)), ('SWAP', (2, 8)), ('SWAP', (1, 14))], [('GammaXZY', 1), ('GammaXZY', 2), ('GammaXZY', 3), ('GammaXZY', 4), ('GammaXZY', 5), ('GammaXZY', 6), ('GammaXZY', 7), ('GammaXZY', 8), ('GammaXZY', 9), ('GammaXZY', 10), ('GammaXZY', 11), ('GammaXZY', 12), ('GammaXZY', 13), ('GammaXZY', 14), ('GammaXZY', 15), ('GammaXZY', 16), ('GammaXZY', 17)], [('GammaXYZ', 2), ('GammaXYZ', 3), ('GammaXZY', 4), ('GammaXZY', 7), ('GammaXYZ', 8), ('GammaXYZ', 9), ('GammaXZY', 11), ('GammaXZY', 12), ('GammaXYZ', 13), ('GammaXYZ', 15), ('GammaXZY', 16), ('GammaXZY', 17), ('SWAP', (14, 17)), ('SWAP', (12, 15)), ('SWAP', (10, 12)), ('SWAP', (9, 11)), ('SWAP', (8, 16)), ('SWAP', (6, 16)), ('SWAP', (5, 7)), ('SWAP', (3, 17)), ('SWAP', (2, 5)), ('SWAP', (1, 11))], [('SWAP', (21, 22)), ('SWAP', (19, 21))], [('GammaXYZ', 1), ('GammaXYZ', 2), ('GammaXZY', 4), ('GammaXZY', 5), ('GammaXYZ', 6), ('GammaXYZ', 8), ('GammaXZY', 9), ('GammaXZY', 10), ('GammaXYZ', 12), ('GammaXYZ', 13), ('GammaXZY', 14), ('GammaXZY', 17), ('SWAP', (14, 16)), ('SWAP', (12, 17)), ('SWAP', (10, 12)), ('SWAP', (9, 14)), ('SWAP', (8, 12)), ('SWAP', (7, 13)), ('SWAP', (6, 9)), ('SWAP', (5, 7)), ('SWAP', (4, 13)), ('SWAP', (3, 10)), ('SWAP', (2, 4)), ('SWAP', (1, 16))], [('Xsqrt', 18), ('Xsqrt', 19), ('Xsqrt', 21), ('Xsqrt', 22), ('SWAP', (21, 22)), ('SWAP', (20, 21)), ('SWAP', (19, 20)), ('SWAP', (18, 22))], [('GammaXZY', 2), ('GammaXYZ', 4), ('GammaXZY', 5), ('GammaXYZ', 6), ('GammaXYZ', 13), ('GammaXZY', 14), ('GammaXYZ', 15), ('GammaXZY', 17), ('SWAP', (16, 17)), ('SWAP', (15, 16)), ('SWAP', (14, 17)), ('SWAP', (13, 16)), ('SWAP', (12, 14)), ('SWAP', (11, 12)), ('SWAP', (10, 14)), ('SWAP', (9, 10)), ('SWAP', (8, 12)), ('SWAP', (7, 9)), ('SWAP', (6, 8)), ('SWAP', (5, 7)), ('SWAP', (4, 11)), ('SWAP', (3, 4)), ('SWAP', (2, 9)), ('SWAP', (1, 12))]]\n",
      "n23k1 - FILE MISSING.\n"
     ]
    },
    {
     "ename": "UnboundLocalError",
     "evalue": "cannot access local variable 'order' where it is not associated with a value",
     "output_type": "error",
     "traceback": [
      "\u001b[0;31m---------------------------------------------------------------------------\u001b[0m",
      "\u001b[0;31mUnboundLocalError\u001b[0m                         Traceback (most recent call last)",
      "Cell \u001b[0;32mIn[3], line 5\u001b[0m\n\u001b[1;32m      3\u001b[0m n_max \u001b[38;5;241m=\u001b[39m \u001b[38;5;241m25\u001b[39m\n\u001b[1;32m      4\u001b[0m \u001b[38;5;28;01mfor\u001b[39;00m n \u001b[38;5;129;01min\u001b[39;00m \u001b[38;5;28mrange\u001b[39m(\u001b[38;5;241m1\u001b[39m,n_max\u001b[38;5;241m+\u001b[39m\u001b[38;5;241m1\u001b[39m):\n\u001b[0;32m----> 5\u001b[0m     orders_list\u001b[38;5;241m.\u001b[39mappend(\u001b[43mcodetables_check_all_gates\u001b[49m\u001b[43m(\u001b[49m\u001b[43mn\u001b[49m\u001b[43m,\u001b[49m\u001b[43mk\u001b[49m\u001b[43m)\u001b[49m)\n\u001b[1;32m      6\u001b[0m     gate_data \u001b[38;5;241m=\u001b[39m print_code_logicals_data(n,k)\n\u001b[1;32m      7\u001b[0m     \u001b[38;5;28mprint\u001b[39m(\u001b[38;5;124m'\u001b[39m\u001b[38;5;124mgates\u001b[39m\u001b[38;5;124m'\u001b[39m,gate_data[\u001b[38;5;124m'\u001b[39m\u001b[38;5;124mphysical\u001b[39m\u001b[38;5;124m'\u001b[39m])\n",
      "File \u001b[0;32m~/Desktop/qecauts/codetables/logical_subgroups.py:372\u001b[0m, in \u001b[0;36mcodetables_check_all_gates\u001b[0;34m(n, k)\u001b[0m\n\u001b[1;32m    370\u001b[0m \u001b[38;5;28;01melse\u001b[39;00m: \n\u001b[1;32m    371\u001b[0m     \u001b[38;5;28mprint\u001b[39m(\u001b[38;5;124mf\u001b[39m\u001b[38;5;124m\"\u001b[39m\u001b[38;5;124mn\u001b[39m\u001b[38;5;132;01m{\u001b[39;00mn\u001b[38;5;132;01m}\u001b[39;00m\u001b[38;5;124mk\u001b[39m\u001b[38;5;132;01m{\u001b[39;00mk\u001b[38;5;132;01m}\u001b[39;00m\u001b[38;5;124m - FILE MISSING.\u001b[39m\u001b[38;5;124m\"\u001b[39m)\n\u001b[0;32m--> 372\u001b[0m \u001b[38;5;28;01mreturn\u001b[39;00m \u001b[43morder\u001b[49m\n",
      "\u001b[0;31mUnboundLocalError\u001b[0m: cannot access local variable 'order' where it is not associated with a value"
     ]
    }
   ],
   "source": [
    "orders_list = []\n",
    "k = 1 \n",
    "n_max = 25\n",
    "for n in range(1,n_max+1):\n",
    "    orders_list.append(codetables_check_all_gates(n,k))\n",
    "    gate_data = print_code_logicals_data(n,k)\n",
    "    print('gates',gate_data['physical'])\n",
    "print(k1_code_orders_list)"
   ]
  },
  {
   "cell_type": "markdown",
   "id": "dcbb49de-fa3c-46f9-ab5d-6cceb6bed601",
   "metadata": {},
   "source": [
    "# [[n,2]]"
   ]
  },
  {
   "cell_type": "code",
   "execution_count": null,
   "id": "4624f8b5-cece-41c3-9563-3a3bc1d072e4",
   "metadata": {
    "scrolled": true
   },
   "outputs": [],
   "source": [
    "orders_list = []\n",
    "k = 2\n",
    "n_max = 25\n",
    "for n in range(k,n_max+1):\n",
    "    orders_list.append(codetables_check_all_gates(n,k))\n",
    "print(k1_code_orders_list)"
   ]
  },
  {
   "cell_type": "code",
   "execution_count": null,
   "id": "579fb18d-48a9-4735-b2bc-513ec3310afa",
   "metadata": {},
   "outputs": [],
   "source": [
    "codetables_check_all_gates(n=28,k=2)"
   ]
  },
  {
   "cell_type": "code",
   "execution_count": null,
   "id": "a941224d-a4cc-43bd-9851-0c66299c8db7",
   "metadata": {},
   "outputs": [],
   "source": [
    "print_code_logicals_data(28,2)"
   ]
  },
  {
   "cell_type": "markdown",
   "id": "63b5da30-ac3c-4851-9be7-7f084db63469",
   "metadata": {},
   "source": [
    "# [[n,3]]"
   ]
  },
  {
   "cell_type": "code",
   "execution_count": null,
   "id": "f7caf4a9-8834-4f29-95c2-202a689577bf",
   "metadata": {},
   "outputs": [],
   "source": [
    "orders_list = []\n",
    "k = 3\n",
    "n_max = 25\n",
    "for n in range(k,n_max+1):\n",
    "    orders_list.append(codetables_check_all_gates(n,k))\n",
    "print(k1_code_orders_list)"
   ]
  },
  {
   "cell_type": "markdown",
   "id": "fc5c2102-9bb5-4b45-863b-bdda63297af0",
   "metadata": {},
   "source": [
    "# [[n,4]]"
   ]
  },
  {
   "cell_type": "code",
   "execution_count": null,
   "id": "110757b2-d2a6-4131-bff7-7de0582fbc93",
   "metadata": {},
   "outputs": [],
   "source": [
    "orders_list = []\n",
    "k = 4\n",
    "n_max = 25\n",
    "for n in range(k,n_max+1):\n",
    "    orders_list.append(codetables_check_all_gates(n,k))\n",
    "print(k1_code_orders_list)"
   ]
  },
  {
   "cell_type": "markdown",
   "id": "da0965cd-b8ce-4ed6-beb4-e5499dd2e881",
   "metadata": {},
   "source": [
    "# [[n,5]]"
   ]
  },
  {
   "cell_type": "code",
   "execution_count": null,
   "id": "84d06aaa-151b-4fa3-9077-e72aa525e343",
   "metadata": {},
   "outputs": [],
   "source": [
    "orders_list = []\n",
    "k = 5\n",
    "n_max = 25\n",
    "for n in range(k,n_max+1):\n",
    "    orders_list.append(codetables_check_all_gates(n,k))\n",
    "print(k1_code_orders_list)"
   ]
  }
 ],
 "metadata": {
  "kernelspec": {
   "display_name": "Python 3 (ipykernel)",
   "language": "python",
   "name": "python3"
  },
  "language_info": {
   "codemirror_mode": {
    "name": "ipython",
    "version": 3
   },
   "file_extension": ".py",
   "mimetype": "text/x-python",
   "name": "python",
   "nbconvert_exporter": "python",
   "pygments_lexer": "ipython3",
   "version": "3.11.5"
  }
 },
 "nbformat": 4,
 "nbformat_minor": 5
}
