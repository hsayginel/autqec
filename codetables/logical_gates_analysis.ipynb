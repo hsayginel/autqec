{
 "cells": [
  {
   "cell_type": "code",
   "execution_count": 1,
   "id": "056f047c-7606-4f49-ba72-47d8ac784272",
   "metadata": {},
   "outputs": [],
   "source": [
    "import pickle\n",
    "import os\n",
    "from logical_subgroups import *"
   ]
  },
  {
   "cell_type": "markdown",
   "id": "3e03f808-ffed-4dfe-a2a0-d3c390add01f",
   "metadata": {},
   "source": [
    "# [[n,1]]"
   ]
  },
  {
   "cell_type": "code",
   "execution_count": null,
   "id": "36b3aa2e-1df4-41f3-bf6f-e8aeb5537e58",
   "metadata": {},
   "outputs": [],
   "source": [
    "orders_list = []\n",
    "k = 1 \n",
    "n_max = 25\n",
    "for n in range(1,n_max+1):\n",
    "    orders_list.append(codetables_check_all_gates(n,k))\n",
    "print(k1_code_orders_list)"
   ]
  },
  {
   "cell_type": "markdown",
   "id": "dcbb49de-fa3c-46f9-ab5d-6cceb6bed601",
   "metadata": {},
   "source": [
    "# [[n,2]]"
   ]
  },
  {
   "cell_type": "code",
   "execution_count": null,
   "id": "4624f8b5-cece-41c3-9563-3a3bc1d072e4",
   "metadata": {
    "scrolled": true
   },
   "outputs": [],
   "source": [
    "orders_list = []\n",
    "k = 2\n",
    "n_max = 25\n",
    "for n in range(k,n_max+1):\n",
    "    orders_list.append(codetables_check_all_gates(n,k))\n",
    "print(k1_code_orders_list)"
   ]
  },
  {
   "cell_type": "code",
   "execution_count": 2,
   "id": "579fb18d-48a9-4735-b2bc-513ec3310afa",
   "metadata": {},
   "outputs": [
    {
     "name": "stdout",
     "output_type": "stream",
     "text": [
      "n28k2 12\n",
      "n28k2 D6\n",
      "(12, {'CNOT_(1,2)': 'a2', 'CZ_(1,2)': 'a2'})\n",
      "\n"
     ]
    },
    {
     "data": {
      "text/plain": [
       "12"
      ]
     },
     "execution_count": 2,
     "metadata": {},
     "output_type": "execute_result"
    }
   ],
   "source": [
    "codetables_check_all_gates(n=28,k=2)"
   ]
  },
  {
   "cell_type": "code",
   "execution_count": 3,
   "id": "a941224d-a4cc-43bd-9851-0c66299c8db7",
   "metadata": {},
   "outputs": [
    {
     "name": "stdout",
     "output_type": "stream",
     "text": [
      "[[('X', 1), ('Z', 2), ('CZ', (1, 2)), ('CNOT', (1, 2))], [('CZ', (1, 2))], [('Z', 1), ('X', 2), ('S', 1), ('S', 2), ('CNOT', (2, 1)), ('SWAP', (2, 1))], []]\n"
     ]
    },
    {
     "data": {
      "text/plain": [
       "{'physical': [[('H', 1),\n",
       "   ('H', 2),\n",
       "   ('H', 3),\n",
       "   ('H', 4),\n",
       "   ('H', 5),\n",
       "   ('H', 6),\n",
       "   ('H', 7),\n",
       "   ('H', 8),\n",
       "   ('H', 9),\n",
       "   ('H', 10),\n",
       "   ('H', 11),\n",
       "   ('H', 12),\n",
       "   ('H', 13),\n",
       "   ('H', 14),\n",
       "   ('H', 15),\n",
       "   ('H', 16),\n",
       "   ('H', 17),\n",
       "   ('H', 18),\n",
       "   ('H', 19),\n",
       "   ('H', 20),\n",
       "   ('H', 21),\n",
       "   ('H', 22),\n",
       "   ('H', 23),\n",
       "   ('H', 24),\n",
       "   ('H', 25),\n",
       "   ('H', 26),\n",
       "   ('H', 27),\n",
       "   ('H', 28),\n",
       "   ('SWAP', (24, 27)),\n",
       "   ('SWAP', (22, 26)),\n",
       "   ('SWAP', (20, 21)),\n",
       "   ('SWAP', (19, 25)),\n",
       "   ('SWAP', (17, 28)),\n",
       "   ('SWAP', (16, 18)),\n",
       "   ('SWAP', (15, 23)),\n",
       "   ('SWAP', (14, 15)),\n",
       "   ('SWAP', (13, 18)),\n",
       "   ('SWAP', (12, 17)),\n",
       "   ('SWAP', (11, 13)),\n",
       "   ('SWAP', (10, 25)),\n",
       "   ('SWAP', (9, 20)),\n",
       "   ('SWAP', (8, 20)),\n",
       "   ('SWAP', (7, 22)),\n",
       "   ('SWAP', (6, 15)),\n",
       "   ('SWAP', (5, 27)),\n",
       "   ('SWAP', (4, 10)),\n",
       "   ('SWAP', (3, 22)),\n",
       "   ('SWAP', (2, 5)),\n",
       "   ('SWAP', (1, 17))],\n",
       "  [('SWAP', (20, 28)),\n",
       "   ('SWAP', (17, 21)),\n",
       "   ('SWAP', (15, 18)),\n",
       "   ('SWAP', (13, 23)),\n",
       "   ('SWAP', (11, 14)),\n",
       "   ('SWAP', (10, 27)),\n",
       "   ('SWAP', (8, 12)),\n",
       "   ('SWAP', (7, 22)),\n",
       "   ('SWAP', (6, 16)),\n",
       "   ('SWAP', (5, 25)),\n",
       "   ('SWAP', (4, 24)),\n",
       "   ('SWAP', (2, 19)),\n",
       "   ('SWAP', (1, 9))],\n",
       "  [('GammaXYZ', 1),\n",
       "   ('GammaXYZ', 2),\n",
       "   ('GammaXYZ', 3),\n",
       "   ('GammaXYZ', 4),\n",
       "   ('GammaXYZ', 5),\n",
       "   ('GammaXYZ', 6),\n",
       "   ('GammaXYZ', 7),\n",
       "   ('GammaXYZ', 8),\n",
       "   ('GammaXYZ', 9),\n",
       "   ('GammaXYZ', 10),\n",
       "   ('GammaXYZ', 11),\n",
       "   ('GammaXYZ', 12),\n",
       "   ('GammaXYZ', 13),\n",
       "   ('GammaXYZ', 14),\n",
       "   ('GammaXYZ', 15),\n",
       "   ('GammaXYZ', 16),\n",
       "   ('GammaXYZ', 17),\n",
       "   ('GammaXYZ', 18),\n",
       "   ('GammaXYZ', 19),\n",
       "   ('GammaXYZ', 20),\n",
       "   ('GammaXYZ', 21),\n",
       "   ('GammaXYZ', 22),\n",
       "   ('GammaXYZ', 23),\n",
       "   ('GammaXYZ', 24),\n",
       "   ('GammaXYZ', 25),\n",
       "   ('GammaXYZ', 26),\n",
       "   ('GammaXYZ', 27),\n",
       "   ('GammaXYZ', 28)],\n",
       "  [('SWAP', (26, 27)),\n",
       "   ('SWAP', (24, 25)),\n",
       "   ('SWAP', (23, 25)),\n",
       "   ('SWAP', (22, 28)),\n",
       "   ('SWAP', (20, 25)),\n",
       "   ('SWAP', (19, 21)),\n",
       "   ('SWAP', (18, 27)),\n",
       "   ('SWAP', (17, 21)),\n",
       "   ('SWAP', (16, 20)),\n",
       "   ('SWAP', (15, 26)),\n",
       "   ('SWAP', (14, 21)),\n",
       "   ('SWAP', (13, 28)),\n",
       "   ('SWAP', (12, 15)),\n",
       "   ('SWAP', (11, 21)),\n",
       "   ('SWAP', (10, 27)),\n",
       "   ('SWAP', (9, 28)),\n",
       "   ('SWAP', (8, 10)),\n",
       "   ('SWAP', (7, 16)),\n",
       "   ('SWAP', (6, 22)),\n",
       "   ('SWAP', (5, 28)),\n",
       "   ('SWAP', (4, 5)),\n",
       "   ('SWAP', (3, 11)),\n",
       "   ('SWAP', (2, 17)),\n",
       "   ('SWAP', (1, 23))]],\n",
       " 'logical': [[('X', 1), ('Z', 2), ('CZ', (1, 2)), ('CNOT', (1, 2))],\n",
       "  [('CZ', (1, 2))],\n",
       "  [('Z', 1), ('X', 2), ('S', 1), ('S', 2), ('CNOT', (2, 1)), ('SWAP', (2, 1))],\n",
       "  []]}"
      ]
     },
     "execution_count": 3,
     "metadata": {},
     "output_type": "execute_result"
    }
   ],
   "source": [
    "print_code_logicals_data(28,2)"
   ]
  },
  {
   "cell_type": "markdown",
   "id": "63b5da30-ac3c-4851-9be7-7f084db63469",
   "metadata": {},
   "source": [
    "# [[n,3]]"
   ]
  },
  {
   "cell_type": "code",
   "execution_count": null,
   "id": "f7caf4a9-8834-4f29-95c2-202a689577bf",
   "metadata": {},
   "outputs": [],
   "source": [
    "orders_list = []\n",
    "k = 3\n",
    "n_max = 25\n",
    "for n in range(k,n_max+1):\n",
    "    orders_list.append(codetables_check_all_gates(n,k))\n",
    "print(k1_code_orders_list)"
   ]
  },
  {
   "cell_type": "markdown",
   "id": "fc5c2102-9bb5-4b45-863b-bdda63297af0",
   "metadata": {},
   "source": [
    "# [[n,4]]"
   ]
  },
  {
   "cell_type": "code",
   "execution_count": null,
   "id": "110757b2-d2a6-4131-bff7-7de0582fbc93",
   "metadata": {},
   "outputs": [],
   "source": [
    "orders_list = []\n",
    "k = 4\n",
    "n_max = 25\n",
    "for n in range(k,n_max+1):\n",
    "    orders_list.append(codetables_check_all_gates(n,k))\n",
    "print(k1_code_orders_list)"
   ]
  },
  {
   "cell_type": "markdown",
   "id": "da0965cd-b8ce-4ed6-beb4-e5499dd2e881",
   "metadata": {},
   "source": [
    "# [[n,5]]"
   ]
  },
  {
   "cell_type": "code",
   "execution_count": null,
   "id": "84d06aaa-151b-4fa3-9077-e72aa525e343",
   "metadata": {},
   "outputs": [],
   "source": [
    "orders_list = []\n",
    "k = 5\n",
    "n_max = 25\n",
    "for n in range(k,n_max+1):\n",
    "    orders_list.append(codetables_check_all_gates(n,k))\n",
    "print(k1_code_orders_list)"
   ]
  }
 ],
 "metadata": {
  "kernelspec": {
   "display_name": "Python 3 (ipykernel)",
   "language": "python",
   "name": "python3"
  },
  "language_info": {
   "codemirror_mode": {
    "name": "ipython",
    "version": 3
   },
   "file_extension": ".py",
   "mimetype": "text/x-python",
   "name": "python",
   "nbconvert_exporter": "python",
   "pygments_lexer": "ipython3",
   "version": "3.11.5"
  }
 },
 "nbformat": 4,
 "nbformat_minor": 5
}
